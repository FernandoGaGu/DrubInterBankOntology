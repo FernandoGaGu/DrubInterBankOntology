{
 "cells": [
  {
   "cell_type": "code",
   "execution_count": 132,
   "metadata": {
    "ExecuteTime": {
     "end_time": "2020-01-18T17:34:47.524791Z",
     "start_time": "2020-01-18T17:34:47.516221Z"
    },
    "scrolled": true
   },
   "outputs": [
    {
     "data": {
      "text/html": [
       "<div class=\"krn-spql\"><div class=\"magic\">Endpoint set to: http://192.168.1.121:9999/blazegraph/namespace/DIBO/sparql</div></div>"
      ],
      "text/plain": [
       "Endpoint set to: http://192.168.1.121:9999/blazegraph/namespace/DIBO/sparql\n"
      ]
     },
     "metadata": {},
     "output_type": "display_data"
    }
   ],
   "source": [
    "%endpoint http://192.168.1.121:9999/blazegraph/namespace/DIBO/sparql"
   ]
  },
  {
   "cell_type": "markdown",
   "metadata": {},
   "source": [
    "## Esta query prueba la **INFERENCIA**, se infiere la clase de la **DIANA**."
   ]
  },
  {
   "cell_type": "code",
   "execution_count": 133,
   "metadata": {
    "ExecuteTime": {
     "end_time": "2020-01-18T17:34:48.594549Z",
     "start_time": "2020-01-18T17:34:48.528448Z"
    },
    "scrolled": false
   },
   "outputs": [
    {
     "data": {
      "text/html": [
       "<div class=\"krn-spql\"><table><tr class=hdr><th>target</th>\n",
       "<th>type</th></tr><tr class=odd><td class=val><a href=\"https://w3id.org/def/DIBO/data/Fatty_acid_synthetase\" target=\"_other\">https://w3id.org/def/DIBO/data/Fatty_acid_synthetase</a></td>\n",
       "<td class=val><a href=\"https://w3id.org/def/DIBO/Protein\" target=\"_other\">https://w3id.org/def/DIBO/Protein</a></td></tr><tr class=even><td class=val><a href=\"https://w3id.org/def/DIBO/data/Muscarinic_acetylcholine_receptor_M1\" target=\"_other\">https://w3id.org/def/DIBO/data/Muscarinic_acetylcholine_receptor_M1</a></td>\n",
       "<td class=val><a href=\"https://w3id.org/def/DIBO/Protein\" target=\"_other\">https://w3id.org/def/DIBO/Protein</a></td></tr><tr class=odd><td class=val><a href=\"https://w3id.org/def/DIBO/data/Muscarinic_acetylcholine_receptor_M2\" target=\"_other\">https://w3id.org/def/DIBO/data/Muscarinic_acetylcholine_receptor_M2</a></td>\n",
       "<td class=val><a href=\"https://w3id.org/def/DIBO/Protein\" target=\"_other\">https://w3id.org/def/DIBO/Protein</a></td></tr><tr class=even><td class=val><a href=\"https://w3id.org/def/DIBO/data/Muscarinic_acetylcholine_receptor_M3\" target=\"_other\">https://w3id.org/def/DIBO/data/Muscarinic_acetylcholine_receptor_M3</a></td>\n",
       "<td class=val><a href=\"https://w3id.org/def/DIBO/Protein\" target=\"_other\">https://w3id.org/def/DIBO/Protein</a></td></tr><tr class=odd><td class=val><a href=\"https://w3id.org/def/DIBO/data/Muscarinic_acetylcholine_receptor_M4\" target=\"_other\">https://w3id.org/def/DIBO/data/Muscarinic_acetylcholine_receptor_M4</a></td>\n",
       "<td class=val><a href=\"https://w3id.org/def/DIBO/Protein\" target=\"_other\">https://w3id.org/def/DIBO/Protein</a></td></tr><tr class=even><td class=val><a href=\"https://w3id.org/def/DIBO/data/Thymidylate_synthase\" target=\"_other\">https://w3id.org/def/DIBO/data/Thymidylate_synthase</a></td>\n",
       "<td class=val><a href=\"https://w3id.org/def/DIBO/Protein\" target=\"_other\">https://w3id.org/def/DIBO/Protein</a></td></tr><tr class=odd><td class=val><a href=\"https://w3id.org/def/DIBO/data/Thymidylate_synthase\" target=\"_other\">https://w3id.org/def/DIBO/data/Thymidylate_synthase</a></td>\n",
       "<td class=val><a href=\"https://w3id.org/def/DIBO/Protein\" target=\"_other\">https://w3id.org/def/DIBO/Protein</a></td></tr><tr class=even><td class=val><a href=\"https://w3id.org/def/DIBO/data/Cytochrome_P450_19A1\" target=\"_other\">https://w3id.org/def/DIBO/data/Cytochrome_P450_19A1</a></td>\n",
       "<td class=val><a href=\"https://w3id.org/def/DIBO/Protein\" target=\"_other\">https://w3id.org/def/DIBO/Protein</a></td></tr><tr class=odd><td class=val><a href=\"https://w3id.org/def/DIBO/data/3_beta-hydroxysteroid_dehydrogenase/Delta_5--&gt;4-isomerase_type_1\" target=\"_other\">https://w3id.org/def/DIBO/data/3_beta-hydroxysteroid_dehydrogenase/Delta_5--&amp;gt;4-isomerase_type_1</a></td>\n",
       "<td class=val><a href=\"https://w3id.org/def/DIBO/Protein\" target=\"_other\">https://w3id.org/def/DIBO/Protein</a></td></tr><tr class=even><td class=val><a href=\"https://w3id.org/def/DIBO/data/6-deoxyerythronolide_B_hydroxylase\" target=\"_other\">https://w3id.org/def/DIBO/data/6-deoxyerythronolide_B_hydroxylase</a></td>\n",
       "<td class=val><a href=\"https://w3id.org/def/DIBO/Protein\" target=\"_other\">https://w3id.org/def/DIBO/Protein</a></td></tr></table><div class=\"tinfo\">Total: 10, Shown: 10</div></div>"
      ]
     },
     "metadata": {},
     "output_type": "display_data"
    }
   ],
   "source": [
    "PREFIX dibo: <https://w3id.org/def/DIBO#>\n",
    "PREFIX dibo_core: <https://w3id.org/def/DIBO/>\n",
    "PREFIX dibo_data: <https://w3id.org/def/DIBO/data>\n",
    "PREFIX rdf: <https://w3id.org/1999/02/22-rdf-syntax-ns#>\n",
    "PREFIX rdfs: <http://www.w3.org/2000/01/rdf-schema#>\n",
    "PREFIX xsd: <'https://w3id.org/2001/XMLSchema#>\n",
    "SELECT ?target ?type\n",
    "WHERE {      \n",
    "    ?interaction dibo:hasTarget ?target .\n",
    "    ?target rdf:type ?type\n",
    "\n",
    "} LIMIT 10"
   ]
  },
  {
   "cell_type": "markdown",
   "metadata": {},
   "source": [
    "## Todos los **FÁRMACOS**, su **DIANA**, el **TIPO DE INTERACCIÓN** y la **FUNCIÓN DE LA DIANA**."
   ]
  },
  {
   "cell_type": "code",
   "execution_count": 134,
   "metadata": {
    "ExecuteTime": {
     "end_time": "2020-01-18T17:34:51.967536Z",
     "start_time": "2020-01-18T17:34:51.922941Z"
    }
   },
   "outputs": [
    {
     "data": {
      "text/html": [
       "<div class=\"krn-spql\"><table><tr class=hdr><th>drugName</th>\n",
       "<th>interactionType</th>\n",
       "<th>targetName</th>\n",
       "<th>targetFunction</th></tr><tr class=odd><td class=val>Methotrexate (JP17/USP/INN)</td>\n",
       "<td class=val>Antagonism</td>\n",
       "<td class=val>Dihydrofolate reductase</td>\n",
       "<td class=val>nadph binding</td></tr><tr class=even><td class=val>Methotrexate (JP17/USP/INN)</td>\n",
       "<td class=val>Antagonism</td>\n",
       "<td class=val>Thymidylate synthase</td>\n",
       "<td class=val>thymidylate synthase activity</td></tr><tr class=odd><td class=val>Methotrexate (JP17/USP/INN)</td>\n",
       "<td class=val>Antagonism</td>\n",
       "<td class=val>Bifunctional purine biosynthesis protein PURH</td>\n",
       "<td class=val>protein homodimerization activity</td></tr><tr class=even><td class=val>Mefenamic acid (JP17/USP/INN)</td>\n",
       "<td class=val>Antagonism</td>\n",
       "<td class=val>Prostaglandin G/H synthase 2</td>\n",
       "<td class=val>prostaglandin-endoperoxide synthase activity</td></tr><tr class=odd><td class=val>Mefenamic acid (JP17/USP/INN)</td>\n",
       "<td class=val>Antagonism</td>\n",
       "<td class=val>Prostaglandin G/H synthase 1</td>\n",
       "<td class=val>prostaglandin-endoperoxide synthase activity</td></tr><tr class=even><td class=val>Testolactone (USP/INN)</td>\n",
       "<td class=val>Antagonism</td>\n",
       "<td class=val>Cytochrome P450 19A1</td>\n",
       "<td class=val>oxygen binding</td></tr><tr class=odd><td class=val>Tolmetin sodium (JAN/USP)</td>\n",
       "<td class=val>Antagonism</td>\n",
       "<td class=val>Prostaglandin G/H synthase 2</td>\n",
       "<td class=val>prostaglandin-endoperoxide synthase activity</td></tr><tr class=even><td class=val>Tolmetin sodium (JAN/USP)</td>\n",
       "<td class=val>Antagonism</td>\n",
       "<td class=val>Prostaglandin G/H synthase 1</td>\n",
       "<td class=val>prostaglandin-endoperoxide synthase activity</td></tr><tr class=odd><td class=val>Dinoprostone (JAN/USP/INN)</td>\n",
       "<td class=val>Agonism</td>\n",
       "<td class=val>Prostaglandin E2 receptor EP2 subtype</td>\n",
       "<td class=val>prostaglandin e receptor activity</td></tr><tr class=even><td class=val>Dinoprostone (JAN/USP/INN)</td>\n",
       "<td class=val>Agonism</td>\n",
       "<td class=val>Prostaglandin E2 receptor EP1 subtype</td>\n",
       "<td class=val>prostaglandin e receptor activity</td></tr></table><div class=\"tinfo\">Total: 10, Shown: 10</div></div>"
      ]
     },
     "metadata": {},
     "output_type": "display_data"
    }
   ],
   "source": [
    "PREFIX dibo: <https://w3id.org/def/DIBO#>\n",
    "PREFIX dibo_core: <https://w3id.org/def/DIBO/>\n",
    "PREFIX dibo_data: <https://w3id.org/def/DIBO/data>\n",
    "PREFIX rdf: <https://w3id.org/1999/02/22-rdf-syntax-ns#>\n",
    "PREFIX rdfs: <http://www.w3.org/2000/01/rdf-schema#>\n",
    "PREFIX xsd: <'https://w3id.org/2001/XMLSchema#>\n",
    "SELECT ?drugName ?interactionType ?targetName ?targetFunction\n",
    "WHERE {      \n",
    "    ?interaction dibo:hasTarget ?target .\n",
    "    ?target dibo:hasName ?targetName .\n",
    "    ?target dibo:hasFunction ?targetFunction .\n",
    "    ?interaction dibo:hasDrug ?drug .\n",
    "    ?drug dibo:hasScientificName ?drugName .\n",
    "    ?interaction rdf:type ?interactionClass .\n",
    "    ?interactionClass rdfs:label ?interactionType\n",
    "} limit 10"
   ]
  },
  {
   "cell_type": "markdown",
   "metadata": {},
   "source": [
    "## Lista de **FÁRMACOS**, **AGRUPACIÓN FUNCTIONAL (tipo de agente)** y la **DESCRIPCIÓN DE LA FUNCIÓN**"
   ]
  },
  {
   "cell_type": "code",
   "execution_count": 135,
   "metadata": {
    "ExecuteTime": {
     "end_time": "2020-01-18T17:34:56.958262Z",
     "start_time": "2020-01-18T17:34:56.909710Z"
    }
   },
   "outputs": [
    {
     "data": {
      "text/html": [
       "<div class=\"krn-spql\"><table><tr class=hdr><th>drug_name</th>\n",
       "<th>functionallyGroupedIn</th>\n",
       "<th>functionDescription</th></tr><tr class=odd><td class=val>Epoprostenol (USAN/INN)</td>\n",
       "<td class=val>Agent Affecting Cardiovascular System</td>\n",
       "<td class=val>An agent that exerts a physiologic effect on any anatomic entity that is part of the cardiovascular system, including the heart and blood vessels.</td></tr><tr class=even><td class=val>Chloramphenicol (JP17/USP/INN)</td>\n",
       "<td class=val>Anti Infective Agent</td>\n",
       "<td class=val>A pharmacological agent that can kill or prevent the reproduction of infectious organisms.</td></tr><tr class=odd><td class=val>Capreomycin sulfate (JAN/USP)</td>\n",
       "<td class=val>Anti Infective Agent</td>\n",
       "<td class=val>A pharmacological agent that can kill or prevent the reproduction of infectious organisms.</td></tr><tr class=even><td class=val>Trimethoprim (JAN/USP/INN)</td>\n",
       "<td class=val>Anti Infective Agent</td>\n",
       "<td class=val>A pharmacological agent that can kill or prevent the reproduction of infectious organisms.</td></tr><tr class=odd><td class=val>Folic acid (JP17/USP/INN)</td>\n",
       "<td class=val>Antineoplasic Agent</td>\n",
       "<td class=val>A substance that inhibits the maturation, growth or spread of tumor cells.</td></tr><tr class=even><td class=val>Etoposide (JP17/USP/INN)</td>\n",
       "<td class=val>Antineoplasic Agent</td>\n",
       "<td class=val>A substance that inhibits the maturation, growth or spread of tumor cells.</td></tr><tr class=odd><td class=val>Methotrexate (JP17/USP/INN)</td>\n",
       "<td class=val>Antineoplasic Agent</td>\n",
       "<td class=val>A substance that inhibits the maturation, growth or spread of tumor cells.</td></tr><tr class=even><td class=val>Testolactone (USP/INN)</td>\n",
       "<td class=val>Antineoplasic Agent</td>\n",
       "<td class=val>A substance that inhibits the maturation, growth or spread of tumor cells.</td></tr></table><div class=\"tinfo\">Total: 8, Shown: 8</div></div>"
      ]
     },
     "metadata": {},
     "output_type": "display_data"
    }
   ],
   "source": [
    "PREFIX dibo: <https://w3id.org/def/DIBO#>\n",
    "PREFIX dibo_core: <https://w3id.org/def/DIBO/>\n",
    "PREFIX dibo_data: <https://w3id.org/def/DIBO/data>\n",
    "PREFIX rdf: <https://w3id.org/1999/02/22-rdf-syntax-ns#>\n",
    "PREFIX rdfs: <http://www.w3.org/2000/01/rdf-schema#>\n",
    "\n",
    "SELECT ?drug_name ?functionallyGroupedIn ?functionDescription\n",
    "WHERE {\n",
    "    ?drug rdf:type dibo_core:Drug .\n",
    "    ?drug dibo:hasScientificName ?drug_name .\n",
    "    ?drug dibo:functionallyGroupedIn ?function .\n",
    "    ?function rdfs:label ?functionallyGroupedIn .\n",
    "    ?function rdfs:comment ?functionDescription \n",
    "}"
   ]
  },
  {
   "cell_type": "markdown",
   "metadata": {},
   "source": [
    "## Lista de **FÁRMACOS**, **AGRUPACIÓN FUNCTIONAL (tipo de agente)**, **DIANA** y **FUNCIÓN DE LA DIANA**"
   ]
  },
  {
   "cell_type": "code",
   "execution_count": 136,
   "metadata": {
    "ExecuteTime": {
     "end_time": "2020-01-18T17:35:02.914069Z",
     "start_time": "2020-01-18T17:35:02.857487Z"
    }
   },
   "outputs": [
    {
     "data": {
      "text/html": [
       "<div class=\"krn-spql\"><table><tr class=hdr><th>drug_name</th>\n",
       "<th>functionallyGroupedIn</th>\n",
       "<th>targetName</th>\n",
       "<th>targetFunction</th></tr><tr class=odd><td class=val>Folic acid (JP17/USP/INN)</td>\n",
       "<td class=val>Antineoplasic Agent</td>\n",
       "<td class=val>Folate receptor alpha</td>\n",
       "<td class=val>binds to folate and reduced folic acid derivatives and mediates delivery of 5-methyltetrahydrofolate and folate analogs into the interior of cells. has high affinity for folate and folic acid analo...</td></tr><tr class=even><td class=val>Folic acid (JP17/USP/INN)</td>\n",
       "<td class=val>Antineoplasic Agent</td>\n",
       "<td class=val>Folate receptor beta</td>\n",
       "<td class=val>methotrexate binding</td></tr><tr class=odd><td class=val>Folic acid (JP17/USP/INN)</td>\n",
       "<td class=val>Antineoplasic Agent</td>\n",
       "<td class=val>Folate receptor gamma</td>\n",
       "<td class=val>folic acid binding</td></tr><tr class=even><td class=val>Chloramphenicol (JP17/USP/INN)</td>\n",
       "<td class=val>Anti Infective Agent</td>\n",
       "<td class=val>50S ribosomal protein L16</td>\n",
       "<td class=val>trna binding</td></tr><tr class=odd><td class=val>Chloramphenicol (JP17/USP/INN)</td>\n",
       "<td class=val>Anti Infective Agent</td>\n",
       "<td class=val>Complement decay-accelerating factor</td>\n",
       "<td class=val>virus receptor activity</td></tr><tr class=even><td class=val>Chloramphenicol (JP17/USP/INN)</td>\n",
       "<td class=val>Anti Infective Agent</td>\n",
       "<td class=val>Dr hemagglutinin structural subunit</td>\n",
       "<td class=val>not available</td></tr><tr class=odd><td class=val>Epoprostenol (USAN/INN)</td>\n",
       "<td class=val>Agent Affecting Cardiovascular System</td>\n",
       "<td class=val>P2Y purinoceptor 12</td>\n",
       "<td class=val>guanyl-nucleotide exchange factor activity</td></tr><tr class=even><td class=val>Epoprostenol (USAN/INN)</td>\n",
       "<td class=val>Agent Affecting Cardiovascular System</td>\n",
       "<td class=val>Prostacyclin receptor</td>\n",
       "<td class=val>guanyl-nucleotide exchange factor activity</td></tr><tr class=odd><td class=val>Epoprostenol (USAN/INN)</td>\n",
       "<td class=val>Agent Affecting Cardiovascular System</td>\n",
       "<td class=val>Prostacyclin synthase</td>\n",
       "<td class=val>prostaglandin-i synthase activity</td></tr><tr class=even><td class=val>Etoposide (JP17/USP/INN)</td>\n",
       "<td class=val>Antineoplasic Agent</td>\n",
       "<td class=val>DNA topoisomerase 2-alpha</td>\n",
       "<td class=val>ubiquitin binding</td></tr><tr class=odd><td class=val>Etoposide (JP17/USP/INN)</td>\n",
       "<td class=val>Antineoplasic Agent</td>\n",
       "<td class=val>DNA topoisomerase 2-beta</td>\n",
       "<td class=val>protein kinase c binding</td></tr><tr class=even><td class=val>Capreomycin sulfate (JAN/USP)</td>\n",
       "<td class=val>Anti Infective Agent</td>\n",
       "<td class=val>16S/23S rRNA (cytidine-2'-O)-methyltransferase TlyA</td>\n",
       "<td class=val>acts as a host evasion factor, that significantly contributes to the pathogenesis of m.tuberculosis by modulating adaptive immune responses by inhibiting host-protective th1 and th17 cytokine responses as well as autophagy (pubmed:25847237). catalyzes the 2'-o-methylation at nucleotides c1409 in 16s rrna and c1920 in 23s rrna (pubmed:16857584, pubmed:20854656). is likely involved in ribosomal biogenesis (pubmed:21443791). also exhibits hemolytic activity in vitro, by binding with and oligomerizing into host cell membranes (pubmed:20854656, pubmed:9611795).</td></tr><tr class=odd><td class=val>Methotrexate (JP17/USP/INN)</td>\n",
       "<td class=val>Antineoplasic Agent</td>\n",
       "<td class=val>Bifunctional purine biosynthesis protein PURH</td>\n",
       "<td class=val>protein homodimerization activity</td></tr><tr class=even><td class=val>Methotrexate (JP17/USP/INN)</td>\n",
       "<td class=val>Antineoplasic Agent</td>\n",
       "<td class=val>Dihydrofolate reductase</td>\n",
       "<td class=val>nadph binding</td></tr><tr class=odd><td class=val>Trimethoprim (JAN/USP/INN)</td>\n",
       "<td class=val>Anti Infective Agent</td>\n",
       "<td class=val>Dihydrofolate reductase</td>\n",
       "<td class=val>nadph binding</td></tr><tr class=even><td class=val>Methotrexate (JP17/USP/INN)</td>\n",
       "<td class=val>Antineoplasic Agent</td>\n",
       "<td class=val>Thymidylate synthase</td>\n",
       "<td class=val>thymidylate synthase activity</td></tr><tr class=odd><td class=val>Trimethoprim (JAN/USP/INN)</td>\n",
       "<td class=val>Anti Infective Agent</td>\n",
       "<td class=val>Thymidylate synthase</td>\n",
       "<td class=val>thymidylate synthase activity</td></tr><tr class=even><td class=val>Testolactone (USP/INN)</td>\n",
       "<td class=val>Antineoplasic Agent</td>\n",
       "<td class=val>Cytochrome P450 19A1</td>\n",
       "<td class=val>oxygen binding</td></tr></table><div class=\"tinfo\">Total: 18, Shown: 18</div></div>"
      ]
     },
     "metadata": {},
     "output_type": "display_data"
    }
   ],
   "source": [
    "PREFIX dibo: <https://w3id.org/def/DIBO#>\n",
    "PREFIX dibo_core: <https://w3id.org/def/DIBO/>\n",
    "PREFIX dibo_data: <https://w3id.org/def/DIBO/data>\n",
    "PREFIX rdf: <https://w3id.org/1999/02/22-rdf-syntax-ns#>\n",
    "PREFIX rdfs: <http://www.w3.org/2000/01/rdf-schema#>\n",
    "\n",
    "SELECT ?drug_name ?functionallyGroupedIn  ?targetName ?targetFunction\n",
    "WHERE {\n",
    "    ?drug rdf:type dibo_core:Drug .\n",
    "    ?drug dibo:hasScientificName ?drug_name .\n",
    "    ?drug dibo:functionallyGroupedIn ?function .\n",
    "    ?function rdfs:label ?functionallyGroupedIn .\n",
    "    ?interaction dibo:hasDrug ?drug .\n",
    "    ?interaction dibo:hasTarget ?target .\n",
    "    ?target dibo:hasFunction ?targetFunction .\n",
    "    ?target dibo:hasName ?targetName\n",
    "}"
   ]
  },
  {
   "cell_type": "markdown",
   "metadata": {},
   "source": [
    "## PROPIEDADES de un fármaco"
   ]
  },
  {
   "cell_type": "code",
   "execution_count": 137,
   "metadata": {
    "ExecuteTime": {
     "end_time": "2020-01-18T17:35:06.889838Z",
     "start_time": "2020-01-18T17:35:06.803383Z"
    }
   },
   "outputs": [
    {
     "data": {
      "text/html": [
       "<div class=\"krn-spql\"><table><tr class=hdr><th>drug_name</th>\n",
       "<th>formula</th>\n",
       "<th>mmValue</th>\n",
       "<th>mmUnit</th>\n",
       "<th>half_life</th>\n",
       "<th>drugbank</th>\n",
       "<th>chEBI</th></tr><tr class=odd><td class=val>Niacin (USP)</td>\n",
       "<td class=val>C6H5NO2</td>\n",
       "<td class=val>123.032</td>\n",
       "<td class=val>Da</td>\n",
       "<td class=val>UNKNOWN</td>\n",
       "<td class=val>DB00627</td>\n",
       "<td class=val>15940</td></tr><tr class=even><td class=val>Methionine (USP)</td>\n",
       "<td class=val>C5H11NO2S</td>\n",
       "<td class=val>149.051</td>\n",
       "<td class=val>Da</td>\n",
       "<td class=val>UNKNOWN</td>\n",
       "<td class=val>DB00134</td>\n",
       "<td class=val>16643</td></tr><tr class=odd><td class=val>Levodopa (JP17/USP/INN)</td>\n",
       "<td class=val>C9H11NO4</td>\n",
       "<td class=val>197.0688</td>\n",
       "<td class=val>Da</td>\n",
       "<td class=val>UNKNOWN</td>\n",
       "<td class=val>DB01235</td>\n",
       "<td class=val>15765</td></tr><tr class=even><td class=val>Tryptophan (USP/INN)</td>\n",
       "<td class=val>C11H12N2O2</td>\n",
       "<td class=val>204.0899</td>\n",
       "<td class=val>Da</td>\n",
       "<td class=val>UNKNOWN</td>\n",
       "<td class=val>DB00150</td>\n",
       "<td class=val>16828</td></tr><tr class=odd><td class=val>Adenosine (JAN/USP)</td>\n",
       "<td class=val>C10H13N5O4</td>\n",
       "<td class=val>267.0968</td>\n",
       "<td class=val>Da</td>\n",
       "<td class=val>UNKNOWN</td>\n",
       "<td class=val>DB00640</td>\n",
       "<td class=val>16335</td></tr><tr class=even><td class=val>Androstenedione (JAN)</td>\n",
       "<td class=val>C19H26O2</td>\n",
       "<td class=val>286.1933</td>\n",
       "<td class=val>Da</td>\n",
       "<td class=val>UNKNOWN</td>\n",
       "<td class=val>DB01536</td>\n",
       "<td class=val>16422</td></tr><tr class=odd><td class=val>Testosterone (JAN/USP)</td>\n",
       "<td class=val>C19H28O2</td>\n",
       "<td class=val>288.2089</td>\n",
       "<td class=val>Da</td>\n",
       "<td class=val>UNKNOWN</td>\n",
       "<td class=val>DB00624</td>\n",
       "<td class=val>17347</td></tr><tr class=even><td class=val>Formaldehyde (USP)</td>\n",
       "<td class=val>CH2O</td>\n",
       "<td class=val>30.0106</td>\n",
       "<td class=val>Da</td>\n",
       "<td class=val>UNKNOWN</td>\n",
       "<td class=val>DB03843</td>\n",
       "<td class=val>16842</td></tr><tr class=odd><td class=val>Dinoprostone (JAN/USP/INN)</td>\n",
       "<td class=val>C20H32O5</td>\n",
       "<td class=val>352.225</td>\n",
       "<td class=val>Da</td>\n",
       "<td class=val>UNKNOWN</td>\n",
       "<td class=val>DB00917</td>\n",
       "<td class=val>15551</td></tr><tr class=even><td class=val>Epoprostenol (USAN/INN)</td>\n",
       "<td class=val>C20H32O5</td>\n",
       "<td class=val>352.225</td>\n",
       "<td class=val>Da</td>\n",
       "<td class=val>The in vitro half-life of epoprostenol in human blood at 37��C and pH 7.4 is approximately 6 minutes; the in vivo half-life of epoprostenol in humans is therefore expected to be no greater than 6 minutes.</td>\n",
       "<td class=val>DB01240</td>\n",
       "<td class=val>15552</td></tr><tr class=odd><td class=val>Hydrocortisone (JP17/USP/INN)</td>\n",
       "<td class=val>C21H30O5</td>\n",
       "<td class=val>362.2093</td>\n",
       "<td class=val>Da</td>\n",
       "<td class=val>UNKNOWN</td>\n",
       "<td class=val>DB00741</td>\n",
       "<td class=val>17650</td></tr><tr class=even><td class=val>Riboflavin (JP17/USP/INN)</td>\n",
       "<td class=val>C17H20N4O6</td>\n",
       "<td class=val>376.1383</td>\n",
       "<td class=val>Da</td>\n",
       "<td class=val>UNKNOWN</td>\n",
       "<td class=val>DB00140</td>\n",
       "<td class=val>17015</td></tr><tr class=odd><td class=val>Folic acid (JP17/USP/INN)</td>\n",
       "<td class=val>C19H19N7O6</td>\n",
       "<td class=val>441.1397</td>\n",
       "<td class=val>Da</td>\n",
       "<td class=val>UNKNOWN</td>\n",
       "<td class=val>DB00158</td>\n",
       "<td class=val>27470</td></tr><tr class=even><td class=val>Oxytocin (JP17/USP/INN)</td>\n",
       "<td class=val>C43H66N12O12S2</td>\n",
       "<td class=val>1006.4365</td>\n",
       "<td class=val>Da</td>\n",
       "<td class=val>UNKNOWN</td>\n",
       "<td class=val>DB00107</td>\n",
       "<td class=val>7872</td></tr><tr class=odd><td class=val>Salicylic acid (JP17/USP)</td>\n",
       "<td class=val>C7H6O3</td>\n",
       "<td class=val>138.0317</td>\n",
       "<td class=val>Da</td>\n",
       "<td class=val>UNKNOWN</td>\n",
       "<td class=val>DB00936</td>\n",
       "<td class=val>16914</td></tr><tr class=even><td class=val>Epinephrine (USP/INN)</td>\n",
       "<td class=val>C9H13NO3</td>\n",
       "<td class=val>183.0895</td>\n",
       "<td class=val>Da</td>\n",
       "<td class=val>UNKOWN</td>\n",
       "<td class=val>DB00668</td>\n",
       "<td class=val>28918</td></tr><tr class=odd><td class=val>Chloramphenicol (JP17/USP/INN)</td>\n",
       "<td class=val>C11H12Cl2N2O5</td>\n",
       "<td class=val>322.0123</td>\n",
       "<td class=val>Da</td>\n",
       "<td class=val>Half-life in adults with normal hepatic and renal function is 1.5 - 3.5 hours. In patients with impaired renal function half-life is 3 - 4 hours. In patients with severely impaired hepatic function half-life is 4.6 - 11.6 hours. Half-life in children 1 month to 16 years old is 3 - 6.5 hours, while half-life in infants 1 to 2 days old is 24 hours or longer and is highly variable, especially in low birth-weight infants.</td>\n",
       "<td class=val>DB00446</td>\n",
       "<td class=val>17698</td></tr><tr class=even><td class=val>Tacrolimus (USP/INN)</td>\n",
       "<td class=val>C44H69NO12. H2O</td>\n",
       "<td class=val>821.4925</td>\n",
       "<td class=val>Da</td>\n",
       "<td class=val>UNKNOWN</td>\n",
       "<td class=val>DB00864</td>\n",
       "<td class=val>61057</td></tr><tr class=odd><td class=val>Piroxicam (JP17/USP/INN)</td>\n",
       "<td class=val>C15H13N3O4S</td>\n",
       "<td class=val>331.0627</td>\n",
       "<td class=val>Da</td>\n",
       "<td class=val>A cyclooxygenase inhibiting, non-steroidal anti-inflammatory agent (NSAID) that is well established in treating rheumatoid arthritis and osteoarthritis and used for musculoskeletal disorders, dysmenorrhea, and postoperative pain. Its long half-life enables it to be administered once daily.</td>\n",
       "<td class=val>DB00554</td>\n",
       "<td class=val>8249</td></tr><tr class=even><td class=val>Glucagon (JAN/USP/INN)</td>\n",
       "<td class=val>C153H225N43O49S</td>\n",
       "<td class=val>3480.6157</td>\n",
       "<td class=val>Da</td>\n",
       "<td class=val>UNKNOWN</td>\n",
       "<td class=val>DB00040</td>\n",
       "<td class=val>5391</td></tr></table><div class=\"tinfo\">Total: 37, Shown: 20</div></div>"
      ]
     },
     "metadata": {},
     "output_type": "display_data"
    }
   ],
   "source": [
    "PREFIX dibo: <https://w3id.org/def/DIBO#>\n",
    "PREFIX dibo_core: <https://w3id.org/def/DIBO/>\n",
    "PREFIX dibo_data: <https://w3id.org/def/DIBO/data>\n",
    "PREFIX rdf: <https://w3id.org/1999/02/22-rdf-syntax-ns#>\n",
    "PREFIX rdfs: <http://www.w3.org/2000/01/rdf-schema#>\n",
    "SELECT ?drug_name ?formula ?mmValue ?mmUnit ?half_life ?drugbank ?chEBI\n",
    "WHERE {\n",
    "    ?drug rdf:type dibo_core:Drug .\n",
    "    ?drug dibo:hasScientificName ?drug_name .\n",
    "    ?drug dibo:hasMolecularFormula ?formula .\n",
    "    ?drug dibo:hasMolecularMass ?molecularMass .\n",
    "    ?molecularMass rdf:type ?class .\n",
    "    ?molecularMass dibo:hasUnit ?mmUnit .\n",
    "    ?molecularMass dibo:hasValue ?mmValue .\n",
    "    ?drug dibo:hasHalfLife ?half_life .\n",
    "    ?drug dibo:hasDrugBankId ?drugbank .\n",
    "    ?drug dibo:hasChebiId ?chEBI \n",
    "} "
   ]
  },
  {
   "cell_type": "markdown",
   "metadata": {},
   "source": [
    "## Todos los FÁRMACOS que actuan como AGONISTAS (Incrementan la actividad) de una ENZIMA concreta, por ejemplo del \"**Dopamine_D4_receptor**\".\n",
    "\n",
    "(NO SE QUE PROBLEMA HAY CON LOS DATATYPES QUE NO FUNCIONAN BIEN)"
   ]
  },
  {
   "cell_type": "code",
   "execution_count": 138,
   "metadata": {
    "ExecuteTime": {
     "end_time": "2020-01-18T17:35:13.584206Z",
     "start_time": "2020-01-18T17:35:13.530206Z"
    }
   },
   "outputs": [
    {
     "data": {
      "text/html": [
       "<div class=\"krn-spql\"><table><tr class=hdr><th>name</th></tr></table><div class=\"tinfo\">Total: 0, Shown: 0</div></div>"
      ]
     },
     "metadata": {},
     "output_type": "display_data"
    }
   ],
   "source": [
    "PREFIX dibo: <https://w3id.org/def/DIBO#>\n",
    "PREFIX dibo_core: <https://w3id.org/def/DIBO/>\n",
    "PREFIX dibo_data: <https://w3id.org/def/DIBO/data/>\n",
    "PREFIX rdf: <https://w3id.org/1999/02/22-rdf-syntax-ns#>\n",
    "PREFIX rdfs: <http://www.w3.org/2000/01/rdf-schema#>\n",
    "SELECT DISTINCT  ?name\n",
    "WHERE {      \n",
    "    ?interaction dibo:hasTarget ?protein .\n",
    "    ?interaction rdf:type dibo_core:Agonism .\n",
    "    ?proten rdf:type dibo_core:Protein .\n",
    "    ?protein dibo:hasName ?name .\n",
    "    FILTER REGEX(?name, \"dopamine receptor\", \"i\")\n",
    "} LIMIT 10"
   ]
  },
  {
   "cell_type": "markdown",
   "metadata": {},
   "source": [
    "## Busca los FÁRMACOS que actúan como AGONISTAS para la PROTEÍNA con UNIPROT ID \"P21728\" (*Dopamine receptor*)"
   ]
  },
  {
   "cell_type": "code",
   "execution_count": 139,
   "metadata": {
    "ExecuteTime": {
     "end_time": "2020-01-18T17:35:15.530126Z",
     "start_time": "2020-01-18T17:35:15.484920Z"
    },
    "scrolled": false
   },
   "outputs": [
    {
     "data": {
      "text/html": [
       "<div class=\"krn-spql\"><table><tr class=hdr><th>protein</th>\n",
       "<th>drugName</th>\n",
       "<th>otherName</th></tr><tr class=odd><td class=val><a href=\"https://w3id.org/def/DIBO/data/Dopamine_D1_receptor\" target=\"_other\">https://w3id.org/def/DIBO/data/Dopamine_D1_receptor</a></td>\n",
       "<td class=val>Levodopa (JP17/USP/INN)</td>\n",
       "<td class=val>Dopar (TN)</td></tr><tr class=even><td class=val><a href=\"https://w3id.org/def/DIBO/data/Dopamine_D5_receptor\" target=\"_other\">https://w3id.org/def/DIBO/data/Dopamine_D5_receptor</a></td>\n",
       "<td class=val>Levodopa (JP17/USP/INN)</td>\n",
       "<td class=val>Dopar (TN)</td></tr><tr class=odd><td class=val><a href=\"https://w3id.org/def/DIBO/data/Dopamine_D2_receptor\" target=\"_other\">https://w3id.org/def/DIBO/data/Dopamine_D2_receptor</a></td>\n",
       "<td class=val>Levodopa (JP17/USP/INN)</td>\n",
       "<td class=val>Dopar (TN)</td></tr><tr class=even><td class=val><a href=\"https://w3id.org/def/DIBO/data/Dopamine_D3_receptor\" target=\"_other\">https://w3id.org/def/DIBO/data/Dopamine_D3_receptor</a></td>\n",
       "<td class=val>Levodopa (JP17/USP/INN)</td>\n",
       "<td class=val>Dopar (TN)</td></tr><tr class=odd><td class=val><a href=\"https://w3id.org/def/DIBO/data/Dopamine_D4_receptor\" target=\"_other\">https://w3id.org/def/DIBO/data/Dopamine_D4_receptor</a></td>\n",
       "<td class=val>Levodopa (JP17/USP/INN)</td>\n",
       "<td class=val>Dopar (TN)</td></tr><tr class=even><td class=val><a href=\"https://w3id.org/def/DIBO/data/Dopamine_D1_receptor\" target=\"_other\">https://w3id.org/def/DIBO/data/Dopamine_D1_receptor</a></td>\n",
       "<td class=val>Levodopa (JP17/USP/INN)</td>\n",
       "<td class=val>Levodopa (JP17/USP/INN)</td></tr><tr class=odd><td class=val><a href=\"https://w3id.org/def/DIBO/data/Dopamine_D5_receptor\" target=\"_other\">https://w3id.org/def/DIBO/data/Dopamine_D5_receptor</a></td>\n",
       "<td class=val>Levodopa (JP17/USP/INN)</td>\n",
       "<td class=val>Levodopa (JP17/USP/INN)</td></tr><tr class=even><td class=val><a href=\"https://w3id.org/def/DIBO/data/Dopamine_D2_receptor\" target=\"_other\">https://w3id.org/def/DIBO/data/Dopamine_D2_receptor</a></td>\n",
       "<td class=val>Levodopa (JP17/USP/INN)</td>\n",
       "<td class=val>Levodopa (JP17/USP/INN)</td></tr><tr class=odd><td class=val><a href=\"https://w3id.org/def/DIBO/data/Dopamine_D3_receptor\" target=\"_other\">https://w3id.org/def/DIBO/data/Dopamine_D3_receptor</a></td>\n",
       "<td class=val>Levodopa (JP17/USP/INN)</td>\n",
       "<td class=val>Levodopa (JP17/USP/INN)</td></tr><tr class=even><td class=val><a href=\"https://w3id.org/def/DIBO/data/Dopamine_D4_receptor\" target=\"_other\">https://w3id.org/def/DIBO/data/Dopamine_D4_receptor</a></td>\n",
       "<td class=val>Levodopa (JP17/USP/INN)</td>\n",
       "<td class=val>Levodopa (JP17/USP/INN)</td></tr></table><div class=\"tinfo\">Total: 10, Shown: 10</div></div>"
      ]
     },
     "metadata": {},
     "output_type": "display_data"
    }
   ],
   "source": [
    "PREFIX dibo: <https://w3id.org/def/DIBO#>\n",
    "PREFIX dibo_core: <https://w3id.org/def/DIBO/>\n",
    "PREFIX dibo_data: <https://w3id.org/def/DIBO/data/>\n",
    "PREFIX rdf: <https://w3id.org/1999/02/22-rdf-syntax-ns#>\n",
    "PREFIX rdfs: <http://www.w3.org/2000/01/rdf-schema#>\n",
    "PREFIX owl: <https://w3id.org/2002/07/owl#>\n",
    "PREFIX uniprotkb: <http://purl.uniprot.org/uniprot/>\n",
    "SELECT ?protein ?drugName ?otherName \n",
    "WHERE {     \n",
    "    ?interaction dibo:hasTarget ?protein .\n",
    "    ?interaction rdf:type dibo_core:Agonism .\n",
    "    ?interaction dibo:hasTarget ?protein .\n",
    "    ?protein owl:equivalentClass uniprotkb:P21728 .\n",
    "    ?interaction dibo:hasDrug ?drug .\n",
    "    ?drug dibo:hasScientificName ?drugName .\n",
    "    ?drug dibo:hasOtherName ?otherName .\n",
    "} LIMIT 10"
   ]
  },
  {
   "cell_type": "markdown",
   "metadata": {},
   "source": [
    "## Referencia con la ontología de UniProt"
   ]
  },
  {
   "cell_type": "code",
   "execution_count": 144,
   "metadata": {
    "ExecuteTime": {
     "end_time": "2020-01-18T17:40:43.896673Z",
     "start_time": "2020-01-18T17:40:43.852135Z"
    }
   },
   "outputs": [
    {
     "data": {
      "text/html": [
       "<div class=\"krn-spql\"><table><tr class=hdr><th>proteinName</th>\n",
       "<th>uniprotURI</th></tr><tr class=odd><td class=val>3 beta-hydroxysteroid dehydrogenase/Delta 5--&amp;gt;4-isomerase type 1</td>\n",
       "<td class=val><a href=\"http://purl.uniprot.org/uniprot/P14061\" target=\"_other\">http://purl.uniprot.org/uniprot/P14061</a></td></tr><tr class=even><td class=val>6-deoxyerythronolide B hydroxylase</td>\n",
       "<td class=val><a href=\"http://purl.uniprot.org/uniprot/P14061\" target=\"_other\">http://purl.uniprot.org/uniprot/P14061</a></td></tr><tr class=odd><td class=val>Adenosine receptor A1</td>\n",
       "<td class=val><a href=\"http://purl.uniprot.org/uniprot/P29274\" target=\"_other\">http://purl.uniprot.org/uniprot/P29274</a></td></tr><tr class=even><td class=val>Adenosine receptor A2a</td>\n",
       "<td class=val><a href=\"http://purl.uniprot.org/uniprot/P29274\" target=\"_other\">http://purl.uniprot.org/uniprot/P29274</a></td></tr><tr class=odd><td class=val>Adenosine receptor A2b</td>\n",
       "<td class=val><a href=\"http://purl.uniprot.org/uniprot/P29274\" target=\"_other\">http://purl.uniprot.org/uniprot/P29274</a></td></tr><tr class=even><td class=val>Adenosine receptor A3</td>\n",
       "<td class=val><a href=\"http://purl.uniprot.org/uniprot/P29274\" target=\"_other\">http://purl.uniprot.org/uniprot/P29274</a></td></tr><tr class=odd><td class=val>Aldo-keto reductase family 1 member C3</td>\n",
       "<td class=val><a href=\"http://purl.uniprot.org/uniprot/P14061\" target=\"_other\">http://purl.uniprot.org/uniprot/P14061</a></td></tr><tr class=even><td class=val>Androgen receptor</td>\n",
       "<td class=val><a href=\"http://purl.uniprot.org/uniprot/P10275\" target=\"_other\">http://purl.uniprot.org/uniprot/P10275</a></td></tr></table><div class=\"tinfo\">Total: 8, Shown: 8</div></div>"
      ]
     },
     "metadata": {},
     "output_type": "display_data"
    }
   ],
   "source": [
    "PREFIX dibo: <https://w3id.org/def/DIBO#>\n",
    "PREFIX dibo_core: <https://w3id.org/def/DIBO/>\n",
    "PREFIX dibo_data: <https://w3id.org/def/DIBO/data/>\n",
    "PREFIX rdf: <https://w3id.org/1999/02/22-rdf-syntax-ns#>\n",
    "PREFIX rdfs: <http://www.w3.org/2000/01/rdf-schema#>\n",
    "PREFIX owl: <https://w3id.org/2002/07/owl#>\n",
    "PREFIX uniprotkb: <http://purl.uniprot.org/uniprot/>\n",
    "SELECT ?proteinName ?uniprotURI\n",
    "#SELECT DISTINCT ?p\n",
    "WHERE {     \n",
    "    ?protein rdf:type dibo_core:Protein ;\n",
    "             dibo:hasName ?proteinName ;\n",
    "             owl:equivalentClass ?uniprotURI\n",
    "} LIMIT 8"
   ]
  },
  {
   "cell_type": "markdown",
   "metadata": {},
   "source": [
    "## CONSULTA FEDERADA CON UNIPROT: Consigue el FÁRMACO que INTERACCIONA con la PROTEÍNA codificada por el GEN \"NR3C4\""
   ]
  },
  {
   "cell_type": "markdown",
   "metadata": {},
   "source": [
    "NOTA: Debería de funcionar, pero no lo hace. Nuestras URIs coinciden con las de UniProt y nuestra clase *Protein* esta referenciada como *owl:equivalentClass* con la URI de UniProt. Según la información disponible en la web oficial de Blazegraph sobre las consultas federadas primero se debe de conseguir la URI de la Ontología \"online\" y después usar esa URI para la Ontología \"local\". Eso es lo que hemos hecho.\n",
    "\n",
    "**¿POR QUÉ ES INTERESANTE ESTA QUERY?** Si por ejemplo realizamos un experimento en el que analizamos la expresión génica de una persona con una patología y vemos que hay un incremento en la expresión de un **GEN**, podemos mapear, usando la ontología **DIBO**, que fármacos interaccionan con la **PROTEÍNA** codificada por el **GEN**. Esto por ejepmlo, nos puede permitir explorar nuevos tratamientos usando fármacos existentes para enfermedades, investigar posibles reacciones cruzadas, etc."
   ]
  },
  {
   "cell_type": "code",
   "execution_count": 147,
   "metadata": {
    "ExecuteTime": {
     "end_time": "2020-01-18T17:51:20.142200Z",
     "start_time": "2020-01-18T17:51:20.139315Z"
    },
    "scrolled": true
   },
   "outputs": [
    {
     "data": {
      "text/html": [
       "<div class=\"krn-spql\"><div class=\"magic\">Endpoint set to: http://sparql.uniprot.org/sparql/</div></div>"
      ],
      "text/plain": [
       "Endpoint set to: http://sparql.uniprot.org/sparql/\n"
      ]
     },
     "metadata": {},
     "output_type": "display_data"
    }
   ],
   "source": [
    "%endpoint http://sparql.uniprot.org/sparql/"
   ]
  },
  {
   "cell_type": "code",
   "execution_count": 153,
   "metadata": {
    "ExecuteTime": {
     "end_time": "2020-01-18T18:18:42.526331Z",
     "start_time": "2020-01-18T18:12:28.281281Z"
    },
    "scrolled": true
   },
   "outputs": [
    {
     "data": {
      "text/html": [
       "<div class=\"krn-spql\"><div class=\"krn-error\"><span class=\"title\">Error:</span> SPARQL error: QueryBadFormed: a bad request has been sent to the endpoint, probably the sparql query is bad formed. <br/><br/>Response:<br/>b'&lt;!DOCTYPE html SYSTEM &quot;about:legacy-compat&quot;&gt;\\n&lt;html xmlns=&quot;http://www.w3.org/1999/xhtml&quot; lang=&quot;en&quot; xml:lang=&quot;en&quot;&gt;&lt;head&gt;&lt;title&gt;UniProt&lt;/title&gt;&lt;meta content=&quot;text/html; charset=UTF-8&quot; http-equiv=&quot;Content-Type&quot;/&gt;&lt;link href=&quot;/&quot; rel=&quot;home&quot;/&gt;&lt;link href=&quot;/base.css&quot; type=&quot;text/css&quot; rel=&quot;stylesheet&quot;/&gt;&lt;link type=&quot;image/vnd.microsoft.icon&quot; href=&quot;/uniprot-favicon.ico&quot; rel=&quot;shortcut icon&quot;/&gt;&lt;link href=&quot;/uniprot-sparql.css&quot; type=&quot;text/css&quot; rel=&quot;stylesheet&quot;/&gt;&lt;link href=&quot;http://creativecommons.org/licenses/by/4.0/&quot; rel=&quot;license&quot;/&gt;&lt;link href=&quot;/css/codemirror.css&quot; type=&quot;text/css&quot; rel=&quot;stylesheet&quot;/&gt;&lt;link href=&quot;/css/eclipse.css&quot; type=&quot;text/css&quot; rel=&quot;stylesheet&quot;/&gt;&lt;meta content=&quot;width=device-width, initial-scale=1&quot; name=&quot;viewport&quot;/&gt;&lt;/head&gt;&lt;body typeof=&quot;schema:WebPage&quot;&gt;&lt;div id=&quot;masthead-container&quot;&gt;&lt;div id=&quot;local-masthead&quot;&gt;&lt;div id=&quot;local-title&quot;&gt;&lt;h1&gt;&lt;a accesskey=&quot;1&quot; href=&quot;https://www.uniprot.org/&quot;&gt;&lt;img alt=&quot;&quot; src=&quot;https://www.uniprot.org/images/logos/Logo_medium.png&quot; title=&quot;UniProt home&quot;/&gt;&lt;/a&gt;&lt;/h1&gt;&lt;/div&gt;&lt;div id=&quot;nav&quot;&gt;&lt;ul id=&quot;local-nav&quot;&gt;&lt;li&gt;&lt;a href=&quot;/sparql&quot;&gt;SPARQL&lt;/a&gt;&lt;/li&gt;&lt;li class=&quot;first&quot;&gt;&lt;a href=&quot;https://www.uniprot.org/downloads&quot;&gt;Downloads&lt;/a&gt;&lt;/li&gt;&lt;li class=&quot;functional last&quot;&gt;&lt;a accesskey=&quot;9&quot; href=&quot;https://www.uniprot.org/contact&quot;&gt;Contact&lt;/a&gt;&lt;/li&gt;&lt;li class=&quot;functional&quot;&gt;&lt;a rel=&quot;help&quot; href=&quot;https://www.uniprot.org/help/&quot;&gt;Documentation/Help&lt;/a&gt;&lt;/li&gt;&lt;/ul&gt;&lt;/div&gt;&lt;/div&gt;&lt;/div&gt;&lt;a accesskey=&quot;2&quot; href=&quot;#content&quot; hidden=&quot;hidden&quot;&gt;Skip Header&lt;/a&gt;&lt;script src=&quot;/scripts/codemirror.js&quot; type=&quot;text/javascript&quot;&gt; &lt;/script&gt;&lt;script src=&quot;/scripts/sparql.js&quot; type=&quot;text/javascript&quot;&gt; &lt;/script&gt;&lt;main class=&quot;sparql results&quot; id=&quot;content&quot;&gt;&lt;section class=&quot;error&quot; id=&quot;page-header&quot;&gt;&lt;h2 class=&quot;page-title&quot;&gt;Query evaluation exception.&lt;/h2&gt;&lt;p&gt;: SPARQL execute failed:[PREFIX dibo: &amp;lt;https://w3id.org/def/DIBO#&amp;gt;\\nPREFIX dibo_core: &amp;lt;https://w3id.org/def/DIBO/&amp;gt;\\nPREFIX dibo_data: &amp;lt;https://w3id.org/def/DIBO/data/&amp;gt;\\nPREFIX rdf: &amp;lt;https://w3id.org/1999/02/22-rdf-syntax-ns#&amp;gt;\\nPREFIX rdfs: &amp;lt;http://www.w3.org/2000/01/rdf-schema#&amp;gt;\\nPREFIX owl: &amp;lt;https://w3id.org/2002/07/owl#&amp;gt;\\nPREFIX up:&amp;lt;http://purl.uniprot.org/core/&amp;gt; \\nPREFIX uniprotkb:&amp;lt;http://purl.uniprot.org/uniprot/&amp;gt; \\nPREFIX rdfs:&amp;lt;http://www.w3.org/2000/01/rdf-schema#&amp;gt; \\nPREFIX skos:&amp;lt;http://www.w3.org/2004/02/skos/core#&amp;gt; \\n\\nSELECT ?drugName ?proteinName ?geneName\\nWHERE {     \\n    ?gene  skos:altLabel ?geneName .\\n    ?proteinURI up:encodedBy ?gene .\\n  FILTER REGEX(?geneName, &amp;quot;NR3C4&amp;quot;)\\n    SERVICE &amp;lt;http://192.168.1.121:9999/blazegraph/namespace/DIBO/sparql&amp;gt; {\\n        ?protein owl:equivalentClass ?proteinURI .\\n        ?protein dibo:hasName ?proteinName .\\n        ?interaction dibo:hasTarget ?protein .\\n        ?interaction dibo:hasDrug ?drug .\\n        ?drug dibo:hasScientificName ?drugName \\n  } \\n}] \\n Exception:virtuoso.jdbc4.VirtuosoException: HC001: Connection Error in HTTP Client&lt;/p&gt;&lt;/section&gt;&lt;div class=&quot;main-aside&quot;&gt;&lt;div id=&quot;queryform&quot;&gt;&lt;h3&gt;Your query&lt;/h3&gt;&lt;form method=&quot;get&quot; action=&quot;/sparql/&quot; focus=&quot;query&quot; name=&quot;sparql-form&quot; id=&quot;sparql-form&quot;&gt;&lt;button id=&quot;addPrefix&quot; type=&quot;button&quot;&gt;Add common prefixes&lt;/button&gt;&lt;textarea accesskey=&quot;1&quot; rows=&quot;10&quot; cols=&quot;80&quot; name=&quot;query&quot; id=&quot;query&quot;&gt;PREFIX dibo: &amp;lt;https://w3id.org/def/DIBO#&amp;gt;\\nPREFIX dibo_core: &amp;lt;https://w3id.org/def/DIBO/&amp;gt;\\nPREFIX dibo_data: &amp;lt;https://w3id.org/def/DIBO/data/&amp;gt;\\nPREFIX rdf: &amp;lt;https://w3id.org/1999/02/22-rdf-syntax-ns#&amp;gt;\\nPREFIX rdfs: &amp;lt;http://www.w3.org/2000/01/rdf-schema#&amp;gt;\\nPREFIX owl: &amp;lt;https://w3id.org/2002/07/owl#&amp;gt;\\nPREFIX up:&amp;lt;http://purl.uniprot.org/core/&amp;gt; \\nPREFIX uniprotkb:&amp;lt;http://purl.uniprot.org/uniprot/&amp;gt; \\nPREFIX rdfs:&amp;lt;http://www.w3.org/2000/01/rdf-schema#&amp;gt; \\nPREFIX skos:&amp;lt;http://www.w3.org/2004/02/skos/core#&amp;gt; \\n\\nSELECT ?drugName ?proteinName ?geneName\\nWHERE {     \\n    ?gene  skos:altLabel ?geneName .\\n    ?proteinURI up:encodedBy ?gene .\\n  FILTER REGEX(?geneName, &amp;quot;NR3C4&amp;quot;)\\n    SERVICE &amp;lt;http://192.168.1.121:9999/blazegraph/namespace/DIBO/sparql&amp;gt; {\\n        ?protein owl:equivalentClass ?proteinURI .\\n        ?protein dibo:hasName ?proteinName .\\n        ?interaction dibo:hasTarget ?protein .\\n        ?interaction dibo:hasDrug ?drug .\\n        ?drug dibo:hasScientificName ?drugName \\n  } \\n}&lt;/textarea&gt;&lt;input type=&quot;hidden&quot; name=&quot;format&quot; value=&quot;html&quot;&gt;&lt;button id=&quot;sparqlFormSubmitter&quot; onclick=&quot;return false;&quot;&gt;Submit Query&lt;/button&gt;&lt;/form&gt;&lt;/div&gt;&lt;/div&gt;&lt;/main&gt;&lt;footer id=&quot;page-footer&quot;&gt;&lt;section class=&quot;small&quot; id=&quot;copyright&quot;&gt;\\n\\t\\t\\t&amp;copy; 2002&amp;ndash; &lt;span property=&quot;schema:copyrightYear&quot;&gt;2020&lt;/span&gt;\\n\\t\\t\\t&lt;a accesskey=&quot;9&quot; href=&quot;https://www.uniprot.org/help/about&quot;&gt;UniProt Consortium&lt;/a&gt; |\\n\\t\\t\\t&lt;a href=&quot;https://www.uniprot.org/help/license&quot; property=&quot;schema:license&quot;&gt;License\\n\\t\\t\\t\\t&amp;amp; Disclaimer&lt;/a&gt; | &lt;a href=&quot;https://www.uniprot.org/help/privacy&quot;&gt;Privacy\\n\\t\\t\\t\\tNotice&lt;/a&gt;&lt;/section&gt;&lt;section&gt;&lt;div resource=&quot;/help/about#UniProt&quot; id=&quot;logos&quot; typeof=&quot;NGO&quot; property=&quot;creator&quot;&gt;&lt;span resource=&quot;/help/about#EBI&quot; typeof=&quot;Organization&quot; class=&quot;ebi&quot; property=&quot;member&quot;&gt;&lt;span hidden=&quot;hidden&quot; property=&quot;name&quot;&gt;European Bioinformatics Institute&lt;/span&gt;&lt;a href=&quot;https://www.ebi.ac.uk/&quot; property=&quot;url&quot;&gt;&lt;/a&gt;&lt;/span&gt;&lt;span resource=&quot;/help/about#PIR&quot; typeof=&quot;Organization&quot; class=&quot;pir&quot; property=&quot;member&quot;&gt;&lt;span hidden=&quot;hidden&quot; property=&quot;name&quot;&gt;Protein Information Resource&lt;/span&gt;&lt;a href=&quot;http://pir.georgetown.edu/&quot; property=&quot;url&quot;&gt;&lt;/a&gt;&lt;/span&gt;&lt;span resource=&quot;/help/about#SIB&quot; typeof=&quot;Organization&quot; class=&quot;sib&quot; property=&quot;member&quot;&gt;&lt;span hidden=&quot;hidden&quot; property=&quot;name&quot;&gt;SIB Swiss Institute of Bioinformatics&lt;/span&gt;&lt;a href=&quot;https://www.sib.swiss/&quot; property=&quot;url&quot;&gt;&lt;/a&gt;&lt;/span&gt;&lt;/div&gt;&lt;/section&gt;&lt;section id=&quot;poweredby&quot;&gt;&lt;h3&gt;Powered by&lt;/h3&gt;&lt;span class=&quot;vitalit&quot; resource=&quot;http://www.vital-it.ch/&quot; typeof=&quot;schema:NGO&quot; property=&quot;schema:sponsor&quot;&gt;&lt;h4&gt;Hardware&lt;/h4&gt;&lt;a href=&quot;http://www.vital-it.ch/&quot; property=&quot;schema:url&quot;&gt;&lt;img alt=&quot;Virtuoso&quot; src=&quot;/images/logos/Vital-IT_logo_notext.svg&quot;/&gt;&lt;h5 property=&quot;schema:name&quot;&gt;Vital-IT&lt;/h5&gt;&lt;/a&gt;&lt;/span&gt;&lt;span class=&quot;openlinksw&quot; resource=&quot;http://www.openlinksw.com/#this&quot; typeof=&quot;schema:Corporation&quot; property=&quot;schema:sponsor&quot;&gt;&lt;h4&gt;Software&lt;/h4&gt;&lt;a href=&quot;http://virtuoso.openlinksw.com/&quot; property=&quot;schema:url&quot;&gt;&lt;img alt=&quot;Virtuoso&quot; src=&quot;/images/logos/virtuoso.png&quot;/&gt;&lt;h5 property=&quot;schema:name&quot;&gt;Virtuoso&lt;/h5&gt;&lt;/a&gt;&lt;/span&gt;&lt;/section&gt;&lt;/footer&gt;&lt;script src=&quot;/sparql.js&quot; type=&quot;text/javascript&quot;&gt; &lt;/script&gt;&lt;script src=&quot;/scripts/globalVars.js&quot; type=&quot;text/javascript&quot;&gt; &lt;/script&gt;&lt;script src=&quot;https://www.google-analytics.com/analytics.js&quot; async=&quot;async&quot;&gt;&lt;/script&gt;&lt;script type=&quot;text/javascript&quot;&gt;\\n\\t\\t\\twindow.ga=window.ga||function(){(ga.q=ga.q||[]).push(arguments)};ga.l=+new Date;\\n\\t\\t\\t\\n\\t\\t\\t\\t\\tga(\\'create\\', \\'UA-6228219-3\\', \\'auto\\');\\n\\t\\t\\t\\t\\t\\t\\t\\t\\n\\t\\t\\tga(\\'set\\', \\'anonymizeIp\\', true);\\n\\t\\t\\tga(\\'set\\', \\'forceSSL\\', true);\\n\\t\\t\\tga(\\'send\\', \\'pageview\\');\\n\\t\\t&lt;/script&gt;&lt;/body&gt;&lt;/html&gt;'</div></div>"
      ],
      "text/plain": [
       "Error: SPARQL error: QueryBadFormed: a bad request has been sent to the endpoint, probably the sparql query is bad formed. \n",
       "\n",
       "Response:\n",
       "b'<!DOCTYPE html SYSTEM \"about:legacy-compat\">\\n<html xmlns=\"http://www.w3.org/1999/xhtml\" lang=\"en\" xml:lang=\"en\"><head><title>UniProt</title><meta content=\"text/html; charset=UTF-8\" http-equiv=\"Content-Type\"/><link href=\"/\" rel=\"home\"/><link href=\"/base.css\" type=\"text/css\" rel=\"stylesheet\"/><link type=\"image/vnd.microsoft.icon\" href=\"/uniprot-favicon.ico\" rel=\"shortcut icon\"/><link href=\"/uniprot-sparql.css\" type=\"text/css\" rel=\"stylesheet\"/><link href=\"http://creativecommons.org/licenses/by/4.0/\" rel=\"license\"/><link href=\"/css/codemirror.css\" type=\"text/css\" rel=\"stylesheet\"/><link href=\"/css/eclipse.css\" type=\"text/css\" rel=\"stylesheet\"/><meta content=\"width=device-width, initial-scale=1\" name=\"viewport\"/></head><body typeof=\"schema:WebPage\"><div id=\"masthead-container\"><div id=\"local-masthead\"><div id=\"local-title\"><h1><a accesskey=\"1\" href=\"https://www.uniprot.org/\"><img alt=\"\" src=\"https://www.uniprot.org/images/logos/Logo_medium.png\" title=\"UniProt home\"/></a></h1></div><div id=\"nav\"><ul id=\"local-nav\"><li><a href=\"/sparql\">SPARQL</a></li><li class=\"first\"><a href=\"https://www.uniprot.org/downloads\">Downloads</a></li><li class=\"functional last\"><a accesskey=\"9\" href=\"https://www.uniprot.org/contact\">Contact</a></li><li class=\"functional\"><a rel=\"help\" href=\"https://www.uniprot.org/help/\">Documentation/Help</a></li></ul></div></div></div><a accesskey=\"2\" href=\"#content\" hidden=\"hidden\">Skip Header</a><script src=\"/scripts/codemirror.js\" type=\"text/javascript\"> </script><script src=\"/scripts/sparql.js\" type=\"text/javascript\"> </script><main class=\"sparql results\" id=\"content\"><section class=\"error\" id=\"page-header\"><h2 class=\"page-title\">Query evaluation exception.</h2><p>: SPARQL execute failed:[PREFIX dibo: &lt;https://w3id.org/def/DIBO#&gt;\\nPREFIX dibo_core: &lt;https://w3id.org/def/DIBO/&gt;\\nPREFIX dibo_data: &lt;https://w3id.org/def/DIBO/data/&gt;\\nPREFIX rdf: &lt;https://w3id.org/1999/02/22-rdf-syntax-ns#&gt;\\nPREFIX rdfs: &lt;http://www.w3.org/2000/01/rdf-schema#&gt;\\nPREFIX owl: &lt;https://w3id.org/2002/07/owl#&gt;\\nPREFIX up:&lt;http://purl.uniprot.org/core/&gt; \\nPREFIX uniprotkb:&lt;http://purl.uniprot.org/uniprot/&gt; \\nPREFIX rdfs:&lt;http://www.w3.org/2000/01/rdf-schema#&gt; \\nPREFIX skos:&lt;http://www.w3.org/2004/02/skos/core#&gt; \\n\\nSELECT ?drugName ?proteinName ?geneName\\nWHERE {     \\n    ?gene  skos:altLabel ?geneName .\\n    ?proteinURI up:encodedBy ?gene .\\n  FILTER REGEX(?geneName, &quot;NR3C4&quot;)\\n    SERVICE &lt;http://192.168.1.121:9999/blazegraph/namespace/DIBO/sparql&gt; {\\n        ?protein owl:equivalentClass ?proteinURI .\\n        ?protein dibo:hasName ?proteinName .\\n        ?interaction dibo:hasTarget ?protein .\\n        ?interaction dibo:hasDrug ?drug .\\n        ?drug dibo:hasScientificName ?drugName \\n  } \\n}] \\n Exception:virtuoso.jdbc4.VirtuosoException: HC001: Connection Error in HTTP Client</p></section><div class=\"main-aside\"><div id=\"queryform\"><h3>Your query</h3><form method=\"get\" action=\"/sparql/\" focus=\"query\" name=\"sparql-form\" id=\"sparql-form\"><button id=\"addPrefix\" type=\"button\">Add common prefixes</button><textarea accesskey=\"1\" rows=\"10\" cols=\"80\" name=\"query\" id=\"query\">PREFIX dibo: &lt;https://w3id.org/def/DIBO#&gt;\\nPREFIX dibo_core: &lt;https://w3id.org/def/DIBO/&gt;\\nPREFIX dibo_data: &lt;https://w3id.org/def/DIBO/data/&gt;\\nPREFIX rdf: &lt;https://w3id.org/1999/02/22-rdf-syntax-ns#&gt;\\nPREFIX rdfs: &lt;http://www.w3.org/2000/01/rdf-schema#&gt;\\nPREFIX owl: &lt;https://w3id.org/2002/07/owl#&gt;\\nPREFIX up:&lt;http://purl.uniprot.org/core/&gt; \\nPREFIX uniprotkb:&lt;http://purl.uniprot.org/uniprot/&gt; \\nPREFIX rdfs:&lt;http://www.w3.org/2000/01/rdf-schema#&gt; \\nPREFIX skos:&lt;http://www.w3.org/2004/02/skos/core#&gt; \\n\\nSELECT ?drugName ?proteinName ?geneName\\nWHERE {     \\n    ?gene  skos:altLabel ?geneName .\\n    ?proteinURI up:encodedBy ?gene .\\n  FILTER REGEX(?geneName, &quot;NR3C4&quot;)\\n    SERVICE &lt;http://192.168.1.121:9999/blazegraph/namespace/DIBO/sparql&gt; {\\n        ?protein owl:equivalentClass ?proteinURI .\\n        ?protein dibo:hasName ?proteinName .\\n        ?interaction dibo:hasTarget ?protein .\\n        ?interaction dibo:hasDrug ?drug .\\n        ?drug dibo:hasScientificName ?drugName \\n  } \\n}</textarea><input type=\"hidden\" name=\"format\" value=\"html\"><button id=\"sparqlFormSubmitter\" onclick=\"return false;\">Submit Query</button></form></div></div></main><footer id=\"page-footer\"><section class=\"small\" id=\"copyright\">\\n\\t\\t\\t&copy; 2002&ndash; <span property=\"schema:copyrightYear\">2020</span>\\n\\t\\t\\t<a accesskey=\"9\" href=\"https://www.uniprot.org/help/about\">UniProt Consortium</a> |\\n\\t\\t\\t<a href=\"https://www.uniprot.org/help/license\" property=\"schema:license\">License\\n\\t\\t\\t\\t&amp; Disclaimer</a> | <a href=\"https://www.uniprot.org/help/privacy\">Privacy\\n\\t\\t\\t\\tNotice</a></section><section><div resource=\"/help/about#UniProt\" id=\"logos\" typeof=\"NGO\" property=\"creator\"><span resource=\"/help/about#EBI\" typeof=\"Organization\" class=\"ebi\" property=\"member\"><span hidden=\"hidden\" property=\"name\">European Bioinformatics Institute</span><a href=\"https://www.ebi.ac.uk/\" property=\"url\"></a></span><span resource=\"/help/about#PIR\" typeof=\"Organization\" class=\"pir\" property=\"member\"><span hidden=\"hidden\" property=\"name\">Protein Information Resource</span><a href=\"http://pir.georgetown.edu/\" property=\"url\"></a></span><span resource=\"/help/about#SIB\" typeof=\"Organization\" class=\"sib\" property=\"member\"><span hidden=\"hidden\" property=\"name\">SIB Swiss Institute of Bioinformatics</span><a href=\"https://www.sib.swiss/\" property=\"url\"></a></span></div></section><section id=\"poweredby\"><h3>Powered by</h3><span class=\"vitalit\" resource=\"http://www.vital-it.ch/\" typeof=\"schema:NGO\" property=\"schema:sponsor\"><h4>Hardware</h4><a href=\"http://www.vital-it.ch/\" property=\"schema:url\"><img alt=\"Virtuoso\" src=\"/images/logos/Vital-IT_logo_notext.svg\"/><h5 property=\"schema:name\">Vital-IT</h5></a></span><span class=\"openlinksw\" resource=\"http://www.openlinksw.com/#this\" typeof=\"schema:Corporation\" property=\"schema:sponsor\"><h4>Software</h4><a href=\"http://virtuoso.openlinksw.com/\" property=\"schema:url\"><img alt=\"Virtuoso\" src=\"/images/logos/virtuoso.png\"/><h5 property=\"schema:name\">Virtuoso</h5></a></span></section></footer><script src=\"/sparql.js\" type=\"text/javascript\"> </script><script src=\"/scripts/globalVars.js\" type=\"text/javascript\"> </script><script src=\"https://www.google-analytics.com/analytics.js\" async=\"async\"></script><script type=\"text/javascript\">\\n\\t\\t\\twindow.ga=window.ga||function(){(ga.q=ga.q||[]).push(arguments)};ga.l=+new Date;\\n\\t\\t\\t\\n\\t\\t\\t\\t\\tga(\\'create\\', \\'UA-6228219-3\\', \\'auto\\');\\n\\t\\t\\t\\t\\t\\t\\t\\t\\n\\t\\t\\tga(\\'set\\', \\'anonymizeIp\\', true);\\n\\t\\t\\tga(\\'set\\', \\'forceSSL\\', true);\\n\\t\\t\\tga(\\'send\\', \\'pageview\\');\\n\\t\\t</script></body></html>'"
      ]
     },
     "metadata": {},
     "output_type": "display_data"
    }
   ],
   "source": [
    "PREFIX dibo: <https://w3id.org/def/DIBO#>\n",
    "PREFIX dibo_core: <https://w3id.org/def/DIBO/>\n",
    "PREFIX dibo_data: <https://w3id.org/def/DIBO/data/>\n",
    "PREFIX rdf: <https://w3id.org/1999/02/22-rdf-syntax-ns#>\n",
    "PREFIX rdfs: <http://www.w3.org/2000/01/rdf-schema#>\n",
    "PREFIX owl: <https://w3id.org/2002/07/owl#>\n",
    "PREFIX up:<http://purl.uniprot.org/core/> \n",
    "PREFIX uniprotkb:<http://purl.uniprot.org/uniprot/> \n",
    "PREFIX rdfs:<http://www.w3.org/2000/01/rdf-schema#> \n",
    "PREFIX skos:<http://www.w3.org/2004/02/skos/core#> \n",
    "\n",
    "SELECT ?drugName ?proteinName ?geneName\n",
    "WHERE {     \n",
    "    ?gene  skos:altLabel ?geneName .\n",
    "    ?proteinURI up:encodedBy ?gene .\n",
    "  FILTER REGEX(?geneName, \"NR3C4\")\n",
    "    SERVICE <http://192.168.1.121:9999/blazegraph/namespace/DIBO/sparql> {\n",
    "        ?protein owl:equivalentClass ?proteinURI .\n",
    "        ?protein dibo:hasName ?proteinName .\n",
    "        ?interaction dibo:hasTarget ?protein .\n",
    "        ?interaction dibo:hasDrug ?drug .\n",
    "        ?drug dibo:hasScientificName ?drugName \n",
    "  } \n",
    "} "
   ]
  }
 ],
 "metadata": {
  "kernelspec": {
   "display_name": "SPARQL",
   "language": "sparql",
   "name": "sparql"
  },
  "language_info": {
   "codemirror_mode": {
    "name": "sparql"
   },
   "mimetype": "application/sparql-query",
   "name": "sparql",
   "pygments_lexer": "sparql-nb"
  },
  "toc": {
   "base_numbering": 1,
   "nav_menu": {},
   "number_sections": true,
   "sideBar": true,
   "skip_h1_title": false,
   "title_cell": "Table of Contents",
   "title_sidebar": "Contents",
   "toc_cell": false,
   "toc_position": {},
   "toc_section_display": true,
   "toc_window_display": false
  }
 },
 "nbformat": 4,
 "nbformat_minor": 2
}
