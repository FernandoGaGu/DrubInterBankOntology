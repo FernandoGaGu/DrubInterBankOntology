{
 "cells": [
  {
   "cell_type": "code",
   "execution_count": 180,
   "metadata": {
    "ExecuteTime": {
     "end_time": "2020-01-17T18:19:31.533926Z",
     "start_time": "2020-01-17T18:19:31.530193Z"
    },
    "scrolled": true
   },
   "outputs": [
    {
     "data": {
      "text/html": [
       "<div class=\"krn-spql\"><div class=\"magic\">Endpoint set to: http://10.150.227.63:9999/blazegraph/namespace/DIBO/sparql</div></div>"
      ],
      "text/plain": [
       "Endpoint set to: http://10.150.227.63:9999/blazegraph/namespace/DIBO/sparql\n"
      ]
     },
     "metadata": {},
     "output_type": "display_data"
    }
   ],
   "source": [
    "%endpoint http://10.150.227.63:9999/blazegraph/namespace/DIBO/sparql"
   ]
  },
  {
   "cell_type": "markdown",
   "metadata": {},
   "source": [
    "Esta *query* permite obtener todos los **fármacos** la molecula con la que **interaccionan**, el **tipo de interacción** y su **función**."
   ]
  },
  {
   "cell_type": "code",
   "execution_count": 233,
   "metadata": {
    "ExecuteTime": {
     "end_time": "2020-01-17T19:00:56.525845Z",
     "start_time": "2020-01-17T19:00:56.479016Z"
    },
    "scrolled": false
   },
   "outputs": [
    {
     "data": {
      "text/html": [
       "<div class=\"krn-spql\"><table><tr class=hdr><th>name</th>\n",
       "<th>interaction_type</th>\n",
       "<th>protein</th>\n",
       "<th>function</th></tr><tr class=odd><td class=val>Epoprostenol (USAN/INN)</td>\n",
       "<td class=val>Agonism</td>\n",
       "<td class=val><a href=\"https://w3id.org/def/DIBO/data/P2Y_purinoceptor_12\" target=\"_other\">https://w3id.org/def/DIBO/data/P2Y_purinoceptor_12</a></td>\n",
       "<td class=val>guanyl-nucleotide exchange factor activity</td></tr><tr class=even><td class=val>Epoprostenol (USAN/INN)</td>\n",
       "<td class=val>Agonism</td>\n",
       "<td class=val><a href=\"https://w3id.org/def/DIBO/data/Prostacyclin_receptor\" target=\"_other\">https://w3id.org/def/DIBO/data/Prostacyclin_receptor</a></td>\n",
       "<td class=val>guanyl-nucleotide exchange factor activity</td></tr><tr class=odd><td class=val>Epoprostenol (USAN/INN)</td>\n",
       "<td class=val>Agonism</td>\n",
       "<td class=val><a href=\"https://w3id.org/def/DIBO/data/Prostacyclin_synthase\" target=\"_other\">https://w3id.org/def/DIBO/data/Prostacyclin_synthase</a></td>\n",
       "<td class=val>prostaglandin-i synthase activity</td></tr></table><div class=\"tinfo\">Total: 3, Shown: 3</div></div>"
      ]
     },
     "metadata": {},
     "output_type": "display_data"
    }
   ],
   "source": [
    "PREFIX dibo: <https://w3id.org/def/DIBO#>\n",
    "PREFIX dibo_core: <https://w3id.org/def/DIBO/>\n",
    "PREFIX dibo_data: <https://w3id.org/def/DIBO/data>\n",
    "PREFIX rdf: <https://w3id.org/1999/02/22-rdf-syntax-ns#>\n",
    "PREFIX rdfs: <http://www.w3.org/2000/01/rdf-schema#>\n",
    "SELECT ?name ?interaction_type ?protein ?function\n",
    "WHERE {      \n",
    "    ?interaction dibo:hasTarget ?protein .\n",
    "    ?protein rdf:type dibo_core:Protein .\n",
    "    ?interaction rdf:type ?class .\n",
    "    ?class rdfs:label ?interaction_type .\n",
    "    ?interaction dibo:hasDrug ?drug .\n",
    "    ?drug dibo:hasScientificName ?name .\n",
    "    ?protein dibo:hasFunction ?function\n",
    "} LIMIT 3"
   ]
  },
  {
   "cell_type": "markdown",
   "metadata": {},
   "source": [
    "Para conseguir una lista de fármacos y su función."
   ]
  },
  {
   "cell_type": "code",
   "execution_count": 234,
   "metadata": {
    "ExecuteTime": {
     "end_time": "2020-01-17T19:00:58.699674Z",
     "start_time": "2020-01-17T19:00:58.672561Z"
    }
   },
   "outputs": [
    {
     "data": {
      "text/html": [
       "<div class=\"krn-spql\"><table><tr class=hdr><th>drug_name</th>\n",
       "<th>function</th></tr><tr class=odd><td class=val>Epoprostenol (USAN/INN)</td>\n",
       "<td class=val>Cardiovascular</td></tr></table><div class=\"tinfo\">Total: 1, Shown: 1</div></div>"
      ]
     },
     "metadata": {},
     "output_type": "display_data"
    }
   ],
   "source": [
    "PREFIX dibo: <https://w3id.org/def/DIBO#>\n",
    "PREFIX dibo_core: <https://w3id.org/def/DIBO/>\n",
    "PREFIX dibo_data: <https://w3id.org/def/DIBO/data>\n",
    "PREFIX rdf: <https://w3id.org/1999/02/22-rdf-syntax-ns#>\n",
    "PREFIX rdfs: <http://www.w3.org/2000/01/rdf-schema#>\n",
    "SELECT ?drug_name ?function\n",
    "WHERE {\n",
    "    ?drug rdf:type dibo_core:Drug .\n",
    "    ?drug dibo:hasScientificName ?drug_name .\n",
    "    ?drug dibo:functionallyGroupedIn ?function .\n",
    "\n",
    "} LIMIT 2"
   ]
  },
  {
   "cell_type": "markdown",
   "metadata": {},
   "source": [
    "Para obtener las propiedades de un fármaco:"
   ]
  },
  {
   "cell_type": "code",
   "execution_count": 235,
   "metadata": {
    "ExecuteTime": {
     "end_time": "2020-01-17T19:01:00.671467Z",
     "start_time": "2020-01-17T19:01:00.627933Z"
    }
   },
   "outputs": [
    {
     "data": {
      "text/html": [
       "<div class=\"krn-spql\"><table><tr class=hdr><th>drug_name</th>\n",
       "<th>formula</th>\n",
       "<th>molecularMass</th>\n",
       "<th>half_life</th>\n",
       "<th>drugbank</th>\n",
       "<th>chEBI</th></tr><tr class=odd><td class=val>Epoprostenol (USAN/INN)</td>\n",
       "<td class=val>C20H32O5</td>\n",
       "<td class=val>352.225</td>\n",
       "<td class=val>The in vitro half-life of epoprostenol in human blood at 37��C and pH 7.4 is approximately 6 minutes; the in vivo half-life of epoprostenol in humans is therefore expected to be no greater than 6 minutes.</td>\n",
       "<td class=val>DB01240</td>\n",
       "<td class=val>15552</td></tr></table><div class=\"tinfo\">Total: 1, Shown: 1</div></div>"
      ]
     },
     "metadata": {},
     "output_type": "display_data"
    }
   ],
   "source": [
    "PREFIX dibo: <https://w3id.org/def/DIBO#>\n",
    "PREFIX dibo_core: <https://w3id.org/def/DIBO/>\n",
    "PREFIX dibo_data: <https://w3id.org/def/DIBO/data>\n",
    "PREFIX rdf: <https://w3id.org/1999/02/22-rdf-syntax-ns#>\n",
    "PREFIX rdfs: <http://www.w3.org/2000/01/rdf-schema#>\n",
    "SELECT ?drug_name ?formula ?molecularMass ?half_life ?drugbank ?chEBI\n",
    "WHERE {\n",
    "    ?drug rdf:type dibo_core:Drug .\n",
    "    ?drug dibo:hasScientificName ?drug_name .\n",
    "    ?drug dibo:hasMolecularFormula ?formula .\n",
    "    ?drug dibo:hasMolecularMass ?molecularMass .\n",
    "    ?drug dibo:hasHalfLife ?half_life .\n",
    "    ?drug dibo:hasDrugBankId ?drugbank .\n",
    "    ?drug dibo:hasChebiId ?chEBI .\n",
    "} "
   ]
  },
  {
   "cell_type": "markdown",
   "metadata": {},
   "source": [
    "Para conseguir todos los fármacos que actuan como agonistas (Incrementan la actividad) de una enzima concreta, por ejemplo la **Prostacyclin synthase**"
   ]
  },
  {
   "cell_type": "code",
   "execution_count": 248,
   "metadata": {
    "ExecuteTime": {
     "end_time": "2020-01-17T19:07:49.880493Z",
     "start_time": "2020-01-17T19:07:49.851412Z"
    }
   },
   "outputs": [
    {
     "data": {
      "text/html": [
       "<div class=\"krn-spql\"><table><tr class=hdr><th>name</th></tr></table><div class=\"tinfo\">Total: 0, Shown: 0</div></div>"
      ]
     },
     "metadata": {},
     "output_type": "display_data"
    }
   ],
   "source": [
    "PREFIX dibo: <https://w3id.org/def/DIBO#>\n",
    "PREFIX dibo_core: <https://w3id.org/def/DIBO/>\n",
    "PREFIX dibo_data: <https://w3id.org/def/DIBO/data>\n",
    "PREFIX rdf: <https://w3id.org/1999/02/22-rdf-syntax-ns#>\n",
    "PREFIX rdfs: <http://www.w3.org/2000/01/rdf-schema#>\n",
    "SELECT DISTINCT  ?name\n",
    "WHERE {      \n",
    "    \n",
    "    ?interaction dibo:hasTarget ?protein .\n",
    "    ?proten rdf:type dibo_core:Protein .\n",
    "    ?protein dibo:hasName ?name .\n",
    "    FILTER REGEX(?name, \"Prostacyclin synthase\")\n",
    "} "
   ]
  },
  {
   "cell_type": "markdown",
   "metadata": {},
   "source": [
    "Debe de haber algún problema con los tipos string, si quitamos la regex se puede ver que el nombre es el mismo. Teóricamente al solucionar esto debería de funcionar."
   ]
  },
  {
   "cell_type": "code",
   "execution_count": 250,
   "metadata": {
    "ExecuteTime": {
     "end_time": "2020-01-17T19:08:33.264072Z",
     "start_time": "2020-01-17T19:08:33.236327Z"
    }
   },
   "outputs": [
    {
     "data": {
      "text/html": [
       "<div class=\"krn-spql\"><table><tr class=hdr><th>name</th></tr><tr class=odd><td class=val>P2Y purinoceptor 12</td></tr><tr class=even><td class=val>Prostacyclin receptor</td></tr><tr class=odd><td class=val>Prostacyclin synthase</td></tr></table><div class=\"tinfo\">Total: 3, Shown: 3</div></div>"
      ]
     },
     "metadata": {},
     "output_type": "display_data"
    }
   ],
   "source": [
    "PREFIX dibo: <https://w3id.org/def/DIBO#>\n",
    "PREFIX dibo_core: <https://w3id.org/def/DIBO/>\n",
    "PREFIX dibo_data: <https://w3id.org/def/DIBO/data>\n",
    "PREFIX rdf: <https://w3id.org/1999/02/22-rdf-syntax-ns#>\n",
    "PREFIX rdfs: <http://www.w3.org/2000/01/rdf-schema#>\n",
    "SELECT DISTINCT  ?name\n",
    "WHERE {      \n",
    "    \n",
    "    ?interaction dibo:hasTarget ?protein .\n",
    "    ?proten rdf:type dibo_core:Protein .\n",
    "    ?protein dibo:hasName ?name .\n",
    "} LIMIT 3"
   ]
  },
  {
   "cell_type": "code",
   "execution_count": null,
   "metadata": {},
   "outputs": [],
   "source": []
  },
  {
   "cell_type": "code",
   "execution_count": null,
   "metadata": {},
   "outputs": [],
   "source": []
  },
  {
   "cell_type": "code",
   "execution_count": null,
   "metadata": {},
   "outputs": [],
   "source": []
  }
 ],
 "metadata": {
  "kernelspec": {
   "display_name": "SPARQL",
   "language": "sparql",
   "name": "sparql"
  },
  "language_info": {
   "codemirror_mode": {
    "name": "sparql"
   },
   "mimetype": "application/sparql-query",
   "name": "sparql",
   "pygments_lexer": "sparql-nb"
  },
  "toc": {
   "base_numbering": 1,
   "nav_menu": {},
   "number_sections": true,
   "sideBar": true,
   "skip_h1_title": false,
   "title_cell": "Table of Contents",
   "title_sidebar": "Contents",
   "toc_cell": false,
   "toc_position": {},
   "toc_section_display": true,
   "toc_window_display": false
  }
 },
 "nbformat": 4,
 "nbformat_minor": 2
}
