{
 "cells": [
  {
   "cell_type": "code",
   "execution_count": 3,
   "metadata": {
    "ExecuteTime": {
     "end_time": "2020-01-19T19:07:26.712370Z",
     "start_time": "2020-01-19T19:07:26.707223Z"
    },
    "scrolled": true
   },
   "outputs": [
    {
     "data": {
      "text/html": [
       "<div class=\"krn-spql\"><div class=\"magic\">Endpoint set to: http://192.168.1.128:9999/blazegraph/namespace/DIBO/sparql</div></div>"
      ],
      "text/plain": [
       "Endpoint set to: http://192.168.1.128:9999/blazegraph/namespace/DIBO/sparql\n"
      ]
     },
     "metadata": {},
     "output_type": "display_data"
    }
   ],
   "source": [
    "%endpoint http://192.168.1.128:9999/blazegraph/namespace/DIBO/sparql"
   ]
  },
  {
   "cell_type": "markdown",
   "metadata": {},
   "source": [
    "## Esta query prueba la **INFERENCIA**, se infiere la clase de la **DIANA**."
   ]
  },
  {
   "cell_type": "code",
   "execution_count": 7,
   "metadata": {
    "ExecuteTime": {
     "end_time": "2020-01-19T19:08:11.817396Z",
     "start_time": "2020-01-19T19:08:11.377578Z"
    }
   },
   "outputs": [
    {
     "data": {
      "text/html": [
       "<div class=\"krn-spql\"><table><tr class=hdr><th>superClass</th></tr><tr class=odd><td class=val><a href=\"http://purl.uniprot.org/core/Protein\" target=\"_other\">http://purl.uniprot.org/core/Protein</a></td></tr><tr class=even><td class=val><a href=\"https://w3id.org/def/DIBO/Interaction\" target=\"_other\">https://w3id.org/def/DIBO/Interaction</a></td></tr><tr class=odd><td class=val><a href=\"https://w3id.org/def/DIBO/Interaction\" target=\"_other\">https://w3id.org/def/DIBO/Interaction</a></td></tr><tr class=even><td class=val><a href=\"https://w3id.org/def/DIBO/Interaction\" target=\"_other\">https://w3id.org/def/DIBO/Interaction</a></td></tr><tr class=odd><td class=val><a href=\"https://w3id.org/def/DIBO/PharmacologicAction\" target=\"_other\">https://w3id.org/def/DIBO/PharmacologicAction</a></td></tr><tr class=even><td class=val><a href=\"https://w3id.org/def/DIBO/PharmacologicAction\" target=\"_other\">https://w3id.org/def/DIBO/PharmacologicAction</a></td></tr><tr class=odd><td class=val><a href=\"https://w3id.org/def/DIBO/PharmacologicAction\" target=\"_other\">https://w3id.org/def/DIBO/PharmacologicAction</a></td></tr><tr class=even><td class=val><a href=\"https://w3id.org/def/DIBO/PharmacologicAction\" target=\"_other\">https://w3id.org/def/DIBO/PharmacologicAction</a></td></tr><tr class=odd><td class=val><a href=\"https://w3id.org/def/DIBO/PharmacologicAction\" target=\"_other\">https://w3id.org/def/DIBO/PharmacologicAction</a></td></tr><tr class=even><td class=val><a href=\"https://w3id.org/def/DIBO/PharmacologicAction\" target=\"_other\">https://w3id.org/def/DIBO/PharmacologicAction</a></td></tr><tr class=odd><td class=val><a href=\"https://w3id.org/def/DIBO/PharmacologicSubstance\" target=\"_other\">https://w3id.org/def/DIBO/PharmacologicSubstance</a></td></tr><tr class=even><td class=val><a href=\"https://w3id.org/def/DIBO/PharmacologicSubstance\" target=\"_other\">https://w3id.org/def/DIBO/PharmacologicSubstance</a></td></tr><tr class=odd><td class=val><a href=\"https://w3id.org/def/DIBO/PharmacologicSubstance\" target=\"_other\">https://w3id.org/def/DIBO/PharmacologicSubstance</a></td></tr><tr class=even><td class=val><a href=\"https://w3id.org/def/DIBO/PharmacologicSubstance\" target=\"_other\">https://w3id.org/def/DIBO/PharmacologicSubstance</a></td></tr><tr class=odd><td class=val><a href=\"https://w3id.org/def/DIBO/PharmacologicSubstance\" target=\"_other\">https://w3id.org/def/DIBO/PharmacologicSubstance</a></td></tr><tr class=even><td class=val><a href=\"https://w3id.org/def/DIBO/PharmacologicSubstance\" target=\"_other\">https://w3id.org/def/DIBO/PharmacologicSubstance</a></td></tr><tr class=odd><td class=val><a href=\"https://w3id.org/def/DIBO/PharmacologicSubstance\" target=\"_other\">https://w3id.org/def/DIBO/PharmacologicSubstance</a></td></tr><tr class=even><td class=val><a href=\"https://w3id.org/def/DIBO/PharmacologicSubstance\" target=\"_other\">https://w3id.org/def/DIBO/PharmacologicSubstance</a></td></tr><tr class=odd><td class=val><a href=\"https://w3id.org/def/DIBO/PharmacologicSubstance\" target=\"_other\">https://w3id.org/def/DIBO/PharmacologicSubstance</a></td></tr><tr class=even><td class=val><a href=\"https://w3id.org/def/DIBO/PharmacologicSubstance\" target=\"_other\">https://w3id.org/def/DIBO/PharmacologicSubstance</a></td></tr></table><div class=\"tinfo\">Total: 18898, Shown: 20</div></div>"
      ]
     },
     "metadata": {},
     "output_type": "display_data"
    }
   ],
   "source": [
    "PREFIX dibo: <https://w3id.org/def/DIBO#>\n",
    "PREFIX dibo_core: <https://w3id.org/def/DIBO/>\n",
    "PREFIX dibo_data: <https://w3id.org/def/DIBO/data>\n",
    "PREFIX rdf: <https://w3id.org/1999/02/22-rdf-syntax-ns#>\n",
    "PREFIX rdfs: <http://www.w3.org/2000/01/rdf-schema#>\n",
    "PREFIX xsd: <https://w3id.org/2001/XMLSchema#>\n",
    "SELECT  ?superClass\n",
    "WHERE{\n",
    "    ?interaction dibo:hasTarget ?target ;\n",
    "                 a ?class .\n",
    "    ?class rdfs:subClassOf ?superClass\n",
    "} "
   ]
  },
  {
   "cell_type": "code",
   "execution_count": 5,
   "metadata": {
    "ExecuteTime": {
     "end_time": "2020-01-19T19:07:37.770963Z",
     "start_time": "2020-01-19T19:07:37.278328Z"
    }
   },
   "outputs": [
    {
     "data": {
      "text/html": [
       "<div class=\"krn-spql\"><table><tr class=hdr><th>S</th>\n",
       "<th>P</th>\n",
       "<th>O</th></tr><tr class=odd><td class=val><a href=\"https://w3id.org/def/DIBO/data/1079\" target=\"_other\">https://w3id.org/def/DIBO/data/1079</a></td>\n",
       "<td class=val><a href=\"https://w3id.org/def/DIBO#hasTarget\" target=\"_other\">https://w3id.org/def/DIBO#hasTarget</a></td>\n",
       "<td class=val><a href=\"https://w3id.org/def/DIBO/data/Probable_arabinosyltransferase_A\" target=\"_other\">https://w3id.org/def/DIBO/data/Probable_arabinosyltransferase_A</a></td></tr><tr class=even><td class=val><a href=\"https://w3id.org/def/DIBO/data/108\" target=\"_other\">https://w3id.org/def/DIBO/data/108</a></td>\n",
       "<td class=val><a href=\"https://w3id.org/1999/02/22-rdf-syntax-ns#type\" target=\"_other\">https://w3id.org/1999/02/22-rdf-syntax-ns#type</a></td>\n",
       "<td class=val><a href=\"https://w3id.org/def/DIBO/Neutral\" target=\"_other\">https://w3id.org/def/DIBO/Neutral</a></td></tr><tr class=odd><td class=val><a href=\"https://w3id.org/def/DIBO/data/108\" target=\"_other\">https://w3id.org/def/DIBO/data/108</a></td>\n",
       "<td class=val><a href=\"https://w3id.org/def/DIBO#hasDrug\" target=\"_other\">https://w3id.org/def/DIBO#hasDrug</a></td>\n",
       "<td class=val><a href=\"https://w3id.org/def/DIBO/data/DB01595\" target=\"_other\">https://w3id.org/def/DIBO/data/DB01595</a></td></tr><tr class=even><td class=val><a href=\"https://w3id.org/def/DIBO/data/108\" target=\"_other\">https://w3id.org/def/DIBO/data/108</a></td>\n",
       "<td class=val><a href=\"https://w3id.org/def/DIBO#hasTarget\" target=\"_other\">https://w3id.org/def/DIBO#hasTarget</a></td>\n",
       "<td class=val><a href=\"https://w3id.org/def/DIBO/data/Gamma-aminobutyric_acid_receptor_subunit_alpha-6\" target=\"_other\">https://w3id.org/def/DIBO/data/Gamma-aminobutyric_acid_receptor_subunit_alpha-6</a></td></tr><tr class=odd><td class=val><a href=\"https://w3id.org/def/DIBO/data/1080\" target=\"_other\">https://w3id.org/def/DIBO/data/1080</a></td>\n",
       "<td class=val><a href=\"https://w3id.org/1999/02/22-rdf-syntax-ns#type\" target=\"_other\">https://w3id.org/1999/02/22-rdf-syntax-ns#type</a></td>\n",
       "<td class=val><a href=\"https://w3id.org/def/DIBO/Antagonism\" target=\"_other\">https://w3id.org/def/DIBO/Antagonism</a></td></tr><tr class=even><td class=val><a href=\"https://w3id.org/def/DIBO/data/1080\" target=\"_other\">https://w3id.org/def/DIBO/data/1080</a></td>\n",
       "<td class=val><a href=\"https://w3id.org/def/DIBO#hasDrug\" target=\"_other\">https://w3id.org/def/DIBO#hasDrug</a></td>\n",
       "<td class=val><a href=\"https://w3id.org/def/DIBO/data/DB01201\" target=\"_other\">https://w3id.org/def/DIBO/data/DB01201</a></td></tr><tr class=odd><td class=val><a href=\"https://w3id.org/def/DIBO/data/1080\" target=\"_other\">https://w3id.org/def/DIBO/data/1080</a></td>\n",
       "<td class=val><a href=\"https://w3id.org/def/DIBO#hasTarget\" target=\"_other\">https://w3id.org/def/DIBO#hasTarget</a></td>\n",
       "<td class=val><a href=\"https://w3id.org/def/DIBO/data/DNA-directed_RNA_polymerase_subunit_beta'\" target=\"_other\">https://w3id.org/def/DIBO/data/DNA-directed_RNA_polymerase_subunit_beta'</a></td></tr><tr class=even><td class=val><a href=\"https://w3id.org/def/DIBO/data/1081\" target=\"_other\">https://w3id.org/def/DIBO/data/1081</a></td>\n",
       "<td class=val><a href=\"https://w3id.org/1999/02/22-rdf-syntax-ns#type\" target=\"_other\">https://w3id.org/1999/02/22-rdf-syntax-ns#type</a></td>\n",
       "<td class=val><a href=\"https://w3id.org/def/DIBO/Antagonism\" target=\"_other\">https://w3id.org/def/DIBO/Antagonism</a></td></tr><tr class=odd><td class=val><a href=\"https://w3id.org/def/DIBO/data/1081\" target=\"_other\">https://w3id.org/def/DIBO/data/1081</a></td>\n",
       "<td class=val><a href=\"https://w3id.org/def/DIBO#hasDrug\" target=\"_other\">https://w3id.org/def/DIBO#hasDrug</a></td>\n",
       "<td class=val><a href=\"https://w3id.org/def/DIBO/data/DB01127\" target=\"_other\">https://w3id.org/def/DIBO/data/DB01127</a></td></tr><tr class=even><td class=val><a href=\"https://w3id.org/def/DIBO/data/1081\" target=\"_other\">https://w3id.org/def/DIBO/data/1081</a></td>\n",
       "<td class=val><a href=\"https://w3id.org/def/DIBO#hasTarget\" target=\"_other\">https://w3id.org/def/DIBO#hasTarget</a></td>\n",
       "<td class=val><a href=\"https://w3id.org/def/DIBO/data/Cytochrome_P450_51\" target=\"_other\">https://w3id.org/def/DIBO/data/Cytochrome_P450_51</a></td></tr><tr class=odd><td class=val><a href=\"https://w3id.org/def/DIBO/data/1082\" target=\"_other\">https://w3id.org/def/DIBO/data/1082</a></td>\n",
       "<td class=val><a href=\"https://w3id.org/1999/02/22-rdf-syntax-ns#type\" target=\"_other\">https://w3id.org/1999/02/22-rdf-syntax-ns#type</a></td>\n",
       "<td class=val><a href=\"https://w3id.org/def/DIBO/Neutral\" target=\"_other\">https://w3id.org/def/DIBO/Neutral</a></td></tr><tr class=even><td class=val><a href=\"https://w3id.org/def/DIBO/data/1082\" target=\"_other\">https://w3id.org/def/DIBO/data/1082</a></td>\n",
       "<td class=val><a href=\"https://w3id.org/def/DIBO#hasDrug\" target=\"_other\">https://w3id.org/def/DIBO#hasDrug</a></td>\n",
       "<td class=val><a href=\"https://w3id.org/def/DIBO/data/DB01127\" target=\"_other\">https://w3id.org/def/DIBO/data/DB01127</a></td></tr><tr class=odd><td class=val><a href=\"https://w3id.org/def/DIBO/data/1082\" target=\"_other\">https://w3id.org/def/DIBO/data/1082</a></td>\n",
       "<td class=val><a href=\"https://w3id.org/def/DIBO#hasTarget\" target=\"_other\">https://w3id.org/def/DIBO#hasTarget</a></td>\n",
       "<td class=val><a href=\"https://w3id.org/def/DIBO/data/Nuclear_receptor_subfamily_1_group_I_member_2\" target=\"_other\">https://w3id.org/def/DIBO/data/Nuclear_receptor_subfamily_1_group_I_member_2</a></td></tr><tr class=even><td class=val><a href=\"https://w3id.org/def/DIBO/data/1083\" target=\"_other\">https://w3id.org/def/DIBO/data/1083</a></td>\n",
       "<td class=val><a href=\"https://w3id.org/1999/02/22-rdf-syntax-ns#type\" target=\"_other\">https://w3id.org/1999/02/22-rdf-syntax-ns#type</a></td>\n",
       "<td class=val><a href=\"https://w3id.org/def/DIBO/Antagonism\" target=\"_other\">https://w3id.org/def/DIBO/Antagonism</a></td></tr><tr class=odd><td class=val><a href=\"https://w3id.org/def/DIBO/data/1083\" target=\"_other\">https://w3id.org/def/DIBO/data/1083</a></td>\n",
       "<td class=val><a href=\"https://w3id.org/def/DIBO#hasDrug\" target=\"_other\">https://w3id.org/def/DIBO#hasDrug</a></td>\n",
       "<td class=val><a href=\"https://w3id.org/def/DIBO/data/DB01110\" target=\"_other\">https://w3id.org/def/DIBO/data/DB01110</a></td></tr><tr class=even><td class=val><a href=\"https://w3id.org/def/DIBO/data/1083\" target=\"_other\">https://w3id.org/def/DIBO/data/1083</a></td>\n",
       "<td class=val><a href=\"https://w3id.org/def/DIBO#hasTarget\" target=\"_other\">https://w3id.org/def/DIBO#hasTarget</a></td>\n",
       "<td class=val><a href=\"https://w3id.org/def/DIBO/data/Cytochrome_P450_51\" target=\"_other\">https://w3id.org/def/DIBO/data/Cytochrome_P450_51</a></td></tr><tr class=odd><td class=val><a href=\"https://w3id.org/def/DIBO/data/1084\" target=\"_other\">https://w3id.org/def/DIBO/data/1084</a></td>\n",
       "<td class=val><a href=\"https://w3id.org/1999/02/22-rdf-syntax-ns#type\" target=\"_other\">https://w3id.org/1999/02/22-rdf-syntax-ns#type</a></td>\n",
       "<td class=val><a href=\"https://w3id.org/def/DIBO/Antagonism\" target=\"_other\">https://w3id.org/def/DIBO/Antagonism</a></td></tr><tr class=even><td class=val><a href=\"https://w3id.org/def/DIBO/data/1084\" target=\"_other\">https://w3id.org/def/DIBO/data/1084</a></td>\n",
       "<td class=val><a href=\"https://w3id.org/def/DIBO#hasDrug\" target=\"_other\">https://w3id.org/def/DIBO#hasDrug</a></td>\n",
       "<td class=val><a href=\"https://w3id.org/def/DIBO/data/DB01110\" target=\"_other\">https://w3id.org/def/DIBO/data/DB01110</a></td></tr><tr class=odd><td class=val><a href=\"https://w3id.org/def/DIBO/data/1084\" target=\"_other\">https://w3id.org/def/DIBO/data/1084</a></td>\n",
       "<td class=val><a href=\"https://w3id.org/def/DIBO#hasTarget\" target=\"_other\">https://w3id.org/def/DIBO#hasTarget</a></td>\n",
       "<td class=val><a href=\"https://w3id.org/def/DIBO/data/Nitric_oxide_synthase,_endothelial\" target=\"_other\">https://w3id.org/def/DIBO/data/Nitric_oxide_synthase,_endothelial</a></td></tr><tr class=even><td class=val><a href=\"https://w3id.org/def/DIBO/data/1085\" target=\"_other\">https://w3id.org/def/DIBO/data/1085</a></td>\n",
       "<td class=val><a href=\"https://w3id.org/1999/02/22-rdf-syntax-ns#type\" target=\"_other\">https://w3id.org/1999/02/22-rdf-syntax-ns#type</a></td>\n",
       "<td class=val><a href=\"https://w3id.org/def/DIBO/Antagonism\" target=\"_other\">https://w3id.org/def/DIBO/Antagonism</a></td></tr></table><div class=\"tinfo\">Total: 7337, Shown: 20</div></div>"
      ]
     },
     "metadata": {},
     "output_type": "display_data"
    }
   ],
   "source": [
    "SELECT DISTINCT *\n",
    "WHERE{\n",
    "  ?S ?P ?O}"
   ]
  },
  {
   "cell_type": "markdown",
   "metadata": {},
   "source": [
    "## Todos los **FÁRMACOS**, su **DIANA**, el **TIPO DE INTERACCIÓN** y la **FUNCIÓN DE LA DIANA**."
   ]
  },
  {
   "cell_type": "code",
   "execution_count": 19,
   "metadata": {
    "ExecuteTime": {
     "end_time": "2020-01-19T18:43:42.664395Z",
     "start_time": "2020-01-19T18:43:42.601760Z"
    }
   },
   "outputs": [
    {
     "data": {
      "text/html": [
       "<div class=\"krn-spql\"><table><tr class=hdr><th>DRUG_NAME</th>\n",
       "<th>TARGET</th>\n",
       "<th>INTERACTION</th>\n",
       "<th>FUNCTION</th></tr><tr class=odd><td class=val>Oxytocin (JP17/USP/INN)</td>\n",
       "<td class=val>Gamma-aminobutyric acid receptor subunit alpha-6</td>\n",
       "<td class=val>Neutral</td>\n",
       "<td class=val>inhibitory extracellular ligand-gated ion channel activity</td></tr><tr class=even><td class=val>Oxytocin (JP17/USP/INN)</td>\n",
       "<td class=val>Gamma-aminobutyric acid receptor subunit alpha-6</td>\n",
       "<td class=val>Neutral</td>\n",
       "<td class=val>inhibitory extracellular ligand-gated ion channel activity</td></tr><tr class=odd><td class=val>Methionine (USP)</td>\n",
       "<td class=val>5-hydroxytryptamine receptor 2B</td>\n",
       "<td class=val>Neutral</td>\n",
       "<td class=val>serotonin receptor activity</td></tr><tr class=even><td class=val>Methionine (USP)</td>\n",
       "<td class=val>5-hydroxytryptamine receptor 2B</td>\n",
       "<td class=val>Neutral</td>\n",
       "<td class=val>g-protein coupled receptor for 5-hydroxytryptamine (serotonin). also functions as a receptor for various ergot alkaloid derivatives and psychoactive substances. ligand binding causes a conformation...</td></tr><tr class=odd><td class=val>Methionine (USP)</td>\n",
       "<td class=val>5-hydroxytryptamine receptor 2A</td>\n",
       "<td class=val>Neutral</td>\n",
       "<td class=val>virus receptor activity</td></tr></table><div class=\"tinfo\">Total: 5, Shown: 5</div></div>"
      ]
     },
     "metadata": {},
     "output_type": "display_data"
    }
   ],
   "source": [
    "PREFIX dibo: <https://w3id.org/def/DIBO#>\n",
    "PREFIX dibo_core: <https://w3id.org/def/DIBO/>\n",
    "PREFIX dibo_data: <https://w3id.org/def/DIBO/data>\n",
    "PREFIX rdf: <https://w3id.org/1999/02/22-rdf-syntax-ns#>\n",
    "PREFIX rdfs: <http://www.w3.org/2000/01/rdf-schema#>\n",
    "PREFIX xsd: <https://w3id.org/2001/XMLSchema#>\n",
    "SELECT distinct (?drugName AS ?DRUG_NAME) (?targetName AS ?TARGET) \n",
    "(?interactionDescription AS ?INTERACTION) (?targetFunction AS ?FUNCTION)\n",
    "WHERE {      \n",
    "    ?interaction dibo:hasTarget ?target ;\n",
    "                 dibo:hasDrug ?drug ;\n",
    "                 a ?interactionType .\n",
    "    ?interactionType rdfs:label ?interactionDescription .\n",
    "    ?target dibo:hasName ?targetName ;\n",
    "            dibo:hasFunction ?targetFunction .\n",
    "    ?drug dibo:hasScientificName ?drugName .\n",
    "} LIMIT 5"
   ]
  },
  {
   "cell_type": "markdown",
   "metadata": {},
   "source": [
    "## Lista de **FÁRMACOS**, **AGRUPACIÓN FUNCTIONAL (tipo de agente)** y la **DESCRIPCIÓN DE LA FUNCIÓN**"
   ]
  },
  {
   "cell_type": "code",
   "execution_count": 24,
   "metadata": {
    "ExecuteTime": {
     "end_time": "2020-01-19T18:44:07.148315Z",
     "start_time": "2020-01-19T18:44:07.115717Z"
    }
   },
   "outputs": [
    {
     "data": {
      "text/html": [
       "<div class=\"krn-spql\"><table><tr class=hdr><th>DRUG_NAME</th>\n",
       "<th>FUNCTION</th>\n",
       "<th>DESCRIPTION</th></tr><tr class=odd><td class=val>Folic acid (JP17/USP/INN)</td>\n",
       "<td class=val>Antineoplasic Agent</td>\n",
       "<td class=val>A substance that inhibits the maturation, growth or spread of tumor cells.</td></tr><tr class=even><td class=val>Folic acid (JP17/USP/INN)</td>\n",
       "<td class=val>Antineoplasic Agent</td>\n",
       "<td class=val>A substance that inhibits the maturation, growth or spread of tumor cells.</td></tr><tr class=odd><td class=val>Capreomycin sulfate (JAN/USP)</td>\n",
       "<td class=val>Anti Infective Agent</td>\n",
       "<td class=val>A pharmacological agent that can kill or prevent the reproduction of infectious organisms.</td></tr><tr class=even><td class=val>Capreomycin sulfate (JAN/USP)</td>\n",
       "<td class=val>Anti Infective Agent</td>\n",
       "<td class=val>A pharmacological agent that can kill or prevent the reproduction of infectious organisms.</td></tr><tr class=odd><td class=val>Trimethoprim (JAN/USP/INN)</td>\n",
       "<td class=val>Anti Infective Agent</td>\n",
       "<td class=val>A pharmacological agent that can kill or prevent the reproduction of infectious organisms.</td></tr><tr class=even><td class=val>Trimethoprim (JAN/USP/INN)</td>\n",
       "<td class=val>Anti Infective Agent</td>\n",
       "<td class=val>A pharmacological agent that can kill or prevent the reproduction of infectious organisms.</td></tr><tr class=odd><td class=val>Chloramphenicol (JP17/USP/INN)</td>\n",
       "<td class=val>Anti Infective Agent</td>\n",
       "<td class=val>A pharmacological agent that can kill or prevent the reproduction of infectious organisms.</td></tr><tr class=even><td class=val>Chloramphenicol (JP17/USP/INN)</td>\n",
       "<td class=val>Anti Infective Agent</td>\n",
       "<td class=val>A pharmacological agent that can kill or prevent the reproduction of infectious organisms.</td></tr><tr class=odd><td class=val>Methotrexate (JP17/USP/INN)</td>\n",
       "<td class=val>Antineoplasic Agent</td>\n",
       "<td class=val>A substance that inhibits the maturation, growth or spread of tumor cells.</td></tr><tr class=even><td class=val>Methotrexate (JP17/USP/INN)</td>\n",
       "<td class=val>Antineoplasic Agent</td>\n",
       "<td class=val>A substance that inhibits the maturation, growth or spread of tumor cells.</td></tr><tr class=odd><td class=val>Etoposide (JP17/USP/INN)</td>\n",
       "<td class=val>Antineoplasic Agent</td>\n",
       "<td class=val>A substance that inhibits the maturation, growth or spread of tumor cells.</td></tr><tr class=even><td class=val>Etoposide (JP17/USP/INN)</td>\n",
       "<td class=val>Antineoplasic Agent</td>\n",
       "<td class=val>A substance that inhibits the maturation, growth or spread of tumor cells.</td></tr><tr class=odd><td class=val>Testolactone (USP/INN)</td>\n",
       "<td class=val>Antineoplasic Agent</td>\n",
       "<td class=val>A substance that inhibits the maturation, growth or spread of tumor cells.</td></tr><tr class=even><td class=val>Testolactone (USP/INN)</td>\n",
       "<td class=val>Antineoplasic Agent</td>\n",
       "<td class=val>A substance that inhibits the maturation, growth or spread of tumor cells.</td></tr><tr class=odd><td class=val>Epoprostenol (USAN/INN)</td>\n",
       "<td class=val>Agent Affecting Cardiovascular System</td>\n",
       "<td class=val>An agent that exerts a physiologic effect on any anatomic entity that is part of the cardiovascular system, including the heart and blood vessels.</td></tr><tr class=even><td class=val>Epoprostenol (USAN/INN)</td>\n",
       "<td class=val>Agent Affecting Cardiovascular System</td>\n",
       "<td class=val>An agent that exerts a physiologic effect on any anatomic entity that is part of the cardiovascular system, including the heart and blood vessels.</td></tr></table><div class=\"tinfo\">Total: 16, Shown: 16</div></div>"
      ]
     },
     "metadata": {},
     "output_type": "display_data"
    }
   ],
   "source": [
    "PREFIX dibo: <https://w3id.org/def/DIBO#>\n",
    "PREFIX dibo_core: <https://w3id.org/def/DIBO/>\n",
    "PREFIX dibo_data: <https://w3id.org/def/DIBO/data>\n",
    "PREFIX rdf: <https://w3id.org/1999/02/22-rdf-syntax-ns#>\n",
    "PREFIX rdfs: <http://www.w3.org/2000/01/rdf-schema#>\n",
    "\n",
    "SELECT (?drug_name AS ?DRUG_NAME) (?functionallyGroupedIn AS ?FUNCTION) (?functionDescription AS ?DESCRIPTION)\n",
    "WHERE {\n",
    "    ?drug a dibo_core:Drug ;\n",
    "            dibo:hasScientificName ?drug_name ;\n",
    "            dibo:functionallyGroupedIn ?function .\n",
    "    ?function rdfs:label ?functionallyGroupedIn ;\n",
    "              rdfs:comment ?functionDescription \n",
    "}"
   ]
  },
  {
   "cell_type": "markdown",
   "metadata": {},
   "source": [
    "## Lista de **FÁRMACOS**, **AGRUPACIÓN FUNCTIONAL (tipo de agente)**, **DIANA** y **FUNCIÓN DE LA DIANA**"
   ]
  },
  {
   "cell_type": "code",
   "execution_count": 28,
   "metadata": {
    "ExecuteTime": {
     "end_time": "2020-01-19T18:44:22.703754Z",
     "start_time": "2020-01-19T18:44:22.645457Z"
    }
   },
   "outputs": [
    {
     "data": {
      "text/html": [
       "<div class=\"krn-spql\"><table><tr class=hdr><th>DRUG_NAME</th>\n",
       "<th>FUNCTION</th>\n",
       "<th>TARGET</th>\n",
       "<th>TARGET_FUNCTION</th></tr><tr class=odd><td class=val>Folic acid (JP17/USP/INN)</td>\n",
       "<td class=val>Antineoplasic Agent</td>\n",
       "<td class=val>Folate receptor gamma</td>\n",
       "<td class=val>folic acid binding</td></tr><tr class=even><td class=val>Folic acid (JP17/USP/INN)</td>\n",
       "<td class=val>Antineoplasic Agent</td>\n",
       "<td class=val>Folate receptor gamma</td>\n",
       "<td class=val>folic acid binding</td></tr><tr class=odd><td class=val>Folic acid (JP17/USP/INN)</td>\n",
       "<td class=val>Antineoplasic Agent</td>\n",
       "<td class=val>Folate receptor gamma</td>\n",
       "<td class=val>folic acid binding</td></tr><tr class=even><td class=val>Folic acid (JP17/USP/INN)</td>\n",
       "<td class=val>Antineoplasic Agent</td>\n",
       "<td class=val>Folate receptor gamma</td>\n",
       "<td class=val>folic acid binding</td></tr><tr class=odd><td class=val>Epoprostenol (USAN/INN)</td>\n",
       "<td class=val>Agent Affecting Cardiovascular System</td>\n",
       "<td class=val>P2Y purinoceptor 12</td>\n",
       "<td class=val>guanyl-nucleotide exchange factor activity</td></tr><tr class=even><td class=val>Epoprostenol (USAN/INN)</td>\n",
       "<td class=val>Agent Affecting Cardiovascular System</td>\n",
       "<td class=val>P2Y purinoceptor 12</td>\n",
       "<td class=val>guanyl-nucleotide exchange factor activity</td></tr><tr class=odd><td class=val>Epoprostenol (USAN/INN)</td>\n",
       "<td class=val>Agent Affecting Cardiovascular System</td>\n",
       "<td class=val>P2Y purinoceptor 12</td>\n",
       "<td class=val>guanyl-nucleotide exchange factor activity</td></tr><tr class=even><td class=val>Epoprostenol (USAN/INN)</td>\n",
       "<td class=val>Agent Affecting Cardiovascular System</td>\n",
       "<td class=val>P2Y purinoceptor 12</td>\n",
       "<td class=val>guanyl-nucleotide exchange factor activity</td></tr><tr class=odd><td class=val>Epoprostenol (USAN/INN)</td>\n",
       "<td class=val>Agent Affecting Cardiovascular System</td>\n",
       "<td class=val>P2Y purinoceptor 12</td>\n",
       "<td class=val>guanyl-nucleotide exchange factor activity</td></tr><tr class=even><td class=val>Epoprostenol (USAN/INN)</td>\n",
       "<td class=val>Agent Affecting Cardiovascular System</td>\n",
       "<td class=val>P2Y purinoceptor 12</td>\n",
       "<td class=val>guanyl-nucleotide exchange factor activity</td></tr><tr class=odd><td class=val>Epoprostenol (USAN/INN)</td>\n",
       "<td class=val>Agent Affecting Cardiovascular System</td>\n",
       "<td class=val>P2Y purinoceptor 12</td>\n",
       "<td class=val>guanyl-nucleotide exchange factor activity</td></tr><tr class=even><td class=val>Epoprostenol (USAN/INN)</td>\n",
       "<td class=val>Agent Affecting Cardiovascular System</td>\n",
       "<td class=val>P2Y purinoceptor 12</td>\n",
       "<td class=val>guanyl-nucleotide exchange factor activity</td></tr><tr class=odd><td class=val>Epoprostenol (USAN/INN)</td>\n",
       "<td class=val>Agent Affecting Cardiovascular System</td>\n",
       "<td class=val>Prostacyclin receptor</td>\n",
       "<td class=val>guanyl-nucleotide exchange factor activity</td></tr><tr class=even><td class=val>Epoprostenol (USAN/INN)</td>\n",
       "<td class=val>Agent Affecting Cardiovascular System</td>\n",
       "<td class=val>Prostacyclin receptor</td>\n",
       "<td class=val>guanyl-nucleotide exchange factor activity</td></tr><tr class=odd><td class=val>Epoprostenol (USAN/INN)</td>\n",
       "<td class=val>Agent Affecting Cardiovascular System</td>\n",
       "<td class=val>Prostacyclin receptor</td>\n",
       "<td class=val>guanyl-nucleotide exchange factor activity</td></tr><tr class=even><td class=val>Epoprostenol (USAN/INN)</td>\n",
       "<td class=val>Agent Affecting Cardiovascular System</td>\n",
       "<td class=val>Prostacyclin receptor</td>\n",
       "<td class=val>guanyl-nucleotide exchange factor activity</td></tr><tr class=odd><td class=val>Epoprostenol (USAN/INN)</td>\n",
       "<td class=val>Agent Affecting Cardiovascular System</td>\n",
       "<td class=val>Prostacyclin receptor</td>\n",
       "<td class=val>guanyl-nucleotide exchange factor activity</td></tr><tr class=even><td class=val>Epoprostenol (USAN/INN)</td>\n",
       "<td class=val>Agent Affecting Cardiovascular System</td>\n",
       "<td class=val>Prostacyclin receptor</td>\n",
       "<td class=val>guanyl-nucleotide exchange factor activity</td></tr><tr class=odd><td class=val>Epoprostenol (USAN/INN)</td>\n",
       "<td class=val>Agent Affecting Cardiovascular System</td>\n",
       "<td class=val>Prostacyclin receptor</td>\n",
       "<td class=val>guanyl-nucleotide exchange factor activity</td></tr><tr class=even><td class=val>Epoprostenol (USAN/INN)</td>\n",
       "<td class=val>Agent Affecting Cardiovascular System</td>\n",
       "<td class=val>Prostacyclin receptor</td>\n",
       "<td class=val>guanyl-nucleotide exchange factor activity</td></tr></table><div class=\"tinfo\">Total: 166, Shown: 20</div></div>"
      ]
     },
     "metadata": {},
     "output_type": "display_data"
    }
   ],
   "source": [
    "PREFIX dibo: <https://w3id.org/def/DIBO#>\n",
    "PREFIX dibo_core: <https://w3id.org/def/DIBO/>\n",
    "PREFIX dibo_data: <https://w3id.org/def/DIBO/data>\n",
    "PREFIX rdf: <https://w3id.org/1999/02/22-rdf-syntax-ns#>\n",
    "PREFIX rdfs: <http://www.w3.org/2000/01/rdf-schema#>\n",
    "\n",
    "SELECT (?drug_name AS ?DRUG_NAME) (?functionallyGroupedIn AS ?FUNCTION)\n",
    "(?targetName AS ?TARGET) (?targetFunction AS ?TARGET_FUNCTION)\n",
    "WHERE {\n",
    "    ?drug a dibo_core:Drug ;\n",
    "            dibo:hasScientificName ?drug_name ;\n",
    "            dibo:functionallyGroupedIn ?function .\n",
    "    ?function rdfs:label ?functionallyGroupedIn .\n",
    "    ?interaction dibo:hasDrug ?drug ;\n",
    "                 dibo:hasTarget ?target .\n",
    "    ?target dibo:hasFunction ?targetFunction ;\n",
    "            dibo:hasName ?targetName\n",
    "}"
   ]
  },
  {
   "cell_type": "markdown",
   "metadata": {},
   "source": [
    "## PROPIEDADES de un fármaco"
   ]
  },
  {
   "cell_type": "code",
   "execution_count": 29,
   "metadata": {
    "ExecuteTime": {
     "end_time": "2020-01-19T18:44:32.781422Z",
     "start_time": "2020-01-19T18:44:32.065845Z"
    }
   },
   "outputs": [
    {
     "data": {
      "text/html": [
       "<div class=\"krn-spql\"><table><tr class=hdr><th>DRUG</th>\n",
       "<th>FORMULA</th>\n",
       "<th>MOLECULAR_MASS</th>\n",
       "<th>MM_UNITS</th>\n",
       "<th>HALF_LIFE</th>\n",
       "<th>DRUGBANK</th>\n",
       "<th>CheBI</th></tr><tr class=odd><td class=val>Riboflavin (JP17/USP/INN)</td>\n",
       "<td class=val>C17H20N4O6</td>\n",
       "<td class=val>376.1383</td>\n",
       "<td class=val>Da</td>\n",
       "<td class=val>UNKNOWN</td>\n",
       "<td class=val>DB00140</td>\n",
       "<td class=val>17015</td></tr><tr class=even><td class=val>Riboflavin (JP17/USP/INN)</td>\n",
       "<td class=val>C17H20N4O6</td>\n",
       "<td class=val>376.1383</td>\n",
       "<td class=val>Da</td>\n",
       "<td class=val>UNKNOWN</td>\n",
       "<td class=val>DB00140</td>\n",
       "<td class=val>17015</td></tr><tr class=odd><td class=val>Riboflavin (JP17/USP/INN)</td>\n",
       "<td class=val>C17H20N4O6</td>\n",
       "<td class=val>376.1383</td>\n",
       "<td class=val>Da</td>\n",
       "<td class=val>UNKNOWN</td>\n",
       "<td class=val>DB00140</td>\n",
       "<td class=val>17015</td></tr><tr class=even><td class=val>Riboflavin (JP17/USP/INN)</td>\n",
       "<td class=val>C17H20N4O6</td>\n",
       "<td class=val>376.1383</td>\n",
       "<td class=val>Da</td>\n",
       "<td class=val>UNKNOWN</td>\n",
       "<td class=val>DB00140</td>\n",
       "<td class=val>17015</td></tr><tr class=odd><td class=val>Riboflavin (JP17/USP/INN)</td>\n",
       "<td class=val>C17H20N4O6</td>\n",
       "<td class=val>376.1383</td>\n",
       "<td class=val>Da</td>\n",
       "<td class=val>UNKNOWN</td>\n",
       "<td class=val>DB00140</td>\n",
       "<td class=val>17015</td></tr><tr class=even><td class=val>Riboflavin (JP17/USP/INN)</td>\n",
       "<td class=val>C17H20N4O6</td>\n",
       "<td class=val>376.1383</td>\n",
       "<td class=val>Da</td>\n",
       "<td class=val>UNKNOWN</td>\n",
       "<td class=val>DB00140</td>\n",
       "<td class=val>17015</td></tr><tr class=odd><td class=val>Riboflavin (JP17/USP/INN)</td>\n",
       "<td class=val>C17H20N4O6</td>\n",
       "<td class=val>376.1383</td>\n",
       "<td class=val>Da</td>\n",
       "<td class=val>UNKNOWN</td>\n",
       "<td class=val>DB00140</td>\n",
       "<td class=val>17015</td></tr><tr class=even><td class=val>Riboflavin (JP17/USP/INN)</td>\n",
       "<td class=val>C17H20N4O6</td>\n",
       "<td class=val>376.1383</td>\n",
       "<td class=val>Da</td>\n",
       "<td class=val>UNKNOWN</td>\n",
       "<td class=val>DB00140</td>\n",
       "<td class=val>17015</td></tr><tr class=odd><td class=val>Riboflavin (JP17/USP/INN)</td>\n",
       "<td class=val>C17H20N4O6</td>\n",
       "<td class=val>376.1383</td>\n",
       "<td class=val>Da</td>\n",
       "<td class=val>UNKNOWN</td>\n",
       "<td class=val>DB00140</td>\n",
       "<td class=val>17015</td></tr><tr class=even><td class=val>Riboflavin (JP17/USP/INN)</td>\n",
       "<td class=val>C17H20N4O6</td>\n",
       "<td class=val>376.1383</td>\n",
       "<td class=val>Da</td>\n",
       "<td class=val>UNKNOWN</td>\n",
       "<td class=val>DB00140</td>\n",
       "<td class=val>17015</td></tr><tr class=odd><td class=val>Riboflavin (JP17/USP/INN)</td>\n",
       "<td class=val>C17H20N4O6</td>\n",
       "<td class=val>376.1383</td>\n",
       "<td class=val>Da</td>\n",
       "<td class=val>UNKNOWN</td>\n",
       "<td class=val>DB00140</td>\n",
       "<td class=val>17015</td></tr><tr class=even><td class=val>Riboflavin (JP17/USP/INN)</td>\n",
       "<td class=val>C17H20N4O6</td>\n",
       "<td class=val>376.1383</td>\n",
       "<td class=val>Da</td>\n",
       "<td class=val>UNKNOWN</td>\n",
       "<td class=val>DB00140</td>\n",
       "<td class=val>17015</td></tr><tr class=odd><td class=val>Riboflavin (JP17/USP/INN)</td>\n",
       "<td class=val>C17H20N4O6</td>\n",
       "<td class=val>376.1383</td>\n",
       "<td class=val>Da</td>\n",
       "<td class=val>UNKNOWN</td>\n",
       "<td class=val>DB00140</td>\n",
       "<td class=val>17015</td></tr><tr class=even><td class=val>Riboflavin (JP17/USP/INN)</td>\n",
       "<td class=val>C17H20N4O6</td>\n",
       "<td class=val>376.1383</td>\n",
       "<td class=val>Da</td>\n",
       "<td class=val>UNKNOWN</td>\n",
       "<td class=val>DB00140</td>\n",
       "<td class=val>17015</td></tr><tr class=odd><td class=val>Riboflavin (JP17/USP/INN)</td>\n",
       "<td class=val>C17H20N4O6</td>\n",
       "<td class=val>376.1383</td>\n",
       "<td class=val>Da</td>\n",
       "<td class=val>UNKNOWN</td>\n",
       "<td class=val>DB00140</td>\n",
       "<td class=val>17015</td></tr><tr class=even><td class=val>Riboflavin (JP17/USP/INN)</td>\n",
       "<td class=val>C17H20N4O6</td>\n",
       "<td class=val>376.1383</td>\n",
       "<td class=val>Da</td>\n",
       "<td class=val>UNKNOWN</td>\n",
       "<td class=val>DB00140</td>\n",
       "<td class=val>17015</td></tr><tr class=odd><td class=val>Riboflavin (JP17/USP/INN)</td>\n",
       "<td class=val>C17H20N4O6</td>\n",
       "<td class=val>376.1383</td>\n",
       "<td class=val>Da</td>\n",
       "<td class=val>UNKNOWN</td>\n",
       "<td class=val>DB00140</td>\n",
       "<td class=val>17015</td></tr><tr class=even><td class=val>Riboflavin (JP17/USP/INN)</td>\n",
       "<td class=val>C17H20N4O6</td>\n",
       "<td class=val>376.1383</td>\n",
       "<td class=val>Da</td>\n",
       "<td class=val>UNKNOWN</td>\n",
       "<td class=val>DB00140</td>\n",
       "<td class=val>17015</td></tr><tr class=odd><td class=val>Riboflavin (JP17/USP/INN)</td>\n",
       "<td class=val>C17H20N4O6</td>\n",
       "<td class=val>376.1383</td>\n",
       "<td class=val>Da</td>\n",
       "<td class=val>UNKNOWN</td>\n",
       "<td class=val>DB00140</td>\n",
       "<td class=val>17015</td></tr><tr class=even><td class=val>Riboflavin (JP17/USP/INN)</td>\n",
       "<td class=val>C17H20N4O6</td>\n",
       "<td class=val>376.1383</td>\n",
       "<td class=val>Da</td>\n",
       "<td class=val>UNKNOWN</td>\n",
       "<td class=val>DB00140</td>\n",
       "<td class=val>17015</td></tr></table><div class=\"tinfo\">Total: 4736, Shown: 20</div></div>"
      ]
     },
     "metadata": {},
     "output_type": "display_data"
    }
   ],
   "source": [
    "PREFIX dibo: <https://w3id.org/def/DIBO#>\n",
    "PREFIX dibo_core: <https://w3id.org/def/DIBO/>\n",
    "PREFIX dibo_data: <https://w3id.org/def/DIBO/data>\n",
    "PREFIX rdf: <https://w3id.org/1999/02/22-rdf-syntax-ns#>\n",
    "PREFIX rdfs: <http://www.w3.org/2000/01/rdf-schema#>\n",
    "SELECT (?drug_name AS ?DRUG) (?formula AS ?FORMULA) (?mmValue AS ?MOLECULAR_MASS) (?mmUnit AS ?MM_UNITS) \n",
    "(?half_life AS ?HALF_LIFE) (?drugbank AS ?DRUGBANK) (?chEBI AS ?CheBI)\n",
    "WHERE {\n",
    "    ?drug a dibo_core:Drug ;\n",
    "            dibo:hasScientificName ?drug_name ;\n",
    "            dibo:hasMolecularFormula ?formula ;\n",
    "            dibo:hasMolecularMass ?molecularMass .\n",
    "    ?molecularMass a ?class ;\n",
    "                     dibo:hasUnit ?mmUnit ;\n",
    "                     dibo:hasValue ?mmValue .\n",
    "    ?drug dibo:hasHalfLife ?half_life ;\n",
    "          dibo:hasDrugBankId ?drugbank ;\n",
    "          dibo:hasChebiId ?chEBI \n",
    "} "
   ]
  },
  {
   "cell_type": "markdown",
   "metadata": {},
   "source": [
    "## Todos los FÁRMACOS que actuan como AGONISTAS (Incrementan la actividad) de una ENZIMA concreta, por ejemplo del \"**Dopamine_D4_receptor**\".\n",
    "\n",
    "(NO SE QUE PROBLEMA HAY CON LOS DATATYPES QUE NO FUNCIONAN BIEN)"
   ]
  },
  {
   "cell_type": "code",
   "execution_count": 30,
   "metadata": {
    "ExecuteTime": {
     "end_time": "2020-01-19T18:44:35.745033Z",
     "start_time": "2020-01-19T18:44:35.409504Z"
    }
   },
   "outputs": [
    {
     "data": {
      "text/html": [
       "<div class=\"krn-spql\"><table><tr class=hdr><th>name</th></tr></table><div class=\"tinfo\">Total: 0, Shown: 0</div></div>"
      ]
     },
     "metadata": {},
     "output_type": "display_data"
    }
   ],
   "source": [
    "PREFIX dibo: <https://w3id.org/def/DIBO#>\n",
    "PREFIX dibo_core: <https://w3id.org/def/DIBO/>\n",
    "PREFIX dibo_data: <https://w3id.org/def/DIBO/data/>\n",
    "PREFIX rdf: <https://w3id.org/1999/02/22-rdf-syntax-ns#>\n",
    "PREFIX rdfs: <http://www.w3.org/2000/01/rdf-schema#>\n",
    "SELECT ?name \n",
    "WHERE {      \n",
    "    ?interaction a dibo_core:Agonism ;\n",
    "                   dibo:hasTarget ?protein .\n",
    "    ?proten a dibo_core:Protein ;\n",
    "              dibo:hasName ?name .\n",
    "    FILTER REGEX(?name, \"dopamine\", \"i\")\n",
    "} limit 1"
   ]
  },
  {
   "cell_type": "markdown",
   "metadata": {},
   "source": [
    "## Busca los FÁRMACOS que actúan como AGONISTAS para la PROTEÍNA con UNIPROT ID \"P21728\" (*Dopamine receptor*)"
   ]
  },
  {
   "cell_type": "code",
   "execution_count": 135,
   "metadata": {
    "ExecuteTime": {
     "end_time": "2020-01-19T17:43:35.493128Z",
     "start_time": "2020-01-19T17:43:35.452346Z"
    },
    "scrolled": false
   },
   "outputs": [
    {
     "data": {
      "text/html": [
       "<div class=\"krn-spql\"><table><tr class=hdr><th>DRUG_NAME</th>\n",
       "<th>OTHER_NAME</th></tr><tr class=odd><td class=val>Levodopa (JP17/USP/INN)</td>\n",
       "<td class=val>Dopar (TN)</td></tr><tr class=even><td class=val>Levodopa (JP17/USP/INN)</td>\n",
       "<td class=val>Levodopa (JP17/USP/INN)</td></tr></table><div class=\"tinfo\">Total: 2, Shown: 2</div></div>"
      ]
     },
     "metadata": {},
     "output_type": "display_data"
    }
   ],
   "source": [
    "PREFIX dibo: <https://w3id.org/def/DIBO#>\n",
    "PREFIX dibo_core: <https://w3id.org/def/DIBO/>\n",
    "PREFIX dibo_data: <https://w3id.org/def/DIBO/data/>\n",
    "PREFIX rdf: <https://w3id.org/1999/02/22-rdf-syntax-ns#>\n",
    "PREFIX rdfs: <http://www.w3.org/2000/01/rdf-schema#>\n",
    "PREFIX owl: <http://www.w3.org/2002/07/owl#>\n",
    "PREFIX uniprotkb: <http://purl.uniprot.org/uniprot/>\n",
    "SELECT distinct (?drugName AS ?DRUG_NAME) (?otherName AS ?OTHER_NAME)\n",
    "WHERE { \n",
    "    ?interaction a dibo_core:Agonism ;\n",
    "                   dibo:hasTarget ?protein ;\n",
    "                   dibo:hasDrug ?drug .\n",
    "    ?protein owl:equivalentClass uniprotkb:P21728 .\n",
    "    ?drug dibo:hasScientificName ?drugName ;\n",
    "             dibo:hasOtherName ?otherName \n",
    "} "
   ]
  },
  {
   "cell_type": "markdown",
   "metadata": {},
   "source": [
    "## Referencia con la ontología de UniProt"
   ]
  },
  {
   "cell_type": "code",
   "execution_count": 31,
   "metadata": {
    "ExecuteTime": {
     "end_time": "2020-01-19T18:45:06.453800Z",
     "start_time": "2020-01-19T18:45:06.373001Z"
    }
   },
   "outputs": [
    {
     "data": {
      "text/html": [
       "<div class=\"krn-spql\"><table><tr class=hdr><th>proteinName</th>\n",
       "<th>uniprotURI</th></tr><tr class=odd><td class=val>16S/23S rRNA (cytidine-2'-O)-methyltransferase TlyA</td>\n",
       "<td class=val><a href=\"http://purl.uniprot.org/uniprot/P9WJ63\" target=\"_other\">http://purl.uniprot.org/uniprot/P9WJ63</a></td></tr><tr class=even><td class=val>16S/23S rRNA (cytidine-2'-O)-methyltransferase TlyA</td>\n",
       "<td class=val><a href=\"http://purl.uniprot.org/uniprot/P9WJ63\" target=\"_other\">http://purl.uniprot.org/uniprot/P9WJ63</a></td></tr><tr class=odd><td class=val>3 beta-hydroxysteroid dehydrogenase/Delta 5--&amp;gt;4-isomerase type 1</td>\n",
       "<td class=val><a href=\"http://purl.uniprot.org/uniprot/P14061\" target=\"_other\">http://purl.uniprot.org/uniprot/P14061</a></td></tr><tr class=even><td class=val>3 beta-hydroxysteroid dehydrogenase/Delta 5--&amp;gt;4-isomerase type 1</td>\n",
       "<td class=val><a href=\"http://purl.uniprot.org/uniprot/P14061\" target=\"_other\">http://purl.uniprot.org/uniprot/P14061</a></td></tr><tr class=odd><td class=val>50S ribosomal protein L16</td>\n",
       "<td class=val><a href=\"http://purl.uniprot.org/uniprot/P0ADY7\" target=\"_other\">http://purl.uniprot.org/uniprot/P0ADY7</a></td></tr><tr class=even><td class=val>50S ribosomal protein L16</td>\n",
       "<td class=val><a href=\"http://purl.uniprot.org/uniprot/P0ADY7\" target=\"_other\">http://purl.uniprot.org/uniprot/P0ADY7</a></td></tr><tr class=odd><td class=val>6-deoxyerythronolide B hydroxylase</td>\n",
       "<td class=val><a href=\"http://purl.uniprot.org/uniprot/P14061\" target=\"_other\">http://purl.uniprot.org/uniprot/P14061</a></td></tr><tr class=even><td class=val>6-deoxyerythronolide B hydroxylase</td>\n",
       "<td class=val><a href=\"http://purl.uniprot.org/uniprot/P14061\" target=\"_other\">http://purl.uniprot.org/uniprot/P14061</a></td></tr></table><div class=\"tinfo\">Total: 8, Shown: 8</div></div>"
      ]
     },
     "metadata": {},
     "output_type": "display_data"
    }
   ],
   "source": [
    "PREFIX dibo: <https://w3id.org/def/DIBO#>\n",
    "PREFIX dibo_core: <https://w3id.org/def/DIBO/>\n",
    "PREFIX dibo_data: <https://w3id.org/def/DIBO/data/>\n",
    "PREFIX rdf: <https://w3id.org/1999/02/22-rdf-syntax-ns#>\n",
    "PREFIX rdfs: <http://www.w3.org/2000/01/rdf-schema#>\n",
    "PREFIX owl: <http://www.w3.org/2002/07/owl#>\n",
    "PREFIX uniprotkb: <http://purl.uniprot.org/uniprot/>\n",
    "SELECT ?proteinName ?uniprotURI\n",
    "\n",
    "WHERE {     \n",
    "    ?protein a dibo_core:Protein ;\n",
    "             dibo:hasName ?proteinName ;\n",
    "             owl:equivalentClass ?uniprotURI\n",
    "} LIMIT 8"
   ]
  },
  {
   "cell_type": "markdown",
   "metadata": {},
   "source": [
    "## CONSULTA FEDERADA CON UNIPROT: Consigue el FÁRMACO que INTERACCIONA con la PROTEÍNA codificada por el GEN \"NR3C4\""
   ]
  },
  {
   "cell_type": "markdown",
   "metadata": {},
   "source": [
    "NOTA: Debería de funcionar, pero no lo hace. Nuestras URIs coinciden con las de UniProt y nuestra clase *Protein* esta referenciada como *owl:equivalentClass* con la URI de UniProt. Según la información disponible en la web oficial de Blazegraph sobre las consultas federadas primero se debe de conseguir la URI de la Ontología \"online\" y después usar esa URI para la Ontología \"local\". Eso es lo que hemos hecho.\n",
    "\n",
    "**¿POR QUÉ ES INTERESANTE ESTA QUERY?** Si por ejemplo realizamos un experimento en el que analizamos la expresión génica de una persona con una patología y vemos que hay un incremento en la expresión de un **GEN**, podemos mapear, usando la ontología **DIBO**, que fármacos interaccionan con la **PROTEÍNA** codificada por el **GEN**. Esto por ejepmlo, nos puede permitir explorar nuevos tratamientos usando fármacos existentes para enfermedades, investigar posibles reacciones cruzadas, etc."
   ]
  },
  {
   "cell_type": "code",
   "execution_count": 142,
   "metadata": {
    "ExecuteTime": {
     "end_time": "2020-01-19T17:46:38.925606Z",
     "start_time": "2020-01-19T17:46:38.922125Z"
    },
    "scrolled": true
   },
   "outputs": [
    {
     "data": {
      "text/html": [
       "<div class=\"krn-spql\"><div class=\"magic\">Endpoint set to: http://sparql.uniprot.org/sparql/</div></div>"
      ],
      "text/plain": [
       "Endpoint set to: http://sparql.uniprot.org/sparql/\n"
      ]
     },
     "metadata": {},
     "output_type": "display_data"
    }
   ],
   "source": [
    "%endpoint http://sparql.uniprot.org/sparql/"
   ]
  },
  {
   "cell_type": "code",
   "execution_count": 144,
   "metadata": {
    "ExecuteTime": {
     "end_time": "2020-01-19T17:48:07.129963Z",
     "start_time": "2020-01-19T17:48:05.398591Z"
    },
    "scrolled": true
   },
   "outputs": [
    {
     "data": {
      "text/html": [
       "<div class=\"krn-spql\"><div class=\"krn-error\"><span class=\"title\">Error:</span> SPARQL error: EndPointNotFound: it was impossible to connect with the endpoint in that address, check if it is correct. <br/><br/>Response:<br/>b'&lt;!DOCTYPE html SYSTEM &quot;about:legacy-compat&quot;&gt;\\n&lt;html xmlns=&quot;http://www.w3.org/1999/xhtml&quot; lang=&quot;en&quot; xml:lang=&quot;en&quot;&gt;&lt;head&gt;&lt;title&gt;Error&lt;/title&gt;&lt;meta content=&quot;text/html; charset=UTF-8&quot; http-equiv=&quot;Content-Type&quot;/&gt;&lt;link href=&quot;/&quot; rel=&quot;home&quot;/&gt;&lt;link href=&quot;/base.css&quot; type=&quot;text/css&quot; rel=&quot;stylesheet&quot;/&gt;&lt;link href=&quot;/css/codemirror.css&quot; type=&quot;text/css&quot; rel=&quot;stylesheet&quot;/&gt;&lt;link href=&quot;/css/eclipse.css&quot; type=&quot;text/css&quot; rel=&quot;stylesheet&quot;/&gt;&lt;meta content=&quot;width=device-width, initial-scale=1&quot; name=&quot;viewport&quot;/&gt;&lt;/head&gt;&lt;body typeof=&quot;schema:WebPage&quot;&gt;&lt;a accesskey=&quot;2&quot; href=&quot;#content&quot; hidden=&quot;hidden&quot;&gt;Skip Header&lt;/a&gt;&lt;script src=&quot;/scripts/codemirror.js&quot; type=&quot;text/javascript&quot;&gt; &lt;/script&gt;&lt;script src=&quot;/scripts/sparql.js&quot; type=&quot;text/javascript&quot;&gt; &lt;/script&gt;&lt;main class=&quot;sparql error&quot; id=&quot;content&quot;&gt;&lt;h1&gt;404 Not Found&lt;/h1&gt; &lt;p&gt;The resource you requested could not be found. It has either been moved, never existed,\\n\\t\\t\\tor you might have mistyped the address.&lt;/p&gt;&lt;ul&gt;&lt;li&gt;If you believe this is an error or need further help &lt;a id=&quot;contactLink&quot;&gt;please contact us&lt;/a&gt;.&lt;/li&gt;&lt;li&gt;You can also start navigating from the &lt;a href=&quot;/&quot;&gt;main page&lt;/a&gt;.&lt;/li&gt;&lt;li&gt;You can also try using the search functionality above.&lt;/li&gt;&lt;/ul&gt;&lt;script language=&quot;javascript&quot;&gt;\\n\\t\\t\\tvar part2 = document.domain.replace(/sparql\\\\./,\\'\\');\\n\\t\\t\\tdocument.getElementById(\\'contactLink\\').href=part2 + \\'/contact\\';\\n\\t\\t&lt;/script&gt;&lt;/main&gt;&lt;script src=&quot;/sparql.js&quot; type=&quot;text/javascript&quot;&gt; &lt;/script&gt;&lt;script src=&quot;/scripts/globalVars.js&quot; type=&quot;text/javascript&quot;&gt; &lt;/script&gt;&lt;script src=&quot;https://www.google-analytics.com/analytics.js&quot; async=&quot;async&quot;&gt;&lt;/script&gt;&lt;script type=&quot;text/javascript&quot;&gt;\\n\\t\\t\\twindow.ga=window.ga||function(){(ga.q=ga.q||[]).push(arguments)};ga.l=+new Date;\\n\\t\\t\\t\\t\\t\\t\\t\\n\\t\\t\\tga(\\'set\\', \\'anonymizeIp\\', true);\\n\\t\\t\\tga(\\'set\\', \\'forceSSL\\', true);\\n\\t\\t\\tga(\\'send\\', \\'pageview\\');\\n\\t\\t&lt;/script&gt;&lt;/body&gt;&lt;/html&gt;'</div></div>"
      ],
      "text/plain": [
       "Error: SPARQL error: EndPointNotFound: it was impossible to connect with the endpoint in that address, check if it is correct. \n",
       "\n",
       "Response:\n",
       "b'<!DOCTYPE html SYSTEM \"about:legacy-compat\">\\n<html xmlns=\"http://www.w3.org/1999/xhtml\" lang=\"en\" xml:lang=\"en\"><head><title>Error</title><meta content=\"text/html; charset=UTF-8\" http-equiv=\"Content-Type\"/><link href=\"/\" rel=\"home\"/><link href=\"/base.css\" type=\"text/css\" rel=\"stylesheet\"/><link href=\"/css/codemirror.css\" type=\"text/css\" rel=\"stylesheet\"/><link href=\"/css/eclipse.css\" type=\"text/css\" rel=\"stylesheet\"/><meta content=\"width=device-width, initial-scale=1\" name=\"viewport\"/></head><body typeof=\"schema:WebPage\"><a accesskey=\"2\" href=\"#content\" hidden=\"hidden\">Skip Header</a><script src=\"/scripts/codemirror.js\" type=\"text/javascript\"> </script><script src=\"/scripts/sparql.js\" type=\"text/javascript\"> </script><main class=\"sparql error\" id=\"content\"><h1>404 Not Found</h1> <p>The resource you requested could not be found. It has either been moved, never existed,\\n\\t\\t\\tor you might have mistyped the address.</p><ul><li>If you believe this is an error or need further help <a id=\"contactLink\">please contact us</a>.</li><li>You can also start navigating from the <a href=\"/\">main page</a>.</li><li>You can also try using the search functionality above.</li></ul><script language=\"javascript\">\\n\\t\\t\\tvar part2 = document.domain.replace(/sparql\\\\./,\\'\\');\\n\\t\\t\\tdocument.getElementById(\\'contactLink\\').href=part2 + \\'/contact\\';\\n\\t\\t</script></main><script src=\"/sparql.js\" type=\"text/javascript\"> </script><script src=\"/scripts/globalVars.js\" type=\"text/javascript\"> </script><script src=\"https://www.google-analytics.com/analytics.js\" async=\"async\"></script><script type=\"text/javascript\">\\n\\t\\t\\twindow.ga=window.ga||function(){(ga.q=ga.q||[]).push(arguments)};ga.l=+new Date;\\n\\t\\t\\t\\t\\t\\t\\t\\n\\t\\t\\tga(\\'set\\', \\'anonymizeIp\\', true);\\n\\t\\t\\tga(\\'set\\', \\'forceSSL\\', true);\\n\\t\\t\\tga(\\'send\\', \\'pageview\\');\\n\\t\\t</script></body></html>'"
      ]
     },
     "metadata": {},
     "output_type": "display_data"
    }
   ],
   "source": [
    "PREFIX dibo: <https://w3id.org/def/DIBO#>\n",
    "PREFIX dibo_core: <https://w3id.org/def/DIBO/>\n",
    "PREFIX dibo_data: <https://w3id.org/def/DIBO/data/>\n",
    "PREFIX owl: <http://www.w3.org/2002/07/owl#>\n",
    "PREFIX up:<http://purl.uniprot.org/core/> \n",
    "PREFIX uniprotkb:<http://purl.uniprot.org/uniprot/> \n",
    "PREFIX rdfs:<http://www.w3.org/2000/01/rdf-schema#> \n",
    "PREFIX skos:<http://www.w3.org/2004/02/skos/core#> \n",
    "\n",
    "SELECT ?drugName ?proteinName ?geneName\n",
    "WHERE {     \n",
    "    ?gene  skos:altLabel ?geneName .\n",
    "    ?proteinURI up:encodedBy ?gene .\n",
    "  FILTER REGEX(?geneName, \"NR3C4\")\n",
    "    SERVICE <http://192.168.1.128:9999/blazegraph/namespace/DIBO/sparql> {\n",
    "        ?protein owl:equivalentClass ?proteinURI ;\n",
    "                 dibo:hasName ?proteinName .\n",
    "        ?interaction dibo:hasTarget ?protein ;\n",
    "                     dibo:hasDrug ?drug .\n",
    "        ?drug dibo:hasScientificName ?drugName .\n",
    "  } \n",
    "} "
   ]
  }
 ],
 "metadata": {
  "kernelspec": {
   "display_name": "SPARQL",
   "language": "sparql",
   "name": "sparql"
  },
  "language_info": {
   "codemirror_mode": {
    "name": "sparql"
   },
   "mimetype": "application/sparql-query",
   "name": "sparql",
   "pygments_lexer": "sparql-nb"
  },
  "toc": {
   "base_numbering": 1,
   "nav_menu": {},
   "number_sections": true,
   "sideBar": true,
   "skip_h1_title": false,
   "title_cell": "Table of Contents",
   "title_sidebar": "Contents",
   "toc_cell": false,
   "toc_position": {},
   "toc_section_display": true,
   "toc_window_display": false
  }
 },
 "nbformat": 4,
 "nbformat_minor": 2
}
