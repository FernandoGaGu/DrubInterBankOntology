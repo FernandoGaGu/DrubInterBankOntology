{
 "cells": [
  {
   "cell_type": "code",
   "execution_count": 1,
   "metadata": {
    "ExecuteTime": {
     "end_time": "2020-01-20T08:54:35.114798Z",
     "start_time": "2020-01-20T08:54:35.110672Z"
    },
    "scrolled": true
   },
   "outputs": [
    {
     "data": {
      "text/html": [
       "<div class=\"krn-spql\"><div class=\"magic\">Endpoint set to: http://192.168.1.131:9999/blazegraph/namespace/DIBO/sparql</div></div>"
      ],
      "text/plain": [
       "Endpoint set to: http://192.168.1.131:9999/blazegraph/namespace/DIBO/sparql\n"
      ]
     },
     "metadata": {},
     "output_type": "display_data"
    }
   ],
   "source": [
    "%endpoint http://192.168.1.131:9999/blazegraph/namespace/DIBO/sparql"
   ]
  },
  {
   "cell_type": "markdown",
   "metadata": {},
   "source": [
    "## Esta query prueba la **INFERENCIA**, se infiere la clase de la **DIANA**."
   ]
  },
  {
   "cell_type": "code",
   "execution_count": 3,
   "metadata": {
    "ExecuteTime": {
     "end_time": "2020-01-20T08:54:56.389874Z",
     "start_time": "2020-01-20T08:54:56.309523Z"
    }
   },
   "outputs": [
    {
     "data": {
      "text/html": [
       "<div class=\"krn-spql\"><table><tr class=hdr><th>superClass</th></tr><tr class=odd><td class=val><a href=\"https://w3id.org/def/DIBO/Interaction\" target=\"_other\">https://w3id.org/def/DIBO/Interaction</a></td></tr><tr class=even><td class=val><a href=\"https://w3id.org/def/DIBO/Interaction\" target=\"_other\">https://w3id.org/def/DIBO/Interaction</a></td></tr><tr class=odd><td class=val><a href=\"https://w3id.org/def/DIBO/Interaction\" target=\"_other\">https://w3id.org/def/DIBO/Interaction</a></td></tr><tr class=even><td class=val><a href=\"https://w3id.org/def/DIBO/Interaction\" target=\"_other\">https://w3id.org/def/DIBO/Interaction</a></td></tr><tr class=odd><td class=val><a href=\"https://w3id.org/def/DIBO/Interaction\" target=\"_other\">https://w3id.org/def/DIBO/Interaction</a></td></tr><tr class=even><td class=val><a href=\"https://w3id.org/def/DIBO/Interaction\" target=\"_other\">https://w3id.org/def/DIBO/Interaction</a></td></tr><tr class=odd><td class=val><a href=\"https://w3id.org/def/DIBO/Interaction\" target=\"_other\">https://w3id.org/def/DIBO/Interaction</a></td></tr><tr class=even><td class=val><a href=\"https://w3id.org/def/DIBO/Interaction\" target=\"_other\">https://w3id.org/def/DIBO/Interaction</a></td></tr><tr class=odd><td class=val><a href=\"https://w3id.org/def/DIBO/Interaction\" target=\"_other\">https://w3id.org/def/DIBO/Interaction</a></td></tr><tr class=even><td class=val><a href=\"https://w3id.org/def/DIBO/Interaction\" target=\"_other\">https://w3id.org/def/DIBO/Interaction</a></td></tr><tr class=odd><td class=val><a href=\"https://w3id.org/def/DIBO/Interaction\" target=\"_other\">https://w3id.org/def/DIBO/Interaction</a></td></tr><tr class=even><td class=val><a href=\"https://w3id.org/def/DIBO/Interaction\" target=\"_other\">https://w3id.org/def/DIBO/Interaction</a></td></tr><tr class=odd><td class=val><a href=\"https://w3id.org/def/DIBO/Interaction\" target=\"_other\">https://w3id.org/def/DIBO/Interaction</a></td></tr><tr class=even><td class=val><a href=\"https://w3id.org/def/DIBO/Interaction\" target=\"_other\">https://w3id.org/def/DIBO/Interaction</a></td></tr><tr class=odd><td class=val><a href=\"https://w3id.org/def/DIBO/Interaction\" target=\"_other\">https://w3id.org/def/DIBO/Interaction</a></td></tr><tr class=even><td class=val><a href=\"https://w3id.org/def/DIBO/Interaction\" target=\"_other\">https://w3id.org/def/DIBO/Interaction</a></td></tr><tr class=odd><td class=val><a href=\"https://w3id.org/def/DIBO/Interaction\" target=\"_other\">https://w3id.org/def/DIBO/Interaction</a></td></tr><tr class=even><td class=val><a href=\"https://w3id.org/def/DIBO/Interaction\" target=\"_other\">https://w3id.org/def/DIBO/Interaction</a></td></tr><tr class=odd><td class=val><a href=\"https://w3id.org/def/DIBO/Interaction\" target=\"_other\">https://w3id.org/def/DIBO/Interaction</a></td></tr><tr class=even><td class=val><a href=\"https://w3id.org/def/DIBO/Interaction\" target=\"_other\">https://w3id.org/def/DIBO/Interaction</a></td></tr></table><div class=\"tinfo\">Total: 197, Shown: 20</div></div>"
      ]
     },
     "metadata": {},
     "output_type": "display_data"
    }
   ],
   "source": [
    "PREFIX dibo: <https://w3id.org/def/DIBO#>\n",
    "PREFIX dibo_core: <https://w3id.org/def/DIBO/>\n",
    "PREFIX dibo_data: <https://w3id.org/def/DIBO/data>\n",
    "PREFIX rdf: <https://www.w3id.org/1999/02/22-rdf-syntax-ns#>\n",
    "PREFIX rdfs: <http://www.w3.org/2000/01/rdf-schema#>\n",
    "PREFIX xsd: <https://www.w3id.org/2001/XMLSchema#>\n",
    "SELECT  ?superClass\n",
    "WHERE{\n",
    "    ?interaction dibo:hasTarget ?target ;\n",
    "                 a ?class .\n",
    "    ?class rdfs:subClassOf ?superClass\n",
    "} "
   ]
  },
  {
   "cell_type": "markdown",
   "metadata": {},
   "source": [
    "## Todos los **FÁRMACOS**, su **DIANA**, el **TIPO DE INTERACCIÓN** y la **FUNCIÓN DE LA DIANA**."
   ]
  },
  {
   "cell_type": "code",
   "execution_count": 6,
   "metadata": {
    "ExecuteTime": {
     "end_time": "2020-01-20T08:55:36.336581Z",
     "start_time": "2020-01-20T08:55:36.245179Z"
    }
   },
   "outputs": [
    {
     "data": {
      "text/html": [
       "<div class=\"krn-spql\"><table><tr class=hdr><th>DRUG_NAME</th>\n",
       "<th>TARGET</th>\n",
       "<th>INTERACTION</th>\n",
       "<th>FUNCTION</th></tr><tr class=odd><td class=val>Betaxolol hydrochloride (JP17/USP)</td>\n",
       "<td class=val>Beta-1 adrenergic receptor</td>\n",
       "<td class=val>Antagonism</td>\n",
       "<td class=val>receptor signaling protein activity</td></tr><tr class=even><td class=val>Betaxolol hydrochloride (JP17/USP)</td>\n",
       "<td class=val>Beta-2 adrenergic receptor</td>\n",
       "<td class=val>Antagonism</td>\n",
       "<td class=val>protein homodimerization activity</td></tr><tr class=odd><td class=val>Glimepiride (JP17/USP/INN)</td>\n",
       "<td class=val>ATP-sensitive inward rectifier potassium channel 11</td>\n",
       "<td class=val>Antagonism</td>\n",
       "<td class=val>voltage-gated potassium channel activity</td></tr><tr class=even><td class=val>Glimepiride (JP17/USP/INN)</td>\n",
       "<td class=val>ATP-sensitive inward rectifier potassium channel 1</td>\n",
       "<td class=val>Antagonism</td>\n",
       "<td class=val>phosphatidylinositol-4,5-bisphosphate binding</td></tr><tr class=odd><td class=val>Dapsone (USP)</td>\n",
       "<td class=val>Inactive dihydropteroate synthase 2</td>\n",
       "<td class=val>Antagonism</td>\n",
       "<td class=val>has very low affinity for the dhps substrate 6-hydroxymethyl-7,8-dihydropterin-pyrophosphate, but can bind the inhibitor dapsone. seems to lack dihydropteroate synthase activity, and does probably not function in folate metabolism (by similarity).</td></tr></table><div class=\"tinfo\">Total: 5, Shown: 5</div></div>"
      ]
     },
     "metadata": {},
     "output_type": "display_data"
    }
   ],
   "source": [
    "PREFIX dibo: <https://w3id.org/def/DIBO#>\n",
    "PREFIX dibo_core: <https://w3id.org/def/DIBO/>\n",
    "PREFIX dibo_data: <https://w3id.org/def/DIBO/data>\n",
    "PREFIX rdf: <https://w3id.org/1999/02/22-rdf-syntax-ns#>\n",
    "PREFIX rdfs: <http://www.w3.org/2000/01/rdf-schema#>\n",
    "PREFIX xsd: <https://w3id.org/2001/XMLSchema#>\n",
    "SELECT distinct (?drugName AS ?DRUG_NAME) (?targetName AS ?TARGET) \n",
    "(?interactionDescription AS ?INTERACTION) (?targetFunction AS ?FUNCTION)\n",
    "WHERE {      \n",
    "    ?interaction dibo:hasTarget ?target ;\n",
    "                 dibo:hasDrug ?drug ;\n",
    "                 a ?interactionType .\n",
    "    ?interactionType rdfs:label ?interactionDescription .\n",
    "    ?target dibo:hasName ?targetName ;\n",
    "            dibo:hasFunction ?targetFunction .\n",
    "    ?drug dibo:hasScientificName ?drugName .\n",
    "} LIMIT 5"
   ]
  },
  {
   "cell_type": "markdown",
   "metadata": {},
   "source": [
    "## Lista de **FÁRMACOS**, **AGRUPACIÓN FUNCTIONAL (tipo de agente)** y la **DESCRIPCIÓN DE LA FUNCIÓN**"
   ]
  },
  {
   "cell_type": "code",
   "execution_count": 7,
   "metadata": {
    "ExecuteTime": {
     "end_time": "2020-01-20T08:55:40.163529Z",
     "start_time": "2020-01-20T08:55:40.081330Z"
    }
   },
   "outputs": [
    {
     "data": {
      "text/html": [
       "<div class=\"krn-spql\"><table><tr class=hdr><th>DRUG_NAME</th>\n",
       "<th>FUNCTION</th>\n",
       "<th>DESCRIPTION</th></tr><tr class=odd><td class=val>Phentolamine mesylate (USP)</td>\n",
       "<td class=val>Agent Affecting Cardiovascular System</td>\n",
       "<td class=val>An agent that exerts a physiologic effect on any anatomic entity that is part of the cardiovascular system, including the heart and blood vessels.</td></tr><tr class=even><td class=val>Candesartan (USAN/INN)</td>\n",
       "<td class=val>Agent Affecting Cardiovascular System</td>\n",
       "<td class=val>An agent that exerts a physiologic effect on any anatomic entity that is part of the cardiovascular system, including the heart and blood vessels.</td></tr><tr class=odd><td class=val>Ethinyl estradiol (USP)</td>\n",
       "<td class=val>Agent Affecting Cardiovascular System</td>\n",
       "<td class=val>An agent that exerts a physiologic effect on any anatomic entity that is part of the cardiovascular system, including the heart and blood vessels.</td></tr><tr class=even><td class=val>Irbesartan (JP17/USAN/INN)</td>\n",
       "<td class=val>Agent Affecting Cardiovascular System</td>\n",
       "<td class=val>An agent that exerts a physiologic effect on any anatomic entity that is part of the cardiovascular system, including the heart and blood vessels.</td></tr><tr class=odd><td class=val>Phenelzine sulfate (USP)</td>\n",
       "<td class=val>Agent Affecting Nervous System</td>\n",
       "<td class=val>An agent that exerts a physiologic effect on neurotransmission or on any anatomic entity that is part of the nervous system, including the central nervous system (CNS) and peripheral nervous system (PNS).</td></tr><tr class=even><td class=val>Amobarbital (JP17/INN)</td>\n",
       "<td class=val>Agent Affecting Nervous System</td>\n",
       "<td class=val>An agent that exerts a physiologic effect on neurotransmission or on any anatomic entity that is part of the nervous system, including the central nervous system (CNS) and peripheral nervous system (PNS).</td></tr><tr class=odd><td class=val>Sparfloxacin (JAN/USAN/INN)</td>\n",
       "<td class=val>Anti Infective Agent</td>\n",
       "<td class=val>A pharmacological agent that can kill or prevent the reproduction of infectious organisms.</td></tr><tr class=even><td class=val>Goserelin acetate (JAN/USP)</td>\n",
       "<td class=val>Antineoplasic Agent</td>\n",
       "<td class=val>A substance that inhibits the maturation, growth or spread of tumor cells.</td></tr><tr class=odd><td class=val>Aminoglutethimide (USP/INN)</td>\n",
       "<td class=val>Antineoplasic Agent</td>\n",
       "<td class=val>A substance that inhibits the maturation, growth or spread of tumor cells.</td></tr><tr class=even><td class=val>Thiotepa (JAN/USP/INN)</td>\n",
       "<td class=val>Antineoplasic Agent</td>\n",
       "<td class=val>A substance that inhibits the maturation, growth or spread of tumor cells.</td></tr></table><div class=\"tinfo\">Total: 10, Shown: 10</div></div>"
      ]
     },
     "metadata": {},
     "output_type": "display_data"
    }
   ],
   "source": [
    "PREFIX dibo: <https://w3id.org/def/DIBO#>\n",
    "PREFIX dibo_core: <https://w3id.org/def/DIBO/>\n",
    "PREFIX dibo_data: <https://w3id.org/def/DIBO/data>\n",
    "PREFIX rdf: <https://w3id.org/1999/02/22-rdf-syntax-ns#>\n",
    "PREFIX rdfs: <http://www.w3.org/2000/01/rdf-schema#>\n",
    "\n",
    "SELECT (?drug_name AS ?DRUG_NAME) (?functionallyGroupedIn AS ?FUNCTION) (?functionDescription AS ?DESCRIPTION)\n",
    "WHERE {\n",
    "    ?drug a dibo_core:Drug ;\n",
    "            dibo:hasScientificName ?drug_name ;\n",
    "            dibo:functionallyGroupedIn ?function .\n",
    "    ?function rdfs:label ?functionallyGroupedIn ;\n",
    "              rdfs:comment ?functionDescription \n",
    "}"
   ]
  },
  {
   "cell_type": "markdown",
   "metadata": {},
   "source": [
    "## Lista de **FÁRMACOS**, **AGRUPACIÓN FUNCTIONAL (tipo de agente)**, **DIANA** y **FUNCIÓN DE LA DIANA**"
   ]
  },
  {
   "cell_type": "code",
   "execution_count": 8,
   "metadata": {
    "ExecuteTime": {
     "end_time": "2020-01-20T08:55:52.037423Z",
     "start_time": "2020-01-20T08:55:51.959488Z"
    }
   },
   "outputs": [
    {
     "data": {
      "text/html": [
       "<div class=\"krn-spql\"><table><tr class=hdr><th>DRUG_NAME</th>\n",
       "<th>FUNCTION</th>\n",
       "<th>TARGET</th>\n",
       "<th>TARGET_FUNCTION</th></tr><tr class=odd><td class=val>Phenelzine sulfate (USP)</td>\n",
       "<td class=val>Agent Affecting Nervous System</td>\n",
       "<td class=val>4-aminobutyrate aminotransferase, mitochondrial</td>\n",
       "<td class=val>succinate-semialdehyde dehydrogenase binding</td></tr><tr class=even><td class=val>Phenelzine sulfate (USP)</td>\n",
       "<td class=val>Agent Affecting Nervous System</td>\n",
       "<td class=val>Alanine aminotransferase 1</td>\n",
       "<td class=val>pyridoxal phosphate binding</td></tr><tr class=odd><td class=val>Phenelzine sulfate (USP)</td>\n",
       "<td class=val>Agent Affecting Nervous System</td>\n",
       "<td class=val>Alanine aminotransferase 2</td>\n",
       "<td class=val>pyridoxal phosphate binding</td></tr><tr class=even><td class=val>Phentolamine mesylate (USP)</td>\n",
       "<td class=val>Agent Affecting Cardiovascular System</td>\n",
       "<td class=val>Alpha-1A adrenergic receptor</td>\n",
       "<td class=val>protein heterodimerization activity</td></tr><tr class=odd><td class=val>Phentolamine mesylate (USP)</td>\n",
       "<td class=val>Agent Affecting Cardiovascular System</td>\n",
       "<td class=val>Alpha-1B adrenergic receptor</td>\n",
       "<td class=val>protein heterodimerization activity</td></tr><tr class=even><td class=val>Phentolamine mesylate (USP)</td>\n",
       "<td class=val>Agent Affecting Cardiovascular System</td>\n",
       "<td class=val>Alpha-1D adrenergic receptor</td>\n",
       "<td class=val>alpha1-adrenergic receptor activity</td></tr><tr class=odd><td class=val>Phentolamine mesylate (USP)</td>\n",
       "<td class=val>Agent Affecting Cardiovascular System</td>\n",
       "<td class=val>Alpha-2A adrenergic receptor</td>\n",
       "<td class=val>thioesterase binding</td></tr><tr class=even><td class=val>Phenelzine sulfate (USP)</td>\n",
       "<td class=val>Agent Affecting Nervous System</td>\n",
       "<td class=val>Amine oxidase [flavin-containing] A</td>\n",
       "<td class=val>serotonin binding</td></tr><tr class=odd><td class=val>Phenelzine sulfate (USP)</td>\n",
       "<td class=val>Agent Affecting Nervous System</td>\n",
       "<td class=val>Amine oxidase [flavin-containing] B</td>\n",
       "<td class=val>primary amine oxidase activity</td></tr><tr class=even><td class=val>Aminoglutethimide (USP/INN)</td>\n",
       "<td class=val>Antineoplasic Agent</td>\n",
       "<td class=val>Cholesterol side-chain cleavage enzyme, mitochondrial</td>\n",
       "<td class=val>oxidoreductase activity, acting on paired donors, with incorporation or reduction of molecular oxygen, nad(p)h as one donor, and incorporation of one atom of oxygen</td></tr><tr class=odd><td class=val>Aminoglutethimide (USP/INN)</td>\n",
       "<td class=val>Antineoplasic Agent</td>\n",
       "<td class=val>Cytochrome P450 19A1</td>\n",
       "<td class=val>oxygen binding</td></tr><tr class=even><td class=val>Sparfloxacin (JAN/USAN/INN)</td>\n",
       "<td class=val>Anti Infective Agent</td>\n",
       "<td class=val>DNA gyrase subunit A</td>\n",
       "<td class=val>dna topoisomerase type ii (atp-hydrolyzing) activity</td></tr><tr class=odd><td class=val>Sparfloxacin (JAN/USAN/INN)</td>\n",
       "<td class=val>Anti Infective Agent</td>\n",
       "<td class=val>DNA topoisomerase 2-alpha</td>\n",
       "<td class=val>ubiquitin binding</td></tr><tr class=even><td class=val>Sparfloxacin (JAN/USAN/INN)</td>\n",
       "<td class=val>Anti Infective Agent</td>\n",
       "<td class=val>DNA topoisomerase 4 subunit A</td>\n",
       "<td class=val>dna topoisomerase type ii (atp-hydrolyzing) activity</td></tr><tr class=odd><td class=val>Ethinyl estradiol (USP)</td>\n",
       "<td class=val>Agent Affecting Cardiovascular System</td>\n",
       "<td class=val>Estrogen receptor alpha</td>\n",
       "<td class=val>zinc ion binding</td></tr><tr class=even><td class=val>Amobarbital (JP17/INN)</td>\n",
       "<td class=val>Agent Affecting Nervous System</td>\n",
       "<td class=val>Gamma-aminobutyric acid receptor subunit alpha-1</td>\n",
       "<td class=val>inhibitory extracellular ligand-gated ion channel activity</td></tr><tr class=odd><td class=val>Amobarbital (JP17/INN)</td>\n",
       "<td class=val>Agent Affecting Nervous System</td>\n",
       "<td class=val>Gamma-aminobutyric acid receptor subunit alpha-2</td>\n",
       "<td class=val>inhibitory extracellular ligand-gated ion channel activity</td></tr><tr class=even><td class=val>Amobarbital (JP17/INN)</td>\n",
       "<td class=val>Agent Affecting Nervous System</td>\n",
       "<td class=val>Gamma-aminobutyric acid receptor subunit alpha-3</td>\n",
       "<td class=val>inhibitory extracellular ligand-gated ion channel activity</td></tr><tr class=odd><td class=val>Amobarbital (JP17/INN)</td>\n",
       "<td class=val>Agent Affecting Nervous System</td>\n",
       "<td class=val>Gamma-aminobutyric acid receptor subunit alpha-4</td>\n",
       "<td class=val>inhibitory extracellular ligand-gated ion channel activity</td></tr><tr class=even><td class=val>Amobarbital (JP17/INN)</td>\n",
       "<td class=val>Agent Affecting Nervous System</td>\n",
       "<td class=val>Gamma-aminobutyric acid receptor subunit alpha-5</td>\n",
       "<td class=val>transporter activity</td></tr></table><div class=\"tinfo\">Total: 35, Shown: 20</div></div>"
      ]
     },
     "metadata": {},
     "output_type": "display_data"
    }
   ],
   "source": [
    "PREFIX dibo: <https://w3id.org/def/DIBO#>\n",
    "PREFIX dibo_core: <https://w3id.org/def/DIBO/>\n",
    "PREFIX dibo_data: <https://w3id.org/def/DIBO/data>\n",
    "PREFIX rdf: <https://w3id.org/1999/02/22-rdf-syntax-ns#>\n",
    "PREFIX rdfs: <http://www.w3.org/2000/01/rdf-schema#>\n",
    "\n",
    "SELECT (?drug_name AS ?DRUG_NAME) (?functionallyGroupedIn AS ?FUNCTION)\n",
    "(?targetName AS ?TARGET) (?targetFunction AS ?TARGET_FUNCTION)\n",
    "WHERE {\n",
    "    ?drug a dibo_core:Drug ;\n",
    "            dibo:hasScientificName ?drug_name ;\n",
    "            dibo:functionallyGroupedIn ?function .\n",
    "    ?function rdfs:label ?functionallyGroupedIn .\n",
    "    ?interaction dibo:hasDrug ?drug ;\n",
    "                 dibo:hasTarget ?target .\n",
    "    ?target dibo:hasFunction ?targetFunction ;\n",
    "            dibo:hasName ?targetName\n",
    "}"
   ]
  },
  {
   "cell_type": "markdown",
   "metadata": {},
   "source": [
    "## PROPIEDADES de un fármaco"
   ]
  },
  {
   "cell_type": "code",
   "execution_count": 9,
   "metadata": {
    "ExecuteTime": {
     "end_time": "2020-01-20T08:56:06.058390Z",
     "start_time": "2020-01-20T08:56:05.958745Z"
    }
   },
   "outputs": [
    {
     "data": {
      "text/html": [
       "<div class=\"krn-spql\"><table><tr class=hdr><th>DRUG</th>\n",
       "<th>FORMULA</th>\n",
       "<th>MOLECULAR_MASS</th>\n",
       "<th>MM_UNITS</th>\n",
       "<th>HALF_LIFE</th>\n",
       "<th>DRUGBANK</th>\n",
       "<th>CheBI</th></tr><tr class=odd><td class=val>Goserelin acetate (JAN/USP)</td>\n",
       "<td class=val>C59H84N18O14. (C2H4O2)x</td>\n",
       "<td class=val>0.0</td>\n",
       "<td class=val>Da</td>\n",
       "<td class=val>UNKNOWN</td>\n",
       "<td class=val>DB00014</td>\n",
       "<td class=val>5523</td></tr><tr class=even><td class=val>Amyl nitrite (JP17/USP)</td>\n",
       "<td class=val>C5H11NO2</td>\n",
       "<td class=val>117.079</td>\n",
       "<td class=val>Da</td>\n",
       "<td class=val>UNKNOWN</td>\n",
       "<td class=val>DB01612</td>\n",
       "<td class=val>2691</td></tr><tr class=odd><td class=val>Vigabatrin (JAN/USAN/INN)</td>\n",
       "<td class=val>C6H11NO2</td>\n",
       "<td class=val>129.079</td>\n",
       "<td class=val>Da</td>\n",
       "<td class=val>UNKNOWN</td>\n",
       "<td class=val>DB01080</td>\n",
       "<td class=val>63638</td></tr><tr class=even><td class=val>Ethosuximide (JP17/USP/INN)</td>\n",
       "<td class=val>C7H11NO2</td>\n",
       "<td class=val>141.079</td>\n",
       "<td class=val>Da</td>\n",
       "<td class=val>UNKNOWN</td>\n",
       "<td class=val>DB00593</td>\n",
       "<td class=val>4887</td></tr><tr class=odd><td class=val>Benzocaine (USP/INN)</td>\n",
       "<td class=val>C9H11NO2</td>\n",
       "<td class=val>165.079</td>\n",
       "<td class=val>Da</td>\n",
       "<td class=val>UNKNOWN</td>\n",
       "<td class=val>DB01086</td>\n",
       "<td class=val>116735</td></tr><tr class=even><td class=val>Propylthiouracil (JP17/USP/INN)</td>\n",
       "<td class=val>C7H10N2OS</td>\n",
       "<td class=val>170.0514</td>\n",
       "<td class=val>Da</td>\n",
       "<td class=val>UNKNOWN</td>\n",
       "<td class=val>DB00550</td>\n",
       "<td class=val>8502</td></tr><tr class=odd><td class=val>Phenacemide (JAN/INN)</td>\n",
       "<td class=val>C9H10N2O2</td>\n",
       "<td class=val>178.0742</td>\n",
       "<td class=val>Da</td>\n",
       "<td class=val>UNKNOWN</td>\n",
       "<td class=val>DB01121</td>\n",
       "<td class=val>8049</td></tr><tr class=even><td class=val>Phenacetin (JAN/INN)</td>\n",
       "<td class=val>C10H13NO2</td>\n",
       "<td class=val>179.0946</td>\n",
       "<td class=val>Da</td>\n",
       "<td class=val>UNKNOWN</td>\n",
       "<td class=val>DB03783</td>\n",
       "<td class=val>8050</td></tr><tr class=odd><td class=val>Thiotepa (JAN/USP/INN)</td>\n",
       "<td class=val>C6H12N3PS</td>\n",
       "<td class=val>189.049</td>\n",
       "<td class=val>Da</td>\n",
       "<td class=val>UNKNOWN</td>\n",
       "<td class=val>DB04572</td>\n",
       "<td class=val>9570</td></tr><tr class=even><td class=val>Foscarnet sodium (USAN/INN)</td>\n",
       "<td class=val>CO5P. 3Na</td>\n",
       "<td class=val>191.9176</td>\n",
       "<td class=val>Da</td>\n",
       "<td class=val>UNKNOWN</td>\n",
       "<td class=val>DB00529</td>\n",
       "<td class=val>141644</td></tr><tr class=odd><td class=val>Dexmedetomidine (USAN/INN)</td>\n",
       "<td class=val>C13H16N2</td>\n",
       "<td class=val>200.1313</td>\n",
       "<td class=val>Da</td>\n",
       "<td class=val>UNKNOWN</td>\n",
       "<td class=val>DB00633</td>\n",
       "<td class=val>4466</td></tr><tr class=even><td class=val>Phenylephrine hydrochloride (JP17/USP)</td>\n",
       "<td class=val>C9H13NO2. HCl</td>\n",
       "<td class=val>203.0713</td>\n",
       "<td class=val>Da</td>\n",
       "<td class=val>UNKNOWN</td>\n",
       "<td class=val>DB00388</td>\n",
       "<td class=val>8094</td></tr><tr class=odd><td class=val>Pilocarpine (JAN/USP)</td>\n",
       "<td class=val>C11H16N2O2</td>\n",
       "<td class=val>208.1212</td>\n",
       "<td class=val>Da</td>\n",
       "<td class=val>UNKNOWN</td>\n",
       "<td class=val>DB01085</td>\n",
       "<td class=val>8207</td></tr><tr class=even><td class=val>Zonisamide (JP17/USAN/INN)</td>\n",
       "<td class=val>C8H8N2O3S</td>\n",
       "<td class=val>212.0256</td>\n",
       "<td class=val>Da</td>\n",
       "<td class=val>UNKNOWN</td>\n",
       "<td class=val>DB00909</td>\n",
       "<td class=val>10127</td></tr><tr class=odd><td class=val>Prilocaine (USP/INN)</td>\n",
       "<td class=val>C13H20N2O</td>\n",
       "<td class=val>220.1576</td>\n",
       "<td class=val>Da</td>\n",
       "<td class=val>UNKNOWN</td>\n",
       "<td class=val>DB00750</td>\n",
       "<td class=val>8404</td></tr><tr class=even><td class=val>Amobarbital (JP17/INN)</td>\n",
       "<td class=val>C11H18N2O3</td>\n",
       "<td class=val>226.1317</td>\n",
       "<td class=val>Da</td>\n",
       "<td class=val>UNKNOWN</td>\n",
       "<td class=val>DB01351</td>\n",
       "<td class=val>2673</td></tr><tr class=odd><td class=val>Nitroglycerin (JP17/USP)</td>\n",
       "<td class=val>C3H5N3O9</td>\n",
       "<td class=val>227.0026</td>\n",
       "<td class=val>Da</td>\n",
       "<td class=val>UNKNOWN</td>\n",
       "<td class=val>DB00727</td>\n",
       "<td class=val>28787</td></tr><tr class=even><td class=val>Aminoglutethimide (USP/INN)</td>\n",
       "<td class=val>C13H16N2O2</td>\n",
       "<td class=val>232.1212</td>\n",
       "<td class=val>Da</td>\n",
       "<td class=val>UNKNOWN</td>\n",
       "<td class=val>DB00357</td>\n",
       "<td class=val>2654</td></tr><tr class=odd><td class=val>Phenelzine sulfate (USP)</td>\n",
       "<td class=val>C8H12N2. H2SO4</td>\n",
       "<td class=val>234.0674</td>\n",
       "<td class=val>Da</td>\n",
       "<td class=val>UNKNOWN</td>\n",
       "<td class=val>DB00780</td>\n",
       "<td class=val>8061</td></tr><tr class=even><td class=val>Isosorbide dinitrate (JP17/USP/INN)</td>\n",
       "<td class=val>C6H8N2O8</td>\n",
       "<td class=val>236.0281</td>\n",
       "<td class=val>Da</td>\n",
       "<td class=val>UNKNOWN</td>\n",
       "<td class=val>DB00883</td>\n",
       "<td class=val>6061</td></tr></table><div class=\"tinfo\">Total: 56, Shown: 20</div></div>"
      ]
     },
     "metadata": {},
     "output_type": "display_data"
    }
   ],
   "source": [
    "PREFIX dibo: <https://w3id.org/def/DIBO#>\n",
    "PREFIX dibo_core: <https://w3id.org/def/DIBO/>\n",
    "PREFIX dibo_data: <https://w3id.org/def/DIBO/data>\n",
    "PREFIX rdf: <https://w3id.org/1999/02/22-rdf-syntax-ns#>\n",
    "PREFIX rdfs: <http://www.w3.org/2000/01/rdf-schema#>\n",
    "SELECT (?drug_name AS ?DRUG) (?formula AS ?FORMULA) (?mmValue AS ?MOLECULAR_MASS) (?mmUnit AS ?MM_UNITS) \n",
    "(?half_life AS ?HALF_LIFE) (?drugbank AS ?DRUGBANK) (?chEBI AS ?CheBI)\n",
    "WHERE {\n",
    "    ?drug a dibo_core:Drug ;\n",
    "            dibo:hasScientificName ?drug_name ;\n",
    "            dibo:hasMolecularFormula ?formula ;\n",
    "            dibo:hasMolecularMass ?molecularMass .\n",
    "    ?molecularMass a ?class ;\n",
    "                     dibo:hasUnit ?mmUnit ;\n",
    "                     dibo:hasValue ?mmValue .\n",
    "    ?drug dibo:hasHalfLife ?half_life ;\n",
    "          dibo:hasDrugBankId ?drugbank ;\n",
    "          dibo:hasChebiId ?chEBI \n",
    "} "
   ]
  },
  {
   "cell_type": "markdown",
   "metadata": {},
   "source": [
    "## Todos los FÁRMACOS que actuan como AGONISTAS (Incrementan la actividad) de una ENZIMA concreta, por ejemplo del \"**Dopamine_D4_receptor**\".\n",
    "\n",
    "(NO SE QUE PROBLEMA HAY CON LOS DATATYPES QUE NO FUNCIONAN BIEN)"
   ]
  },
  {
   "cell_type": "code",
   "execution_count": 15,
   "metadata": {
    "ExecuteTime": {
     "end_time": "2020-01-20T08:57:10.242161Z",
     "start_time": "2020-01-20T08:57:10.059551Z"
    }
   },
   "outputs": [
    {
     "data": {
      "text/html": [
       "<div class=\"krn-spql\"><table><tr class=hdr><th>name</th></tr></table><div class=\"tinfo\">Total: 0, Shown: 0</div></div>"
      ]
     },
     "metadata": {},
     "output_type": "display_data"
    }
   ],
   "source": [
    "PREFIX dibo: <https://w3id.org/def/DIBO#>\n",
    "PREFIX dibo_core: <https://w3id.org/def/DIBO/>\n",
    "PREFIX dibo_data: <https://w3id.org/def/DIBO/data/>\n",
    "PREFIX rdf: <https://w3id.org/1999/02/22-rdf-syntax-ns#>\n",
    "PREFIX rdfs: <http://www.w3.org/2000/01/rdf-schema#>\n",
    "SELECT ?name \n",
    "WHERE {      \n",
    "    ?interaction a dibo_core:Agonism ;\n",
    "                   dibo:hasTarget ?protein .\n",
    "    ?proten a dibo_core:Protein ;\n",
    "              dibo:hasName ?name .\n",
    "    FILTER REGEX(?name, \"aminotransferase\", \"i\")\n",
    "} limit 1"
   ]
  },
  {
   "cell_type": "markdown",
   "metadata": {},
   "source": [
    "## Busca los FÁRMACOS que actúan como AGONISTAS para la PROTEÍNA con UNIPROT ID \"Q09428\""
   ]
  },
  {
   "cell_type": "code",
   "execution_count": 28,
   "metadata": {
    "ExecuteTime": {
     "end_time": "2020-01-20T09:00:59.064952Z",
     "start_time": "2020-01-20T09:00:59.026611Z"
    },
    "scrolled": false
   },
   "outputs": [
    {
     "data": {
      "text/html": [
       "<div class=\"krn-spql\"><table><tr class=hdr><th>DRUG_NAME</th>\n",
       "<th>OTHER_NAME</th>\n",
       "<th>PROTEIN</th></tr><tr class=odd><td class=val>Glimepiride (JP17/USP/INN)</td>\n",
       "<td class=val>Amaryl (TN)</td>\n",
       "<td class=val>ATP-binding cassette sub-family C member 8</td></tr><tr class=even><td class=val>Glimepiride (JP17/USP/INN)</td>\n",
       "<td class=val>Glimepiride (JP17/USP/INN)</td>\n",
       "<td class=val>ATP-binding cassette sub-family C member 8</td></tr><tr class=odd><td class=val>Repaglinide (JAN/USP/INN)</td>\n",
       "<td class=val>Prandin (TN)</td>\n",
       "<td class=val>Peroxisome proliferator-activated receptor gamma</td></tr><tr class=even><td class=val>Repaglinide (JAN/USP/INN)</td>\n",
       "<td class=val>Repaglinide (JAN/USP/INN)</td>\n",
       "<td class=val>Peroxisome proliferator-activated receptor gamma</td></tr><tr class=odd><td class=val>Repaglinide (JAN/USP/INN)</td>\n",
       "<td class=val>Surepost (TN)</td>\n",
       "<td class=val>Peroxisome proliferator-activated receptor gamma</td></tr></table><div class=\"tinfo\">Total: 5, Shown: 5</div></div>"
      ]
     },
     "metadata": {},
     "output_type": "display_data"
    }
   ],
   "source": [
    "PREFIX dibo: <https://w3id.org/def/DIBO#>\n",
    "PREFIX dibo_core: <https://w3id.org/def/DIBO/>\n",
    "PREFIX dibo_data: <https://w3id.org/def/DIBO/data/>\n",
    "PREFIX rdf: <https://w3id.org/1999/02/22-rdf-syntax-ns#>\n",
    "PREFIX rdfs: <http://www.w3.org/2000/01/rdf-schema#>\n",
    "PREFIX owl: <http://www.w3.org/2002/07/owl#>\n",
    "PREFIX uniprotkb: <http://purl.uniprot.org/uniprot/>\n",
    "SELECT distinct (?drugName AS ?DRUG_NAME) (?otherName AS ?OTHER_NAME) (?proteinName AS ?PROTEIN)\n",
    "WHERE { \n",
    "    ?interaction a dibo_core:Agonism ;\n",
    "                   dibo:hasTarget ?protein ;\n",
    "                   dibo:hasDrug ?drug .\n",
    "    ?protein owl:equivalentClass uniprotkb:Q09428 ;\n",
    "             dibo:hasName ?proteinName .\n",
    "    ?drug dibo:hasScientificName ?drugName ;\n",
    "             dibo:hasOtherName ?otherName \n",
    "} "
   ]
  },
  {
   "cell_type": "markdown",
   "metadata": {},
   "source": [
    "## Referencia con la ontología de UniProt"
   ]
  },
  {
   "cell_type": "code",
   "execution_count": 29,
   "metadata": {
    "ExecuteTime": {
     "end_time": "2020-01-20T09:01:01.661309Z",
     "start_time": "2020-01-20T09:01:01.612882Z"
    }
   },
   "outputs": [
    {
     "data": {
      "text/html": [
       "<div class=\"krn-spql\"><table><tr class=hdr><th>proteinName</th>\n",
       "<th>uniprotURI</th></tr><tr class=odd><td class=val>Neuronal acetylcholine receptor subunit alpha-4</td>\n",
       "<td class=val><a href=\"http://purl.uniprot.org/uniprot/P14867\" target=\"_other\">http://purl.uniprot.org/uniprot/P14867</a></td></tr><tr class=even><td class=val>Neuronal acetylcholine receptor subunit alpha-7</td>\n",
       "<td class=val><a href=\"http://purl.uniprot.org/uniprot/P14867\" target=\"_other\">http://purl.uniprot.org/uniprot/P14867</a></td></tr><tr class=odd><td class=val>Nuclear receptor subfamily 1 group I member 2</td>\n",
       "<td class=val><a href=\"http://purl.uniprot.org/uniprot/P03372\" target=\"_other\">http://purl.uniprot.org/uniprot/P03372</a></td></tr><tr class=even><td class=val>Nuclear receptor subfamily 1 group I member 2</td>\n",
       "<td class=val><a href=\"http://purl.uniprot.org/uniprot/P10275\" target=\"_other\">http://purl.uniprot.org/uniprot/P10275</a></td></tr><tr class=odd><td class=val>Nuclear receptor subfamily 1 group I member 2</td>\n",
       "<td class=val><a href=\"http://purl.uniprot.org/uniprot/Q07869\" target=\"_other\">http://purl.uniprot.org/uniprot/Q07869</a></td></tr><tr class=even><td class=val>Nuclear receptor subfamily 1 group I member 2</td>\n",
       "<td class=val><a href=\"http://purl.uniprot.org/uniprot/Q9BQB6\" target=\"_other\">http://purl.uniprot.org/uniprot/Q9BQB6</a></td></tr><tr class=odd><td class=val>Peroxisome proliferator-activated receptor alpha</td>\n",
       "<td class=val><a href=\"http://purl.uniprot.org/uniprot/Q07869\" target=\"_other\">http://purl.uniprot.org/uniprot/Q07869</a></td></tr><tr class=even><td class=val>Peroxisome proliferator-activated receptor gamma</td>\n",
       "<td class=val><a href=\"http://purl.uniprot.org/uniprot/Q09428\" target=\"_other\">http://purl.uniprot.org/uniprot/Q09428</a></td></tr></table><div class=\"tinfo\">Total: 8, Shown: 8</div></div>"
      ]
     },
     "metadata": {},
     "output_type": "display_data"
    }
   ],
   "source": [
    "PREFIX dibo: <https://w3id.org/def/DIBO#>\n",
    "PREFIX dibo_core: <https://w3id.org/def/DIBO/>\n",
    "PREFIX dibo_data: <https://w3id.org/def/DIBO/data/>\n",
    "PREFIX rdf: <https://w3id.org/1999/02/22-rdf-syntax-ns#>\n",
    "PREFIX rdfs: <http://www.w3.org/2000/01/rdf-schema#>\n",
    "PREFIX owl: <http://www.w3.org/2002/07/owl#>\n",
    "PREFIX uniprotkb: <http://purl.uniprot.org/uniprot/>\n",
    "SELECT ?proteinName ?uniprotURI\n",
    "\n",
    "WHERE {     \n",
    "    ?protein a dibo_core:Protein ;\n",
    "             dibo:hasName ?proteinName ;\n",
    "             owl:equivalentClass ?uniprotURI\n",
    "} LIMIT 8"
   ]
  },
  {
   "cell_type": "markdown",
   "metadata": {},
   "source": [
    "## CONSULTA FEDERADA CON UNIPROT: Consigue el FÁRMACO que INTERACCIONA con la PROTEÍNA codificada por el GEN \"NR3C4\""
   ]
  },
  {
   "cell_type": "markdown",
   "metadata": {},
   "source": [
    "NOTA: Debería de funcionar, pero no lo hace. Nuestras URIs coinciden con las de UniProt y nuestra clase *Protein* esta referenciada como *owl:equivalentClass* con la URI de UniProt. Según la información disponible en la web oficial de Blazegraph sobre las consultas federadas primero se debe de conseguir la URI de la Ontología \"online\" y después usar esa URI para la Ontología \"local\". Eso es lo que hemos hecho.\n",
    "\n",
    "**¿POR QUÉ ES INTERESANTE ESTA QUERY?** Si por ejemplo realizamos un experimento en el que analizamos la expresión génica de una persona con una patología y vemos que hay un incremento en la expresión de un **GEN**, podemos mapear, usando la ontología **DIBO**, que fármacos interaccionan con la **PROTEÍNA** codificada por el **GEN**. Esto por ejepmlo, nos puede permitir explorar nuevos tratamientos usando fármacos existentes para enfermedades, investigar posibles reacciones cruzadas, etc."
   ]
  },
  {
   "cell_type": "code",
   "execution_count": 30,
   "metadata": {
    "ExecuteTime": {
     "end_time": "2020-01-20T09:01:24.681277Z",
     "start_time": "2020-01-20T09:01:24.677637Z"
    },
    "scrolled": true
   },
   "outputs": [
    {
     "data": {
      "text/html": [
       "<div class=\"krn-spql\"><div class=\"magic\">Endpoint set to: http://sparql.uniprot.org/sparql/</div></div>"
      ],
      "text/plain": [
       "Endpoint set to: http://sparql.uniprot.org/sparql/\n"
      ]
     },
     "metadata": {},
     "output_type": "display_data"
    }
   ],
   "source": [
    "%endpoint http://sparql.uniprot.org/sparql/"
   ]
  },
  {
   "cell_type": "code",
   "execution_count": 32,
   "metadata": {
    "ExecuteTime": {
     "end_time": "2020-01-20T09:01:50.333869Z",
     "start_time": "2020-01-20T09:01:48.523707Z"
    },
    "scrolled": true
   },
   "outputs": [
    {
     "data": {
      "text/html": [
       "<div class=\"krn-spql\"><div class=\"krn-error\"><span class=\"title\">Error:</span> SPARQL error: EndPointNotFound: it was impossible to connect with the endpoint in that address, check if it is correct. <br/><br/>Response:<br/>b'&lt;!DOCTYPE html SYSTEM &quot;about:legacy-compat&quot;&gt;\\n&lt;html xmlns=&quot;http://www.w3.org/1999/xhtml&quot; lang=&quot;en&quot; xml:lang=&quot;en&quot;&gt;&lt;head&gt;&lt;title&gt;Error&lt;/title&gt;&lt;meta content=&quot;text/html; charset=UTF-8&quot; http-equiv=&quot;Content-Type&quot;/&gt;&lt;link href=&quot;/&quot; rel=&quot;home&quot;/&gt;&lt;link href=&quot;/base.css&quot; type=&quot;text/css&quot; rel=&quot;stylesheet&quot;/&gt;&lt;link href=&quot;/css/codemirror.css&quot; type=&quot;text/css&quot; rel=&quot;stylesheet&quot;/&gt;&lt;link href=&quot;/css/eclipse.css&quot; type=&quot;text/css&quot; rel=&quot;stylesheet&quot;/&gt;&lt;meta content=&quot;width=device-width, initial-scale=1&quot; name=&quot;viewport&quot;/&gt;&lt;/head&gt;&lt;body typeof=&quot;schema:WebPage&quot;&gt;&lt;a accesskey=&quot;2&quot; href=&quot;#content&quot; hidden=&quot;hidden&quot;&gt;Skip Header&lt;/a&gt;&lt;script src=&quot;/scripts/codemirror.js&quot; type=&quot;text/javascript&quot;&gt; &lt;/script&gt;&lt;script src=&quot;/scripts/sparql.js&quot; type=&quot;text/javascript&quot;&gt; &lt;/script&gt;&lt;main class=&quot;sparql error&quot; id=&quot;content&quot;&gt;&lt;h1&gt;404 Not Found&lt;/h1&gt; &lt;p&gt;The resource you requested could not be found. It has either been moved, never existed,\\n\\t\\t\\tor you might have mistyped the address.&lt;/p&gt;&lt;ul&gt;&lt;li&gt;If you believe this is an error or need further help &lt;a id=&quot;contactLink&quot;&gt;please contact us&lt;/a&gt;.&lt;/li&gt;&lt;li&gt;You can also start navigating from the &lt;a href=&quot;/&quot;&gt;main page&lt;/a&gt;.&lt;/li&gt;&lt;li&gt;You can also try using the search functionality above.&lt;/li&gt;&lt;/ul&gt;&lt;script language=&quot;javascript&quot;&gt;\\n\\t\\t\\tvar part2 = document.domain.replace(/sparql\\\\./,\\'\\');\\n\\t\\t\\tdocument.getElementById(\\'contactLink\\').href=part2 + \\'/contact\\';\\n\\t\\t&lt;/script&gt;&lt;/main&gt;&lt;script src=&quot;/sparql.js&quot; type=&quot;text/javascript&quot;&gt; &lt;/script&gt;&lt;script src=&quot;/scripts/globalVars.js&quot; type=&quot;text/javascript&quot;&gt; &lt;/script&gt;&lt;script src=&quot;https://www.google-analytics.com/analytics.js&quot; async=&quot;async&quot;&gt;&lt;/script&gt;&lt;script type=&quot;text/javascript&quot;&gt;\\n\\t\\t\\twindow.ga=window.ga||function(){(ga.q=ga.q||[]).push(arguments)};ga.l=+new Date;\\n\\t\\t\\t\\t\\t\\t\\t\\n\\t\\t\\tga(\\'set\\', \\'anonymizeIp\\', true);\\n\\t\\t\\tga(\\'set\\', \\'forceSSL\\', true);\\n\\t\\t\\tga(\\'send\\', \\'pageview\\');\\n\\t\\t&lt;/script&gt;&lt;/body&gt;&lt;/html&gt;'</div></div>"
      ],
      "text/plain": [
       "Error: SPARQL error: EndPointNotFound: it was impossible to connect with the endpoint in that address, check if it is correct. \n",
       "\n",
       "Response:\n",
       "b'<!DOCTYPE html SYSTEM \"about:legacy-compat\">\\n<html xmlns=\"http://www.w3.org/1999/xhtml\" lang=\"en\" xml:lang=\"en\"><head><title>Error</title><meta content=\"text/html; charset=UTF-8\" http-equiv=\"Content-Type\"/><link href=\"/\" rel=\"home\"/><link href=\"/base.css\" type=\"text/css\" rel=\"stylesheet\"/><link href=\"/css/codemirror.css\" type=\"text/css\" rel=\"stylesheet\"/><link href=\"/css/eclipse.css\" type=\"text/css\" rel=\"stylesheet\"/><meta content=\"width=device-width, initial-scale=1\" name=\"viewport\"/></head><body typeof=\"schema:WebPage\"><a accesskey=\"2\" href=\"#content\" hidden=\"hidden\">Skip Header</a><script src=\"/scripts/codemirror.js\" type=\"text/javascript\"> </script><script src=\"/scripts/sparql.js\" type=\"text/javascript\"> </script><main class=\"sparql error\" id=\"content\"><h1>404 Not Found</h1> <p>The resource you requested could not be found. It has either been moved, never existed,\\n\\t\\t\\tor you might have mistyped the address.</p><ul><li>If you believe this is an error or need further help <a id=\"contactLink\">please contact us</a>.</li><li>You can also start navigating from the <a href=\"/\">main page</a>.</li><li>You can also try using the search functionality above.</li></ul><script language=\"javascript\">\\n\\t\\t\\tvar part2 = document.domain.replace(/sparql\\\\./,\\'\\');\\n\\t\\t\\tdocument.getElementById(\\'contactLink\\').href=part2 + \\'/contact\\';\\n\\t\\t</script></main><script src=\"/sparql.js\" type=\"text/javascript\"> </script><script src=\"/scripts/globalVars.js\" type=\"text/javascript\"> </script><script src=\"https://www.google-analytics.com/analytics.js\" async=\"async\"></script><script type=\"text/javascript\">\\n\\t\\t\\twindow.ga=window.ga||function(){(ga.q=ga.q||[]).push(arguments)};ga.l=+new Date;\\n\\t\\t\\t\\t\\t\\t\\t\\n\\t\\t\\tga(\\'set\\', \\'anonymizeIp\\', true);\\n\\t\\t\\tga(\\'set\\', \\'forceSSL\\', true);\\n\\t\\t\\tga(\\'send\\', \\'pageview\\');\\n\\t\\t</script></body></html>'"
      ]
     },
     "metadata": {},
     "output_type": "display_data"
    }
   ],
   "source": [
    "PREFIX dibo: <https://w3id.org/def/DIBO#>\n",
    "PREFIX dibo_core: <https://w3id.org/def/DIBO/>\n",
    "PREFIX dibo_data: <https://w3id.org/def/DIBO/data/>\n",
    "PREFIX owl: <http://www.w3.org/2002/07/owl#>\n",
    "PREFIX up:<http://purl.uniprot.org/core/> \n",
    "PREFIX uniprotkb:<http://purl.uniprot.org/uniprot/> \n",
    "PREFIX rdfs:<http://www.w3.org/2000/01/rdf-schema#> \n",
    "PREFIX skos:<http://www.w3.org/2004/02/skos/core#> \n",
    "\n",
    "SELECT ?drugName ?proteinName ?geneName\n",
    "WHERE {     \n",
    "    ?gene  skos:altLabel ?geneName .\n",
    "    ?proteinURI up:encodedBy ?gene .\n",
    "  FILTER REGEX(?geneName, \"NR3C4\")\n",
    "    SERVICE <http://192.168.1.131:9999/blazegraph/namespace/DIBO/sparql> {\n",
    "        ?protein owl:equivalentClass ?proteinURI ;\n",
    "                 dibo:hasName ?proteinName .\n",
    "        ?interaction dibo:hasTarget ?protein ;\n",
    "                     dibo:hasDrug ?drug .\n",
    "        ?drug dibo:hasScientificName ?drugName .\n",
    "  } \n",
    "} "
   ]
  }
 ],
 "metadata": {
  "kernelspec": {
   "display_name": "SPARQL",
   "language": "sparql",
   "name": "sparql"
  },
  "language_info": {
   "codemirror_mode": {
    "name": "sparql"
   },
   "mimetype": "application/sparql-query",
   "name": "sparql",
   "pygments_lexer": "sparql-nb"
  },
  "toc": {
   "base_numbering": 1,
   "nav_menu": {},
   "number_sections": true,
   "sideBar": true,
   "skip_h1_title": false,
   "title_cell": "Table of Contents",
   "title_sidebar": "Contents",
   "toc_cell": false,
   "toc_position": {},
   "toc_section_display": true,
   "toc_window_display": false
  }
 },
 "nbformat": 4,
 "nbformat_minor": 2
}
