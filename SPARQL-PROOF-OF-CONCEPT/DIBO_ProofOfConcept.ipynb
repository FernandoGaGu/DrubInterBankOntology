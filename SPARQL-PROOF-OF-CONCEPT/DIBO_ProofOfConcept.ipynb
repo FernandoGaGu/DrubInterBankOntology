{
 "cells": [
  {
   "cell_type": "code",
   "execution_count": 85,
   "metadata": {
    "ExecuteTime": {
     "end_time": "2020-01-18T21:30:00.385884Z",
     "start_time": "2020-01-18T21:30:00.377564Z"
    }
   },
   "outputs": [
    {
     "data": {
      "text/html": [
       "<div class=\"krn-spql\"><div class=\"magic\">Endpoint set to: http://192.168.1.121:9999/blazegraph/namespace/DIBOProofOfConcept</div></div>"
      ],
      "text/plain": [
       "Endpoint set to: http://192.168.1.121:9999/blazegraph/namespace/DIBOProofOfConcept\n"
      ]
     },
     "metadata": {},
     "output_type": "display_data"
    }
   ],
   "source": [
    "%endpoint http://192.168.1.121:9999/blazegraph/namespace/DIBOProofOfConcept"
   ]
  },
  {
   "cell_type": "markdown",
   "metadata": {},
   "source": [
    "## Selección de todos los FÁRMACOS, sus EFECTOS y EFECTOS SECUNDARIOS"
   ]
  },
  {
   "cell_type": "code",
   "execution_count": 89,
   "metadata": {
    "ExecuteTime": {
     "end_time": "2020-01-18T21:32:10.287538Z",
     "start_time": "2020-01-18T21:32:10.228362Z"
    }
   },
   "outputs": [
    {
     "data": {
      "text/html": [
       "<div class=\"krn-spql\"><table><tr class=hdr><th>Drug_Name</th>\n",
       "<th>Effect</th>\n",
       "<th>Side_Effect</th></tr><tr class=odd><td class=val>Abemaciclib</td>\n",
       "<td class=val>Cell Cycle Inhibition</td>\n",
       "<td class=val>Anemia</td></tr></table><div class=\"tinfo\">Total: 1, Shown: 1</div></div>"
      ]
     },
     "metadata": {},
     "output_type": "display_data"
    }
   ],
   "source": [
    "PREFIX dibo: <https://w3id.org/def/DIBO#>\n",
    "PREFIX dibo_core: <https://w3id.org/def/DIBO/>\n",
    "PREFIX dibo_data: <https://w3id.org/def/DIBO/ProofOfConcept/>\n",
    "PREFIX rdf: <https://w3id.org/1999/02/22-rdf-syntax-ns#>\n",
    "PREFIX rdfs: <http://www.w3.org/2000/01/rdf-schema#>\n",
    "PREFIX xsd: <'https://w3id.org/2001/XMLSchema#>\n",
    "\n",
    "SELECT (?drugName AS ?Drug_Name) (?effectDescription AS ?Effect) (?sideEffectDescription AS ?Side_Effect)\n",
    "WHERE{\n",
    "    ?drug a dibo_core:Drug ;\n",
    "            dibo:hasScientificName ?drugName ;\n",
    "            dibo:hasEffect ?drugEffect ;\n",
    "            dibo:hasSideEffect ?drugSideEffect .\n",
    "    ?drugEffect rdfs:label ?effectDescription .\n",
    "    ?drugSideEffect rdfs:label ?sideEffectDescription .\n",
    "}"
   ]
  },
  {
   "cell_type": "markdown",
   "metadata": {},
   "source": [
    "## Información sobre el metabolismo del fármaco: ORGANO donde se metaboliza, ENZIMA implicada y VIDA MEDIA."
   ]
  },
  {
   "cell_type": "code",
   "execution_count": 90,
   "metadata": {
    "ExecuteTime": {
     "end_time": "2020-01-18T21:32:23.969387Z",
     "start_time": "2020-01-18T21:32:23.919155Z"
    }
   },
   "outputs": [
    {
     "data": {
      "text/html": [
       "<div class=\"krn-spql\"><table><tr class=hdr><th>Drug_Name</th>\n",
       "<th>Organ</th>\n",
       "<th>Enzyme</th>\n",
       "<th>Half_Life</th></tr><tr class=odd><td class=val>Abemaciclib</td>\n",
       "<td class=val>Liver</td>\n",
       "<td class=val>Cytocrom P450 3A4</td>\n",
       "<td class=val>18.3 hours</td></tr></table><div class=\"tinfo\">Total: 1, Shown: 1</div></div>"
      ]
     },
     "metadata": {},
     "output_type": "display_data"
    }
   ],
   "source": [
    "PREFIX dibo: <https://w3id.org/def/DIBO#>\n",
    "PREFIX dibo_core: <https://w3id.org/def/DIBO/>\n",
    "PREFIX dibo_data: <https://w3id.org/def/DIBO/ProofOfConcept/>\n",
    "PREFIX rdf: <https://w3id.org/1999/02/22-rdf-syntax-ns#>\n",
    "PREFIX rdfs: <http://www.w3.org/2000/01/rdf-schema#>\n",
    "PREFIX xsd: <'https://w3id.org/2001/XMLSchema#>\n",
    "\n",
    "SELECT (?drugName AS ?Drug_Name) (?organName AS ?Organ) (?enzymeName AS ?Enzyme) (?halfLife AS ?Half_Life)\n",
    "WHERE{\n",
    "    ?drug a dibo_core:Drug ;\n",
    "            dibo:hasScientificName ?drugName ;\n",
    "            dibo:metabolizedBy ?enzyme ;\n",
    "            dibo:metabolizedIn ?organ ;\n",
    "            dibo:hasHalfLife ?halfLife .\n",
    "    ?organ rdfs:label ?organName .\n",
    "    ?enzyme dibo:hasName ?enzymeName . \n",
    "}"
   ]
  },
  {
   "cell_type": "markdown",
   "metadata": {},
   "source": [
    "## Información sobre todos los FÁRMACOS que INHIBEN EL CICLO CELULAR, su DIANA y como ACTUAN"
   ]
  },
  {
   "cell_type": "code",
   "execution_count": 125,
   "metadata": {
    "ExecuteTime": {
     "end_time": "2020-01-18T21:44:31.622744Z",
     "start_time": "2020-01-18T21:44:31.574955Z"
    }
   },
   "outputs": [
    {
     "data": {
      "text/html": [
       "<div class=\"krn-spql\"><table><tr class=hdr><th>Drug_Name</th>\n",
       "<th>Target_Name</th>\n",
       "<th>ActingAs</th></tr><tr class=odd><td class=val>Abemaciclib</td>\n",
       "<td class=val>Cyclin-dependent kinases 4</td>\n",
       "<td class=val>Cystein covalent modifier</td></tr><tr class=even><td class=val>Abemaciclib</td>\n",
       "<td class=val>Cyclin-dependent kinases 6</td>\n",
       "<td class=val>Cystein covalent modifier</td></tr></table><div class=\"tinfo\">Total: 2, Shown: 2</div></div>"
      ]
     },
     "metadata": {},
     "output_type": "display_data"
    }
   ],
   "source": [
    "PREFIX dibo: <https://w3id.org/def/DIBO#>\n",
    "PREFIX dibo_core: <https://w3id.org/def/DIBO/>\n",
    "PREFIX dibo_data: <https://w3id.org/def/DIBO/ProofOfConcept/>\n",
    "PREFIX rdf: <https://w3id.org/1999/02/22-rdf-syntax-ns#>\n",
    "PREFIX rdfs: <http://www.w3.org/2000/01/rdf-schema#>\n",
    "PREFIX xsd: <'https://w3id.org/2001/XMLSchema#>\n",
    "SELECT (?drugName AS ?Drug_Name) (?targetName AS ?Target_Name) (?actuationDescription AS ?ActingAs)\n",
    "WHERE{\n",
    "    ?drug a dibo_core:Drug ;\n",
    "            dibo:hasEffect ?effect ;\n",
    "            dibo:hasScientificName ?drugName;\n",
    "            dibo:actingAs ?actuation .\n",
    "    ?effect rdfs:label ?effectDescription .\n",
    "    FILTER REGEX(?effectDescription, \"Cell cycle inhibition\", \"i\")\n",
    "    ?interaction dibo:hasTarget ?target;\n",
    "                 dibo:hasDrug ?drug .\n",
    "    ?actuation rdfs:label ?actuationDescription .\n",
    "    ?target rdfs:label ?targetName .\n",
    "}"
   ]
  }
 ],
 "metadata": {
  "kernelspec": {
   "display_name": "SPARQL",
   "language": "sparql",
   "name": "sparql"
  },
  "language_info": {
   "codemirror_mode": {
    "name": "sparql"
   },
   "mimetype": "application/sparql-query",
   "name": "sparql",
   "pygments_lexer": "sparql-nb"
  },
  "toc": {
   "base_numbering": 1,
   "nav_menu": {},
   "number_sections": true,
   "sideBar": true,
   "skip_h1_title": false,
   "title_cell": "Table of Contents",
   "title_sidebar": "Contents",
   "toc_cell": false,
   "toc_position": {},
   "toc_section_display": true,
   "toc_window_display": false
  }
 },
 "nbformat": 4,
 "nbformat_minor": 2
}
